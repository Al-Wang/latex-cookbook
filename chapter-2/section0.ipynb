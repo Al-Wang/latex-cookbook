{
 "cells": [
  {
   "cell_type": "markdown",
   "metadata": {},
   "source": [
    "# 第二章 LaTeX基础及文档类型\n",
    "\n",
    "## 导言\n",
    "\n",
    "LaTeX作为专门用于制作文档的计算机程序语言，其语法规则是由命令 (command) 和环境 (environment) 构成，基于一些基本命令，如`\\usepackage{}`，我们能调用制作文档所需的宏包。一般而言，在制作文档时，LaTeX的代码结构分为前导 (preamble) 和主体 (body) 两部分，前导部分的代码主要用于申明文档类型、排版样式、所使用的宏包等；主体部分主要用于确定标题、章节、目录等文章结构及创作文档内容。\n",
    "\n",
    "掌握一些常用命令之后，我们便可上手编辑简单的文档。从功能上来说，LaTeX能满足人们对文档制作多样性的要求，我们可以用LaTeX制作各类文档，包括科技文档、技术报告、学位论文、书籍著作、幻灯片、个人简历、信件以及海报，不同的文档类型在文档大小、排版、章节样式方面略有不同，在使用LaTeX制作文档时，我们首先需要对文档类型进行申明，然后再进行文档内容的创作。"
   ]
  },
  {
   "cell_type": "markdown",
   "metadata": {},
   "source": [
    "【继续】[**2.1 LaTeX语法规则**](https://nbviewer.jupyter.org/github/xinychen/latex-cookbook/blob/main/chapter-2/section1.ipynb)"
   ]
  },
  {
   "cell_type": "markdown",
   "metadata": {},
   "source": [
    "### License\n",
    "\n",
    "<div class=\"alert alert-block alert-danger\">\n",
    "<b>This work is released under the MIT license.</b>\n",
    "</div>"
   ]
  }
 ],
 "metadata": {
  "kernelspec": {
   "display_name": "Python 3",
   "language": "python",
   "name": "python3"
  },
  "language_info": {
   "codemirror_mode": {
    "name": "ipython",
    "version": 3
   },
   "file_extension": ".py",
   "mimetype": "text/x-python",
   "name": "python",
   "nbconvert_exporter": "python",
   "pygments_lexer": "ipython3",
   "version": "3.8.3"
  }
 },
 "nbformat": 4,
 "nbformat_minor": 4
}
