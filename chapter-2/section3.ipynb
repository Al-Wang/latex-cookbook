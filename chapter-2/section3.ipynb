{
 "cells": [
  {
   "cell_type": "markdown",
   "metadata": {},
   "source": [
    "## 2.3 文档类型的介绍\n",
    "\n"
   ]
  },
  {
   "cell_type": "markdown",
   "metadata": {},
   "source": [
    "在LaTeX中，有多种常见的文档类型，包括article（常规文档）、report（报告）、book（书籍）、beamer（幻灯片）等，如果使用支持中文编译的ctex文档类型，还会有ctexart（常规文档）、ctexrep（报告）、ctexbook（书籍）等，文档类型会决定整个文档的风格类型。在文档制作开始时，申明文档类型是LaTeX制作文档的第一步，通常也是LaTeX代码的第一行，通常作为前导代码，其一般格式为：\n",
    "\n",
    "```tex\n",
    "\\documentclass[A]{B}\n",
    "```\n",
    "\n",
    "在这行命令中，有两处可供设置文档参数。在位置A的参数可以省略，可以调整的参数包括字体大小、纸张大小、打印设置等，调整方式可见2.2.1，B位置为申明文档类型命令，直接在B处键入所需的文档类型即可完成声明，例如，`\\documentclass[a4paper, 12pt]{article}`即为申明一个A4纸张大小，字体12pt的常规文档。article（常规文档）、report（报告）、book（书籍）是LaTeX最常用的三种类型，下面依次进行简介。\n",
    "\n",
    "### 2.3.1 article类\n",
    "\n",
    "article 类文档是使用LaTeX最常用的文档类型，对于一般的会议、期刊的稿件。对于article类文档，其组成部分可以有part，section，sebsection 等，但没有chapter，可以有摘要，摘要紧接标题头位于第一页上。\n",
    "\n",
    "\n",
    "【**例1**】新建一个文档类型为article的简单文档。\n",
    "\n",
    "```tex\n",
    "\\documentclass[a4paper, 12pt]{article} %声明文档类型\n",
    "\n",
    "\\begin{document}\n",
    "\n",
    "\\begin{abstract} %键入abstract\n",
    "    This is  LaTeX cook-book!\n",
    "\\end{abstract}\n",
    "\n",
    "\\part{TUTORIAL} %part名称\n",
    "\n",
    "\\section{SECTION1} %一级章节标题\n",
    "\n",
    "\\subsection{SUBSECTION1} %二级章节标题\n",
    "\n",
    "\n",
    "Hello, LaTeXers! This is our first LaTeX document.\n",
    "\n",
    "\\end{document}\n",
    "```\n",
    "\n",
    "### 2.3.2 report类\n",
    "\n",
    "report 类文档主要用来排版综述类、长篇论文、学位论文、报告等。对于report 类文档，可以有part，chapter，section，subsection 等，也有摘要，且摘要位于单独一页上。\n",
    "\n",
    "【**例2**】新建一个文档类型为report的简单文档。\n",
    "\n",
    "```tex\n",
    "\\documentclass[a4paper, 12pt]{report}\n",
    "\n",
    "\\begin{document}\n",
    "\n",
    "\\begin{abstract}\n",
    "    This is  LaTeX cook-book!\n",
    "\\end{abstract}\n",
    "\n",
    "\\part{TUTORIAL}\n",
    "\n",
    "\\chapter{DOCUMENT TYPE}\n",
    "\n",
    "\\section{SECTION1}\n",
    "\n",
    "\\subsection{SUBSECTION1}\n",
    "\n",
    "Hello, LaTeXers! This is our first LaTeX document.\n",
    "\n",
    "\\end{document}\n",
    "```\n",
    "\n",
    "### 2.3.3 book类\n",
    "\n",
    "book 类文档主要用来排版出版的书籍，有明显的章节结构。对于book 类文档，可以有part，chapter，section，subsection 等，但没有摘要。\n",
    "\n",
    "\n",
    "【**例3**】新建一个文档类型为book的简单文档。\n",
    "\n",
    "```tex\n",
    "\\documentclass[a4paper, 12pt]{report}\n",
    "\n",
    "\\begin{document}\n",
    "\n",
    "\\part{TUTORIAL}\n",
    "\n",
    "\\chapter{DOCUMENT TYPE}\n",
    "\n",
    "\\section{SECTION1}\n",
    "\n",
    "\\subsection{SUBSECTION1}\n",
    "\n",
    "Hello, LaTeXers! This is our first LaTeX document.\n",
    "\n",
    "\\end{document}\n",
    "```\n",
    "\n"
   ]
  },
  {
   "cell_type": "markdown",
   "metadata": {},
   "source": [
    "### 练习题\n",
    "\n",
    "> 打开LaTeX在线系统[https://www.overleaf.com](https://www.overleaf.com/project)或本地安装好的LaTeX编辑器，创建名为LaTeX_practice的项目，并同时新建一个以`.tex`为拓展名的源文件，完成以下几道练习题。\n",
    "\n",
    "\n"
   ]
  },
  {
   "cell_type": "markdown",
   "metadata": {},
   "source": [
    "【回放】[**2.2 LaTeX代码结构**](https://nbviewer.jupyter.org/github/xinychen/latex-cookbook/blob/main/chapter-2/section2.ipynb)\n",
    "\n",
    "【继续】[**2.4 简单文档的制作**](https://nbviewer.jupyter.org/github/xinychen/latex-cookbook/blob/main/chapter-2/section4.ipynb)"
   ]
  },
  {
   "cell_type": "markdown",
   "metadata": {},
   "source": [
    "### License\n",
    "\n",
    "<div class=\"alert alert-block alert-danger\">\n",
    "<b>This work is released under the MIT license.</b>\n",
    "</div>"
   ]
  }
 ],
 "metadata": {
  "kernelspec": {
   "display_name": "Python 3",
   "language": "python",
   "name": "python3"
  },
  "language_info": {
   "codemirror_mode": {
    "name": "ipython",
    "version": 3
   },
   "file_extension": ".py",
   "mimetype": "text/x-python",
   "name": "python",
   "nbconvert_exporter": "python",
   "pygments_lexer": "ipython3",
   "version": "3.8.3"
  }
 },
 "nbformat": 4,
 "nbformat_minor": 4
}
