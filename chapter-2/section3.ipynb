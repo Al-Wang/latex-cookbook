{
 "cells": [
  {
   "cell_type": "markdown",
   "metadata": {},
   "source": [
    "## 2.3 简单文档的制作\n",
    "\n",
    "通常来说，LaTeX适合制作篇幅较大的文档，其实LaTeX制作篇幅较小的文档比如手稿或者作业也十分方便。在LaTeX的各类文档中，最为常用的文档类型为article (文章)，以下将介绍如何制作一个简单文档。\n",
    "\n",
    "- **申明文档类型**\n",
    "\n",
    "申明文档类型是LaTeX制作文档的第一步，通常也是LaTeX代码的第一行。在这里，我们使用文档类型article，设置页面大小为A4、字体大小为12号，其他参数采用默认设置，相应的代码为\n",
    "\n",
    "```tex\n",
    "\\documentclass[paper = A4, fontsize = 12pt]{article}\n",
    "```\n",
    "\n",
    "这一行代码实际上是前导代码，文档类型的设置会决定整个文档的风格。\n",
    "\n",
    "- **开始创建文档**\n",
    "\n",
    "在LaTeX中，创作内容通常是位于命令`\\begin{document}`和`\\end{document}`之间。\n",
    "\n",
    "- **生成目录**\n",
    "\n",
    "在LaTeX中，我们可以通过一行简单的命令便可以生成文档的目录，即`\\tableofcontents`。\n",
    "\n",
    "- **设置章节**\n",
    "\n",
    "设置章节也可以通过一行简单的命令进行实现，例如`\\section{Introduction}`。\n",
    "\n",
    "- **新增段落**\n",
    "\n",
    "例如，插入如下这段话：\n",
    "\n",
    "```tex\n",
    "This document is our starting point for learning LaTeX and writing with it. It would not be difficult.\n",
    "```\n",
    "\n"
   ]
  },
  {
   "cell_type": "markdown",
   "metadata": {},
   "source": [
    "【回放】[**2.2 LaTeX代码结构**](https://nbviewer.jupyter.org/github/xinychen/latex-cookbook/blob/main/chapter-2/section2.ipynb)\n",
    "\n",
    "【继续】[**2.4**](https://nbviewer.jupyter.org/github/xinychen/latex-cookbook/blob/main/chapter-2/section4.ipynb)"
   ]
  },
  {
   "cell_type": "markdown",
   "metadata": {},
   "source": [
    "### License\n",
    "\n",
    "<div class=\"alert alert-block alert-danger\">\n",
    "<b>This work is released under the MIT license.</b>\n",
    "</div>"
   ]
  }
 ],
 "metadata": {
  "kernelspec": {
   "display_name": "Python 3",
   "language": "python",
   "name": "python3"
  },
  "language_info": {
   "codemirror_mode": {
    "name": "ipython",
    "version": 3
   },
   "file_extension": ".py",
   "mimetype": "text/x-python",
   "name": "python",
   "nbconvert_exporter": "python",
   "pygments_lexer": "ipython3",
   "version": "3.8.3"
  }
 },
 "nbformat": 4,
 "nbformat_minor": 4
}
