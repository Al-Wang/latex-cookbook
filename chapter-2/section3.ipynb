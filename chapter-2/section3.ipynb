{
 "cells": [
  {
   "cell_type": "markdown",
   "metadata": {},
   "source": [
    "## 2.3 文档类型的介绍\n",
    "\n",
    "在LaTeX代码结构中，申明文档类型往往是制作文档的第一步，也是最基本的一步。事实上，不同文档类型对应的文档样式略有不同，但制作不同类型的文档时，LaTeX中的绝大多数命令和环境却是通用的，完成对文档内容的创作后，使用文档类型的申明语句可以让我们在不同类型的文档间切换自如。\n",
    "\n",
    "### 2.3.1 基本介绍\n",
    "\n",
    "对LaTeX熟悉的读者会知道，LaTeX实际上支持非常多的文档类型，例如，撰写科技论文会用到的`article`（常规文档）类型、制作演示文稿会用到的`beamer`（幻灯片）类型。在众多文档类型中，常见的文档类型包括`article`（常规文档）、`report`（报告）、`book`（书籍）、`beamer`（幻灯片）等，如果使用支持中文编译的ctex文档类型，还会有`ctexart`（中文常规文档）、`ctexrep`（中文报告）、`ctexbook`（中文书籍）等，文档类型会直接决定整个文档的样式和风格。\n",
    "\n",
    "使用LaTeX制作文档时，申明文档类型是作为前导代码，其一般格式为：\n",
    "\n",
    "```tex\n",
    "\\documentclass[A]{B}\n",
    "```\n",
    "\n",
    "在这一申明语句中，位置A的作用主要是设置控制全文的文档参数，我们可以调整全文的字体大小、纸张大小、分栏设置等，因为各种文档类型都有一整套的默认参数，所以一般情况可以省略掉位置A。在位置B，我们需要键入特定的文档类型，例如，`\\documentclass[a4paper, 12pt]{article}`即为申明一个A4纸张大小，字体12pt的常规文档。\n",
    "\n",
    "以下将逐一介绍比较常用的三种文档类型，包括`article`（常规文档）、`report`（报告）、`book`（书籍），其中，`report`和`book`这两种文档类型的文档结构是一致的，可以使用的结构命令有`\\part{}`、`\\chapter{}`、`\\section{}`、`\\subsection{}`、`\\subsubsection{}`、`\\paragraph{}`、`\\subparagraph{}`，而`article`文档类型中除了没有`\\chapter{}`这一结构命令之外，其他都与`report`和`book`文档类型是一样的。"
   ]
  },
  {
   "cell_type": "markdown",
   "metadata": {},
   "source": [
    "### 2.3.2 `article`文档类型\n",
    "\n",
    "article 类文档是使用LaTeX最常用的文档类型，对于一般的会议、期刊的稿件。对于article类文档，其组成部分可以有part，section，sebsection 等，但没有chapter，可以有摘要，摘要紧接标题头位于第一页上。\n",
    "\n",
    "\n",
    "【**例1**】新建一个文档类型为article的简单文档。\n",
    "\n",
    "```tex\n",
    "\\documentclass[a4paper, 12pt]{article} %声明文档类型\n",
    "\n",
    "\\begin{document}\n",
    "\n",
    "\\begin{abstract} %键入abstract\n",
    "    This is  LaTeX cook-book!\n",
    "\\end{abstract}\n",
    "\n",
    "\\part{TUTORIAL} %part名称\n",
    "\n",
    "\\section{SECTION1} %一级章节标题\n",
    "\n",
    "\\subsection{SUBSECTION1} %二级章节标题\n",
    "\n",
    "\n",
    "Hello, LaTeXers! This is our first LaTeX document.\n",
    "\n",
    "\\end{document}\n",
    "```\n",
    "\n",
    "### 2.3.3 `report`文档类型\n",
    "\n",
    "report 类文档主要用来排版综述类、长篇论文、学位论文、报告等。对于report 类文档，可以有part，chapter，section，subsection 等，也有摘要，且摘要位于单独一页上。\n",
    "\n",
    "【**例2**】新建一个文档类型为report的简单文档。\n",
    "\n",
    "```tex\n",
    "\\documentclass[a4paper, 12pt]{report}\n",
    "\n",
    "\\begin{document}\n",
    "\n",
    "\\begin{abstract}\n",
    "    This is  LaTeX cook-book!\n",
    "\\end{abstract}\n",
    "\n",
    "\\part{TUTORIAL}\n",
    "\n",
    "\\chapter{DOCUMENT TYPE}\n",
    "\n",
    "\\section{SECTION1}\n",
    "\n",
    "\\subsection{SUBSECTION1}\n",
    "\n",
    "Hello, LaTeXers! This is our first LaTeX document.\n",
    "\n",
    "\\end{document}\n",
    "```\n",
    "\n",
    "### 2.3.4 `book`文档类型\n",
    "\n",
    "book 类文档主要用来排版出版的书籍，有明显的章节结构。对于book 类文档，可以有part，chapter，section，subsection 等，但没有摘要。\n",
    "\n",
    "\n",
    "【**例3**】新建一个文档类型为book的简单文档。\n",
    "\n",
    "```tex\n",
    "\\documentclass[a4paper, 12pt]{report}\n",
    "\n",
    "\\begin{document}\n",
    "\n",
    "\\part{TUTORIAL}\n",
    "\n",
    "\\chapter{DOCUMENT TYPE}\n",
    "\n",
    "\\section{SECTION1}\n",
    "\n",
    "\\subsection{SUBSECTION1}\n",
    "\n",
    "Hello, LaTeXers! This is our first LaTeX document.\n",
    "\n",
    "\\end{document}\n",
    "```\n",
    "\n"
   ]
  },
  {
   "cell_type": "markdown",
   "metadata": {},
   "source": [
    "### 练习题\n",
    "\n",
    "> 打开LaTeX在线系统[https://www.overleaf.com](https://www.overleaf.com/project)或本地安装好的LaTeX编辑器，创建名为LaTeX_practice的项目，并同时新建一个以`.tex`为拓展名的源文件，完成以下几道练习题。\n",
    "\n",
    "\n"
   ]
  },
  {
   "cell_type": "markdown",
   "metadata": {},
   "source": [
    "【回放】[**2.2 LaTeX代码结构**](https://nbviewer.jupyter.org/github/xinychen/latex-cookbook/blob/main/chapter-2/section2.ipynb)\n",
    "\n",
    "【继续】[**2.4 简单文档的制作**](https://nbviewer.jupyter.org/github/xinychen/latex-cookbook/blob/main/chapter-2/section4.ipynb)"
   ]
  },
  {
   "cell_type": "markdown",
   "metadata": {},
   "source": [
    "### License\n",
    "\n",
    "<div class=\"alert alert-block alert-danger\">\n",
    "<b>This work is released under the MIT license.</b>\n",
    "</div>"
   ]
  }
 ],
 "metadata": {
  "kernelspec": {
   "display_name": "Python 3",
   "language": "python",
   "name": "python3"
  },
  "language_info": {
   "codemirror_mode": {
    "name": "ipython",
    "version": 3
   },
   "file_extension": ".py",
   "mimetype": "text/x-python",
   "name": "python",
   "nbconvert_exporter": "python",
   "pygments_lexer": "ipython3",
   "version": "3.8.3"
  }
 },
 "nbformat": 4,
 "nbformat_minor": 4
}
