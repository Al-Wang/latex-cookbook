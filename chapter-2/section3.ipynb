{
 "cells": [
  {
   "cell_type": "markdown",
   "metadata": {},
   "source": [
    "## 2.3 简单文档的制作\n",
    "\n",
    "通常来说，LaTeX适合制作篇幅较大的文档，实际上LaTeX制作篇幅较小的文档比如手稿或者作业也十分方便。在LaTeX的各类文档中，最为常用的文档类型为article (文章)，以下将介绍如何制作一个简单文档。\n",
    "\n",
    "### 2.3.1 申明文档类型\n",
    "\n",
    "申明文档类型是LaTeX制作文档的第一步，通常也是LaTeX代码的第一行，通常作为前导代码，其一般格式为：\n",
    "\n",
    "```tex\n",
    "\\documentclass[A]{B}\n",
    "```\n",
    "\n",
    "在这行命令中，有两处可供设置文档参数。在位置A，可以调整的参数包括：\n",
    "\n",
    "- 字体大小：默认的字体大小为10pt，也可根据需要调整至11pt、12pt等，例如`\\documentclass[11pt]{article}`；\n",
    "- 纸张大小：默认的纸张为letterpaper，当然，最常见的纸张大小为A4，即`\\documentclass[a4paper]{article}`；\n",
    "- 单双面设置：不同文档类型默认的单双面有所不同，根据需要，我们可以设置单面（onside）和双面（twoside），例如`\\documentclass[twoside]{article}`。\n",
    "\n",
    "有了这几组可供调整的参数，我们可以不管顺序任意组合，例如`\\documentclass[a4paper, 11pt, twoside]{article}`对应着文档类型为article、纸张大小为A4、字体大小为11pt的双面文档。当然，也可以按照这样的形式设置文档参数：\n",
    "\n",
    "```tex\n",
    "\\documentclass[paper = a4paper, fontsize = 12pt]{article}\n",
    "```\n",
    "\n",
    "在位置B，有几种常见的文档类型，包括article（常规文档）、report（报告）、book（书籍）、beamer（幻灯片）等，如果使用支持中文编译的ctex文档类型，还会有ctexart（常规文档）、ctexrep（报告）、ctexbook（书籍）等。实际上，申明文档类型会决定整个文档的风格类型。\n",
    "\n",
    "### 2.3.2 添加标题、日期、作者信息\n",
    "\n",
    "添加标题、日期、作者信息一般是在`\\begin{document}`之前，格式如下：\n",
    "\n",
    "```tex\n",
    "% 输入空格表示空的\n",
    "\\title{标题}\n",
    "\\author{作者名字}\n",
    "\\date{日期}\n",
    "```\n",
    "\n",
    "### 2.3.3 开始创建文档\n",
    "\n",
    "在LaTeX中，以`\\begin{document}`命令为分界线，该命令之前的代码都统称为前导代码，这些代码能设置全局参数。位于`\\begin{document}`和`\\end{document}`之间的代码被视为主体代码，我们所创作文档的具体内容也都是放在这两个命令之间。另外，以`\\begin{}`和`\\end{}`这种形式定义的命令还有很多，在主体代码中，我们可以使用`\\begin{itemize}`和`\\end{itemize}`定义无序列表。\n",
    "\n",
    "### 2.3.4 生成目录\n",
    "\n",
    "在LaTeX中，我们可以通过一行简单的命令便可以生成文档的目录，即`\\tableofcontents`。如果想让文档正文内容与目录不在同一页，可在`\\tableofcontents`命令后使用`\\newpage`命令或者`clearpage`命令。\n",
    "\n",
    "### 2.3.5 设置章节\n",
    "\n",
    "设置章节也可以通过一行简单的命令进行实现，例如`\\section{Introduction}`。\n",
    "\n",
    "### 2.3.6 新增段落\n",
    "\n",
    "例如，插入如下这段话：\n",
    "\n",
    "```tex\n",
    "This document is our starting point for learning LaTeX and writing with it. It would not be difficult.\n",
    "```\n",
    "\n"
   ]
  },
  {
   "cell_type": "markdown",
   "metadata": {},
   "source": [
    "【回放】[**2.2 LaTeX代码结构**](https://nbviewer.jupyter.org/github/xinychen/latex-cookbook/blob/main/chapter-2/section2.ipynb)\n",
    "\n",
    "【继续】[**2.4**](https://nbviewer.jupyter.org/github/xinychen/latex-cookbook/blob/main/chapter-2/section4.ipynb)"
   ]
  },
  {
   "cell_type": "markdown",
   "metadata": {},
   "source": [
    "### License\n",
    "\n",
    "<div class=\"alert alert-block alert-danger\">\n",
    "<b>This work is released under the MIT license.</b>\n",
    "</div>"
   ]
  }
 ],
 "metadata": {
  "kernelspec": {
   "display_name": "Python 3",
   "language": "python",
   "name": "python3"
  },
  "language_info": {
   "codemirror_mode": {
    "name": "ipython",
    "version": 3
   },
   "file_extension": ".py",
   "mimetype": "text/x-python",
   "name": "python",
   "nbconvert_exporter": "python",
   "pygments_lexer": "ipython3",
   "version": "3.8.3"
  }
 },
 "nbformat": 4,
 "nbformat_minor": 4
}
