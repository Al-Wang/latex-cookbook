{
 "cells": [
  {
   "cell_type": "markdown",
   "metadata": {},
   "source": [
    "## 2.1 LaTeX语法规则\n",
    "\n",
    "一般而言，LaTeX的语法规则是由命令和环境构成。在LaTeX中，不管是命令还是环境，都离不开计算机符号反斜线`\\`，例如调用工具包会用到`\\usepackage{工具包名称}`，这里的花括号`{}`也是非常常用的一个符号。\n",
    "\n",
    "命令的用法都是由工具包约定的，\n",
    "\n",
    "### 2.1.1 命令\n",
    "\n",
    "LaTeX中有很多命令，它们用法大同小异，但功能却千差万别，既有申明文档类型的命令，如`\\documentclass{article}`，也有输入特殊符号的命令，例如`\\copyright`。一般而言，LaTeX中的这些命令有以下特点：\n",
    "\n",
    "- 通常都是以反斜线作为开始，通过紧跟的既定字符实现相应的功能，例如`\\LaTeX`和`\\copyright`可生成特殊字符。\n",
    "- 一些命令需要申明一些参数，例如`\\color{blue}`命令中需要申明具体的颜色名称。\n",
    "- 一些命令包括一些选项和一些参数，例如在`\\documentclass[a4paper]{article}`中，中括号`[]`作为额外的选项，既可以自行设置，也可以选择默认设置。\n",
    "- 有些命令可以用反斜线作为终止，例如`\\copyright\\`。\n",
    "\n",
    "### 2.1.2 环境\n",
    "\n",
    "这里所说的“环境”是指编译环境，使用LaTeX时，当我们想要编译出期望的效果，例如列表、插入图形、制作表格，我们就需要用到一些环境。举例来说，我们可以通过\n",
    "\n",
    "```tex\n",
    "\\begin{itemize}\n",
    "\\item item 1 % 条目1\n",
    "\\item item 2 % 条目2\n",
    "\\end{itemize}\n",
    "```\n",
    "\n",
    "制作一个简单的无需列表。当然，这些环境并非“一成不变”，我们也可以设置一些参数，从而改变编译之后的文档效果，例如，可以通过\n",
    "\n",
    "```tex\n",
    "\\begin{spacing}\n",
    "paragraph 1 % 第1段\n",
    "\n",
    "paragraph 2 % 第2段\n",
    "\\end{spacing}\n",
    "```\n",
    "将两段话之间的行间距设置为1.3倍。\n",
    "\n",
    "### 2.1.3 工具包\n",
    "\n",
    "工具包是LaTeX的重要组成部分，也是支撑LaTeX实现一系列复杂文档编辑和排版的关键所在。在LaTeX中，如果想要使用某一特定工具包，最简单的办法就是用`\\usepackage{}`命令对工具包进行调用。举例来说，\n",
    "\n",
    "```tex\n",
    "\\usepackage{amsmath} % 调用数学公式工具包\n",
    "\\usepackage{color}   % 调用颜色工具包\n",
    "```\n",
    "\n",
    "调用工具包的形式大同小异。"
   ]
  },
  {
   "cell_type": "markdown",
   "metadata": {},
   "source": [
    "【回放】[**导言**](https://nbviewer.jupyter.org/github/xinychen/latex-cookbook/blob/main/chapter-2/section0.ipynb)\n",
    "\n",
    "【继续】[**2.2 LaTeX代码结构**](https://nbviewer.jupyter.org/github/xinychen/latex-cookbook/blob/main/chapter-2/section2.ipynb)"
   ]
  },
  {
   "cell_type": "markdown",
   "metadata": {},
   "source": [
    "### License\n",
    "\n",
    "<div class=\"alert alert-block alert-danger\">\n",
    "<b>This work is released under the MIT license.</b>\n",
    "</div>"
   ]
  }
 ],
 "metadata": {
  "kernelspec": {
   "display_name": "Python 3",
   "language": "python",
   "name": "python3"
  },
  "language_info": {
   "codemirror_mode": {
    "name": "ipython",
    "version": 3
   },
   "file_extension": ".py",
   "mimetype": "text/x-python",
   "name": "python",
   "nbconvert_exporter": "python",
   "pygments_lexer": "ipython3",
   "version": "3.8.3"
  }
 },
 "nbformat": 4,
 "nbformat_minor": 4
}
