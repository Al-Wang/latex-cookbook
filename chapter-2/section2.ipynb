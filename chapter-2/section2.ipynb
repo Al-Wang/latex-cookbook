{
 "cells": [
  {
   "cell_type": "markdown",
   "metadata": {},
   "source": [
    "## 2.2 LaTeX代码结构\n",
    "\n",
    "通常来说，LaTeX源文件的拓展名为`.tex`，我们可在源文件中书写代码，然后通过编译，生成一个PDF格式的文档。从结构上说，LaTeX代码包括前导代码（preamble）和主体代码（body）。\n",
    "\n",
    "```tex\n",
    "\\documentclass[]{}\n",
    "\n",
    "...... % 前导代码（preamble）\n",
    "\n",
    "\\begin{document}\n",
    "\n",
    "...... % 主体代码（body）\n",
    "\n",
    "\\end{document}\n",
    "```\n",
    "\n",
    "前导代码一般作为LaTeX代码的第一部分，既可设置文档的全局参数，包括文档类型、页眉页脚、纸张大小、字体大小等，也可调用主体代码中需要用到的工具包，如插入图形、新增表格所要用到的工具包。当然，如果没有特殊申明，前导代码也可以简单写成`\\documentclass{B}`，其中，位置B的作用在于申明文档类型，如article、report、beamer等。\n",
    "\n",
    "主体代码一般由文档的创作内容构成，配合一些基本命令的使用，最终形成我们期望的文档。在其他程序语言中，我们通常会用“Hello world!”作为入门第一课，在这里，我们也可以用它来创建一个简单的文档，代码如下：\n",
    "\n",
    "```tex\n",
    "\\documentclass{article}\n",
    "\\begin{document}\n",
    "Hello world!\n",
    "\\end{document}\n",
    "```\n",
    "\n",
    "> 在Overleaf中创建一个简单的项目，将这几行代码放入`.tex`文件就可以编译出相应的PDF文档。\n",
    "\n"
   ]
  },
  {
   "cell_type": "markdown",
   "metadata": {},
   "source": [
    "【回放】[**2.1 LaTeX语法规则**](https://nbviewer.jupyter.org/github/xinychen/latex-cookbook/blob/main/chapter-2/section1.ipynb)\n",
    "\n",
    "【继续】[**2.3 简单文档的制作**](https://nbviewer.jupyter.org/github/xinychen/latex-cookbook/blob/main/chapter-2/section3.ipynb)"
   ]
  },
  {
   "cell_type": "markdown",
   "metadata": {},
   "source": [
    "### License\n",
    "\n",
    "<div class=\"alert alert-block alert-danger\">\n",
    "<b>This work is released under the MIT license.</b>\n",
    "</div>"
   ]
  }
 ],
 "metadata": {
  "kernelspec": {
   "display_name": "Python 3",
   "language": "python",
   "name": "python3"
  },
  "language_info": {
   "codemirror_mode": {
    "name": "ipython",
    "version": 3
   },
   "file_extension": ".py",
   "mimetype": "text/x-python",
   "name": "python",
   "nbconvert_exporter": "python",
   "pygments_lexer": "ipython3",
   "version": "3.8.3"
  }
 },
 "nbformat": 4,
 "nbformat_minor": 4
}
