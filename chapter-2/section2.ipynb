{
 "cells": [
  {
   "cell_type": "markdown",
   "metadata": {},
   "source": [
    "## 2.2 LaTeX代码结构\n",
    "\n",
    "在使用LaTeX进行文档编辑时，我们通常在拓展名为`.tex`的源文件中书写代码，然后通过编译，生成一个PDF格式的文档。LaTeX源文件的代码结构主要包含两个部分，即前导代码（preamble）和主体代码（body），其结构示例如下：\n",
    "\n",
    "```tex\n",
    "\\documentclass[]{}\n",
    "\n",
    "...... % 前导代码（preamble）\n",
    "\n",
    "\\begin{document}\n",
    "\n",
    "...... % 主体代码（body）\n",
    "\n",
    "\\end{document}\n",
    "```\n",
    "\n",
    "### 2.2.1 前导代码\n",
    "\n",
    "前导代码为源文件第一行`\\documentclass{B}`开始，到`\\begin{document}`之间的所有命令语句，一般为LaTeX代码的第一部分，既可设置文档的全局参数，包括文档类型、页眉页脚、纸张大小、字体大小等，也可调用主体代码中需要用到的宏包，如插入图形、新增表格所要用到的宏包。当全局格式没有特殊申明时，前导代码可以简单写成`\\documentclass{B}`，其中，位置B的作用在于申明文档类型，如article（常规文档）、book（书籍）、report（报告）、beamer（幻灯片）等。\n",
    "\n",
    "在申明文档类型时，全局参数具体包括：\n",
    "\n",
    "- 字体大小：默认为10pt，可根据需要设置成11pt和12pt。\n",
    "- 纸张大小：默认为letterpaper，可根据需要设置成a4paper、a5paper、b5paper、legalpaper和executivepaper。\n",
    "- 纸张方向：默认为portrait（横向），也可以设置成landscape（纵向）。\n",
    "- 文字分栏：默认为onecolumn（不分栏），也可以设置为twocolumn（两栏）。\n",
    "- 打印类型：文档类型article和report默认的是oneside（即单面），而文档类型book默认的则是twoside（即双面）。\n",
    "\n",
    "当然，除了这几个最为常用的全局参数外，还有其他全局参数可供调整，不过考虑到其他全局参数用到的机会比较少，这里不做过多讨论。\n",
    "\n",
    "> 字体大小设置中的基本单位pt是英文单词point的缩写，是一个物理长度单位，指的是72分之一英寸，即1pt等于1/72英寸。\n",
    "\n",
    "【**例1**】创建一个简单文档，并调整页边距为25mm。\n",
    "\n",
    "```tex\n",
    "\\documentclass[11pt]{article}\n",
    "\\usepackage[margin = 25mm]{geometry}\n",
    "\n",
    "\\begin{document}\n",
    "A simple document.\n",
    "\\end{document}\n",
    "```\n",
    "\n",
    "### 2.2.2 主体代码\n",
    "\n",
    "主体代码为`\\begin{document}`及`\\end{document}`之间所有的命令语句和文本，一般由文档的创作内容构成，配合一些基本命令的使用，最终形成我们期望的文档。在其他程序语言中，我们通常会用“Hello world!”作为入门第一课，在这里，我们也可以用它来创建一个简单的文档，代码如下：\n",
    "\n",
    "```tex\n",
    "\\documentclass{article}\n",
    "\\begin{document}\n",
    "Hello world!\n",
    "\\end{document}\n",
    "```\n",
    "\n",
    "> 在Overleaf中创建一个简单的项目，将这几行代码放入`.tex`文件就可以编译出相应的PDF文档。\n",
    "\n"
   ]
  },
  {
   "cell_type": "markdown",
   "metadata": {},
   "source": [
    "【回放】[**2.1 LaTeX语法规则**](https://nbviewer.jupyter.org/github/xinychen/latex-cookbook/blob/main/chapter-2/section1.ipynb)\n",
    "\n",
    "【继续】[**2.3 简单文档的制作**](https://nbviewer.jupyter.org/github/xinychen/latex-cookbook/blob/main/chapter-2/section3.ipynb)"
   ]
  },
  {
   "cell_type": "markdown",
   "metadata": {},
   "source": [
    "### License\n",
    "\n",
    "<div class=\"alert alert-block alert-danger\">\n",
    "<b>This work is released under the MIT license.</b>\n",
    "</div>"
   ]
  }
 ],
 "metadata": {
  "kernelspec": {
   "display_name": "Python 3",
   "language": "python",
   "name": "python3"
  },
  "language_info": {
   "codemirror_mode": {
    "name": "ipython",
    "version": 3
   },
   "file_extension": ".py",
   "mimetype": "text/x-python",
   "name": "python",
   "nbconvert_exporter": "python",
   "pygments_lexer": "ipython3",
   "version": "3.8.3"
  }
 },
 "nbformat": 4,
 "nbformat_minor": 4
}
