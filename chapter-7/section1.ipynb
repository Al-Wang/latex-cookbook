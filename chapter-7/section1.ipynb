{
 "cells": [
  {
   "cell_type": "markdown",
   "metadata": {},
   "source": [
    "## 7.1 基本介绍\n",
    "\n",
    "`TikZ`宏包是在LaTeX中创建图形元素的最复杂和最强大的工具。在本节中，我们将通过一些简单的示例来介绍如何在`tikzpicture`环境中创建基本的图形元素，如：点、线、曲线、圆、矩形等。\n",
    "\n",
    "### 7.1.1 使用`tikzpicture`环境创建图形元素\n",
    "\n",
    "首先，我们需要通过`\\usepackage{tikz}`命令调用`tikz`宏包。在绘制图形之前，需要声明一个`tikzpicture`环境。\n",
    "\n",
    "【**例1**】使用`tikzpicture`环境制作一个简单的图形。\n",
    "\n",
    "```tex\n",
    "\\documentclass[12pt]{article}\n",
    "\\usepackage{tikz}\n",
    "\\begin{document}\n",
    "\n",
    "\\begin{tikzpicture}\n",
    "    \\draw[gray, thick] (-1,2) -- (2,-4);\n",
    "    \\draw[gray, thick] (-1,-1) -- (2,2);\n",
    "    \\filldraw[black] (0,0) circle (2pt) node[anchor=west] {Intersection point};\n",
    "\\end{tikzpicture}\n",
    "\n",
    "\\end{document}\n",
    "```\n",
    "\n",
    "【**例2**】使用`tikz`宏包中的`tikzpicture`环境创建一个张量网络图。\n",
    "\n",
    "```tex\n",
    "\\documentclass[border=0.3cm, 11pt]{standalone}\n",
    "\\usepackage{tikz}\n",
    "\\usepackage{amsmath, amssymb, amsfonts}\n",
    "\\usepackage{color}\n",
    "\n",
    "\\begin{document}\n",
    "\\begin{tikzpicture}\n",
    "\n",
    "\\node[circle, line width = 0.4mm, draw = black, fill = red!45, inner sep = 0pt, minimum size = 0.4cm] (w) at (0, 0) {};\n",
    "\\node at (0, 0.5) {\\small{$\\boldsymbol{W}$}};\n",
    "\n",
    "\\node[circle, line width = 0.4mm, draw = black, fill = red!45, inner sep = 0pt, minimum size = 0.4cm] (g) at (1.5, 0) {};\n",
    "\\node at (1.5, 0.5) {\\small{$\\boldsymbol{\\mathcal{G}}$}};\n",
    "\n",
    "\\node[circle, line width = 0.4mm, draw = black, fill = red!45, inner sep = 0pt, minimum size = 0.4cm] (v) at (3, 0) {};\n",
    "\\node at (3, 0.5) {\\small{$\\boldsymbol{V}$}};\n",
    "\n",
    "\\path [draw, line width = 0.4mm, -] (w) edge (g);\n",
    "\\node at (0.75, 0.25) {\\small{$R$}};\n",
    "\\path [draw, line width = 0.4mm, -] (g) edge (v);\n",
    "\\node at (2.25, 0.25) {\\small{$K$}};\n",
    "\n",
    "\\draw [line width = 0.4mm] (w) -- (0, -0.8);\n",
    "\\node at (-0.25, -0.4) {\\small{$N$}};\n",
    "\\draw [line width = 0.4mm] (g) -- (1.5, -0.8);\n",
    "\\node at (1.5-0.25, -0.4) {\\small{$N$}};\n",
    "\\draw [line width = 0.4mm] (v) -- (3, -0.8);\n",
    "\\node at (3-0.25, -0.4) {\\small{$d$}};\n",
    "\n",
    "\\end{tikzpicture}\n",
    "\\end{document}\n",
    "```\n",
    "\n",
    "编译上述代码，得到图形如图7.1.2所示。\n",
    "\n",
    "<p align=\"center\">\n",
    "<img align=\"middle\" src=\"graphics/example_sec1_2.png\" width=\"350\" />\n",
    "</p>\n",
    "\n",
    "<center><b>图7.1.2</b> 编译后的图形效果</center>\n"
   ]
  },
  {
   "cell_type": "markdown",
   "metadata": {},
   "source": [
    "【回放】[**导言**](https://nbviewer.jupyter.org/github/xinychen/latex-cookbook/blob/main/chapter-7/section0.ipynb)\n",
    "\n",
    "【继续】[**7.2 ...**](https://nbviewer.jupyter.org/github/xinychen/latex-cookbook/blob/main/chapter-7/section2.ipynb)"
   ]
  },
  {
   "cell_type": "markdown",
   "metadata": {},
   "source": [
    "### License\n",
    "\n",
    "<div class=\"alert alert-block alert-danger\">\n",
    "<b>This work is released under the MIT license.</b>\n",
    "</div>"
   ]
  }
 ],
 "metadata": {
  "kernelspec": {
   "display_name": "Python 3",
   "language": "python",
   "name": "python3"
  },
  "language_info": {
   "codemirror_mode": {
    "name": "ipython",
    "version": 3
   },
   "file_extension": ".py",
   "mimetype": "text/x-python",
   "name": "python",
   "nbconvert_exporter": "python",
   "pygments_lexer": "ipython3",
   "version": "3.8.3"
  }
 },
 "nbformat": 4,
 "nbformat_minor": 4
}
