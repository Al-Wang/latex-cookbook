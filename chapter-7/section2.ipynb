{
 "cells": [
  {
   "cell_type": "markdown",
   "metadata": {},
   "source": [
    "## 7.2 高级功能\n",
    "\n",
    "在本节中，我们将介绍除直线以外的复杂功能，如:区域填充、非规则曲线、复杂函数绘图等等。\n",
    "**（完成此节后在此处插入详细介绍）**\n",
    "\n",
    "\n",
    "### 7.2.1 矩形、圆形、曲线\n",
    "\n",
    "我们可以通过`\\draw (x,y) rectangle (w,h);`的方式绘制一个矩形，其左下角坐标位于点($x$,$y$)处，长度为$w$，高度为$h$。类似地，我们也可以通过`\\draw (x,y) circle [radius=r];`的方式绘制一个圆形，其圆心落在点($x$,$y$)处，半径为$r$。除此之外，我们可以通过`\\draw (x,y) arc [radius=r, start angle=a1, end angle=a2]`的方式绘制一条弧线，它从点($x$,$y$)处开始绘制，该弧线曲率半径为$r$，其起始角度为所对应曲率圆的$a_1$处，终止角度为所对应曲率圆的$a_2$处。\n",
    "\n",
    "【**例1**】按上述介绍，绘制矩形、圆形以曲线。\n",
    "\n",
    "```tex\n",
    "\\documentclass[12pt]{article}\n",
    "\\usepackage{tikz}\n",
    "\\begin{document}\n",
    "\n",
    "\\begin{tikzpicture}\n",
    "\n",
    "    \\draw [red] (0,0) rectangle (1.5,1);\n",
    "    \\draw [blue, ultra thick] (3,0.5) circle [radius=0.5];\n",
    "    \\draw [green] (6,0) arc [radius=1.5, start angle=45, end angle= 100];\n",
    "\n",
    "\\end{tikzpicture}\n",
    "\n",
    "\\end{document}\n",
    "```\n",
    "编译上述代码，得到图形如图7.2.1所示。\n",
    "\n",
    "<p align=\"center\">\n",
    "<img align=\"middle\" src=\"graphics/example_sec7_2_1.png\" width=\"350\" />\n",
    "</p>\n",
    "\n",
    "<center><b>图7.2.1</b> 编译后的图形效果</center>\n"
   ]
  },
  {
   "cell_type": "markdown",
   "metadata": {},
   "source": [
    "【回放】[**7.1 基本介绍**](https://nbviewer.jupyter.org/github/xinychen/latex-cookbook/blob/main/chapter-7/section1.ipynb)\n",
    "\n",
    "【继续】[**7.3 复杂模型实战解析**](https://nbviewer.jupyter.org/github/xinychen/latex-cookbook/blob/main/chapter-7/section3.ipynb)"
   ]
  },
  {
   "cell_type": "markdown",
   "metadata": {},
   "source": [
    "### License\n",
    "\n",
    "<div class=\"alert alert-block alert-danger\">\n",
    "<b>This work is released under the MIT license.</b>\n",
    "</div>"
   ]
  }
 ],
 "metadata": {
  "kernelspec": {
   "display_name": "Python 3",
   "language": "python",
   "name": "python3"
  },
  "language_info": {
   "codemirror_mode": {
    "name": "ipython",
    "version": 3
   },
   "file_extension": ".py",
   "mimetype": "text/x-python",
   "name": "python",
   "nbconvert_exporter": "python",
   "pygments_lexer": "ipython3",
   "version": "3.6.5"
  }
 },
 "nbformat": 4,
 "nbformat_minor": 4
}
