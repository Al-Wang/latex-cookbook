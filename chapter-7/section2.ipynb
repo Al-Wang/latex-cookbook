{
 "cells": [
  {
   "cell_type": "markdown",
   "metadata": {},
   "source": [
    "## 7.2 高级功能\n",
    "\n",
    "区域填充、非规则曲线、复杂函数绘图。。。\n",
    "\n",
    "### 7.2.1 xxx\n",
    "\n",
    "首先，\n",
    "\n",
    "【**例1**】..。\n",
    "\n",
    "```tex\n",
    "\\documentclass[12pt]{article}\n",
    "\\usepackage{tikz}\n",
    "\\begin{document}\n",
    "\n",
    "\\begin{tikzpicture}\n",
    "\n",
    "  \\draw[red,fill=red] (0,0) .. controls (0,0.75) and (-1.5,1.00) .. (-1.5,2)  arc (180:0:0.75)  -- cycle;\n",
    "  \\draw[red,fill=red] (0,0) .. controls (0,0.75) and ( 1.5,1.00) .. ( 1.5,2)  arc (0:180:0.75) -- cycle;\n",
    "  \n",
    "\\end{tikzpicture}\n",
    "\n",
    "\\end{document}\n",
    "```\n",
    "编译上述代码，得到图形如图7.1.1所示。\n",
    "\n",
    "<p align=\"center\">\n",
    "<img align=\"middle\" src=\"graphics/example_sec7_1_1.png\" width=\"200\" />\n",
    "</p>\n",
    "\n",
    "<center><b>图7.1.1</b> 编译后的图形效果</center>\n"
   ]
  },
  {
   "cell_type": "markdown",
   "metadata": {},
   "source": [
    "【回放】[**7.1 基本介绍**](https://nbviewer.jupyter.org/github/xinychen/latex-cookbook/blob/main/chapter-7/section1.ipynb)\n",
    "\n",
    "【继续】[**7.3 复杂模型实战解析**](https://nbviewer.jupyter.org/github/xinychen/latex-cookbook/blob/main/chapter-7/section3.ipynb)"
   ]
  },
  {
   "cell_type": "markdown",
   "metadata": {},
   "source": [
    "### License\n",
    "\n",
    "<div class=\"alert alert-block alert-danger\">\n",
    "<b>This work is released under the MIT license.</b>\n",
    "</div>"
   ]
  }
 ],
 "metadata": {
  "kernelspec": {
   "display_name": "Python 3",
   "language": "python",
   "name": "python3"
  },
  "language_info": {
   "codemirror_mode": {
    "name": "ipython",
    "version": 3
   },
   "file_extension": ".py",
   "mimetype": "text/x-python",
   "name": "python",
   "nbconvert_exporter": "python",
   "pygments_lexer": "ipython3",
   "version": "3.6.5"
  }
 },
 "nbformat": 4,
 "nbformat_minor": 4
}
