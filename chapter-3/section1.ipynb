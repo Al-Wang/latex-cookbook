{
 "cells": [
  {
   "cell_type": "markdown",
   "metadata": {},
   "source": [
    "## 3.1 创建章节\n",
    "\n",
    "在我们撰写文档时，不管是学术文章还是书籍，都需要创建章节来优化文章的层次结构。在LaTeX中，我们可以使用`\\section{}`命令创建章节，其中二级章节用`\\subsection{}`命令创建，章节名称填写在`{}`中。\n",
    "\n",
    "【**例1**】使用`\\section{}`及`\\subsection{}`命令创建两级章节。\n",
    "\n",
    "```tex\n",
    "\\documentclass[12pt]{article}\n",
    "\\begin{document}\n",
    "\n",
    "\\section{Text Editing}\n",
    "\\subsection{Text}\n",
    "\\subsection{List}\n",
    "\\subsection{Section}\n",
    "\n",
    "\\end{document}\n",
    "```\n",
    "\n",
    "在我们撰写不同类型或不同期刊的文章时，不同的出版商所要求的章节标题格式不一样。因此，我们需要根据不的需要调整章节标题的格式。常见的格式调整包括去除章节编号及改变标题字体样式等。在LaTeX中，我们在创建章节命令中加入一个星号命令来去除章节编号，如`\\section*{}`命令；对于改变字体样式，我们需要使用`titlesec`宏包，使用该宏包中的命令`\\titleformat*{}{}`来改变字体样式。\n",
    "\n",
    "【**例2**】使用`\\section*{}`删除章节标题，并使用`titlesec`宏包改变章节标题字体样式。\n",
    "\n",
    "```tex\n",
    "\\documentclass[12pt]{article}\n",
    "\\usepackage{titlesec}\n",
    "\\titleformat*{\\subsection}{\\Large\\sectionef}\n",
    "\n",
    "\\begin{document}\n",
    "\n",
    "\\section*{Text Editing}\n",
    "\\subsection{Text}\n",
    "\\subsection{List}\n",
    "\\subsection{Section}\n",
    "\n",
    "\\end{document}\n",
    "```\n",
    "\n",
    "当然，有时我们也会遇到一些出版商要求我们将标题居中显示，在LaTeX中，我们可以用到`\\sectionfont{\\centering}`使标题居中。\n",
    "\n",
    "【**例3**】使用`\\sectionfont{\\centering}`命令将标题居中。\n",
    "\n",
    "```tex\n",
    "\\documentclass[12pt]{article}\n",
    "\\sectionfont{\\centering}\n",
    "\n",
    "\\begin{document}\n",
    "\n",
    "\\section{Text Editing}\n",
    "\\subsection{Text}\n",
    "\\subsection{List}\n",
    "\\subsection{Section}\n",
    "\n",
    "\\end{document}\n",
    "```\n"
   ]
  },
  {
   "cell_type": "markdown",
   "metadata": {},
   "source": [
    "【回放】[**导言**](https://nbviewer.jupyter.org/github/xinychen/latex-cookbook/blob/main/chapter-3/section0.ipynb)\n",
    "\n",
    "【继续】[**3.2 编辑段落**](https://nbviewer.jupyter.org/github/xinychen/latex-cookbook/blob/main/chapter-3/section2.ipynb)"
   ]
  },
  {
   "cell_type": "markdown",
   "metadata": {},
   "source": [
    "### License\n",
    "\n",
    "<div class=\"alert alert-block alert-danger\">\n",
    "<b>This work is released under the MIT license.</b>\n",
    "</div>"
   ]
  },
  {
   "cell_type": "code",
   "execution_count": null,
   "metadata": {},
   "outputs": [],
   "source": []
  }
 ],
 "metadata": {
  "kernelspec": {
   "display_name": "Python 3",
   "language": "python",
   "name": "python3"
  },
  "language_info": {
   "codemirror_mode": {
    "name": "ipython",
    "version": 3
   },
   "file_extension": ".py",
   "mimetype": "text/x-python",
   "name": "python",
   "nbconvert_exporter": "python",
   "pygments_lexer": "ipython3",
   "version": "3.8.3"
  }
 },
 "nbformat": 4,
 "nbformat_minor": 4
}
