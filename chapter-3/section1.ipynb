{
 "cells": [
  {
   "cell_type": "markdown",
   "metadata": {},
   "source": [
    "## 3.1 文字编辑\n",
    "\n",
    "文字编辑主要关注如何调整字体样式、字体设置、增加下划线、突出文字、调整字体大小、调整对齐格式等内容。\n",
    "\n",
    "### 3.1.1 调整字体样式\n",
    "\n",
    "调整文字的样式有很多对应的命令，这些命令包括`\\textit`、`\\textbf`、`\\textsc`、`\\texttt`，在使用的过程中，需要用到花括号`{}`。具体而言，`\\textit`对应着斜体字，`\\textbf`对应着粗体字，`\\textsc`对应着小型大写字母，`\\texttt`对应着打印机字体（即等宽字体）。\n",
    "\n",
    "【**例1**】使用`\\textit`、`\\textbf`、`\\textsc`、`\\texttt`对字体样式进行调整。\n",
    "\n",
    "```tex\n",
    "\\documentclass[12pt]{article}\n",
    "\\begin{document}\n",
    "\n",
    "Generate \\textit{italicized} text. \\\\      % 生成斜体字的文本\n",
    "Generate \\textbf{bold face} text. \\\\       % 生成粗体字的文本\n",
    "Generate \\textsc{small caps} text. \\\\      % 生成小型大写字母的文本\n",
    "Generate \\texttt{typewriter font} text. \\\\ % 生成打字机字体的文本\n",
    "Generate \\underline{underlined} text. \\\\   % 生成带下划线的文本\n",
    "\n",
    "\\end{document}\n",
    "```\n",
    "\n",
    "一般而言，当我们需要对段落、句子、关键词等做特殊标记时，往往会用到上述几种字体样式，其中，打字机字体主要用于代码的排版，有时候，如果需要添加一个网站，通常也会选用打字机字体对文本进行突出，例如`\\texttt{https://www.overleaf.com}`。\n",
    "\n",
    "### 3.1.2 调整字体大小\n",
    "\n",
    "字体大小的设置一方面可以通过指定字体大小为11pt或12pt等来实现，另一方面则可以通过一些简单的命令：\n",
    "\n",
    "```tex\n",
    "{\\tiny tiny word}\n",
    "{\\scriptsize script size word}\n",
    "{\\footnotesize footnote size word}\n",
    "{\\normalsize normal size word}\n",
    "{\\large large word}\n",
    "{\\Large Large word}\n",
    "{\\LARGE LARGE word}\n",
    "{\\huge huge word}\n",
    "{\\Huge Huge word}\n",
    "```\n",
    "\n",
    "在这里，这些命令对应的字体依次是从小到大。\n",
    "\n",
    "### 3.1.3 调整字体颜色\n",
    "\n",
    "一般而言，文本默认的颜色是黑色，但有时候，我们可以根据需要改变字体的颜色，这通过LaTeX一些拓展的工具包就可以实现，例如`xcolor`。\n",
    "\n",
    "### 3.1.4 字体设置\n",
    "\n",
    "不管是英文还是中文，我们都会越到各种各样的字体，因此，使用LaTeX编译出想要的字体对于整个文档也非常重要。对于英文文档的编译，一般会用工具包`fontspec`设置具体的字体，调用格式为`\\usepackage{fontspec}`，需要说明的是，这个工具包只能设置英文的字体。如果文档输入的是中文，首先需要申明文档类型为ctex中的ctexart、ctexrep之类的。\n",
    "\n",
    "### 3.1.5 增加下划线\n",
    "\n",
    "有时候，为了突出特定的文本，我们也会使用到各种下划线。最常用的下划线命令是`\\underline`，然而，这个命令存在一个缺陷，即当文本过长，超过页面宽度时，下划线不会自动跳到下一行，因此，我们需要用到一个叫`ulem`的工具包，使用这个工具包中的命令`\\uline`可以增加单下划线，使用`\\uuline`可以增加双下划线，而使用`\\uwave`则可以增加波浪线。\n",
    "\n",
    "【**例2**】使用`\\underline`、`\\uline`、`\\uuline`、`\\uwave`对文本增加下划线。\n",
    "\n",
    "```tex\n",
    "\\documentclass[12pt]{article}\n",
    "\\usepackage{ulem}\n",
    "\\begin{document}\n",
    "\n",
    "Generate \\underline{underlined} text. \\\\     % 生成带下划线的文本（使用\\underline命令）\n",
    "Generate \\uline{underlined} text. \\\\         % 生成单下划线的文本（使用\\uline命令）\n",
    "Generate \\uuline{double underlined} text. \\\\ % 生成单下划线的文本\n",
    "Generate \\texttt{wavy underlined} text. \\\\   % 生成波浪线的文本\n",
    "\n",
    "\\end{document}\n",
    "```\n"
   ]
  },
  {
   "cell_type": "markdown",
   "metadata": {},
   "source": [
    "【回放】[**导言**](https://nbviewer.jupyter.org/github/xinychen/latex-cookbook/blob/main/chapter-3/section0.ipynb)\n",
    "\n",
    "【继续】[**3.2 xxxx**](https://nbviewer.jupyter.org/github/xinychen/latex-cookbook/blob/main/chapter-3/section2.ipynb)"
   ]
  },
  {
   "cell_type": "markdown",
   "metadata": {},
   "source": [
    "### License\n",
    "\n",
    "<div class=\"alert alert-block alert-danger\">\n",
    "<b>This work is released under the MIT license.</b>\n",
    "</div>"
   ]
  }
 ],
 "metadata": {
  "kernelspec": {
   "display_name": "Python 3",
   "language": "python",
   "name": "python3"
  },
  "language_info": {
   "codemirror_mode": {
    "name": "ipython",
    "version": 3
   },
   "file_extension": ".py",
   "mimetype": "text/x-python",
   "name": "python",
   "nbconvert_exporter": "python",
   "pygments_lexer": "ipython3",
   "version": "3.8.3"
  }
 },
 "nbformat": 4,
 "nbformat_minor": 4
}
