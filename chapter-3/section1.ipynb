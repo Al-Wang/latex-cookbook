{
 "cells": [
  {
   "cell_type": "markdown",
   "metadata": {},
   "source": [
    "## 3.1 文字编辑\n",
    "\n",
    "文字编辑主要关注如何调整字体样式、增加下划线、突出文字、调整字体大小、调整对齐格式等内容。\n",
    "\n",
    "### 3.1.1 调整字体样式\n",
    "\n",
    "调整文字的样式有很多对应的命令，这些命令包括`\\textit`、`\\textbf`、`\\textsc`、`\\texttt`，在使用的过程中，需要用到花括号`{}`。\n",
    "\n",
    "【**例1**】使用`\\textit`、`\\textbf`、`\\textsc`、`\\texttt`对字体样式进行调整。\n",
    "\n",
    "```tex\n",
    "\\documentclass[12pt]{article}\n",
    "\\begin{document}\n",
    "\n",
    "Generate \\textit{italicized} text. \\\\      % 生成斜体字的文本\n",
    "Generate \\textbf{bold face} text. \\\\       % 生成粗体字的文本\n",
    "Generate \\textsc{small caps} text. \\\\      % 生成小型大写字母的文本\n",
    "Generate \\texttt{typewriter font} text. \\\\ % 生成打字机字体的文本\n",
    "Generate \\underline{underlined} text. \\\\   % 生成带下划线的文本\n",
    "\n",
    "\\end{document}\n",
    "```\n",
    "\n",
    "一般而言，当我们需要对段落、句子、关键词等做特殊标记时，往往会用到上述几种字体样式，其中，如果我们要添加一个网站，通常会选用打字机字体对文本进行突出，例如`\\texttt{https://www.overleaf.com}`。\n",
    "\n",
    "### 3.1.2 增加下划线\n",
    "\n",
    "有时候，为了突出特定的文本，我们也会使用到各种下划线。最常用的下划线命令是`\\underline`，然而，这个命令存在一个缺陷，即当文本过长，超过页面宽度时，下划线不会自动跳到下一行，因此，我们需要用到一个叫`ulem`的工具包，使用这个工具包中的命令`\\uline`可以增加单下划线，使用`\\uuline`可以增加双下划线，而使用`\\uwave`则可以增加波浪线。\n",
    "\n",
    "【**例2**】使用`\\underline`、`\\uline`、`\\uuline`、`\\uwave`对文本增加下划线。\n",
    "\n",
    "```tex\n",
    "\\documentclass[12pt]{article}\n",
    "\\usepackage{ulem}\n",
    "\\begin{document}\n",
    "\n",
    "Generate \\underline{underlined} text. \\\\     % 生成带下划线的文本（使用\\underline命令）\n",
    "Generate \\uline{underlined} text. \\\\         % 生成单下划线的文本（使用\\uline命令）\n",
    "Generate \\uuline{double underlined} text. \\\\ % 生成单下划线的文本\n",
    "Generate \\texttt{wavy underlined} text. \\\\   % 生成波浪线的文本\n",
    "\n",
    "\\end{document}\n",
    "```\n"
   ]
  },
  {
   "cell_type": "markdown",
   "metadata": {},
   "source": [
    "【回放】[**导言**](https://nbviewer.jupyter.org/github/xinychen/latex-cookbook/blob/main/chapter-3/section0.ipynb)\n",
    "\n",
    "【继续】[**3.2 xxxx**](https://nbviewer.jupyter.org/github/xinychen/latex-cookbook/blob/main/chapter-3/section2.ipynb)"
   ]
  },
  {
   "cell_type": "markdown",
   "metadata": {},
   "source": [
    "### License\n",
    "\n",
    "<div class=\"alert alert-block alert-danger\">\n",
    "<b>This work is released under the MIT license.</b>\n",
    "</div>"
   ]
  }
 ],
 "metadata": {
  "kernelspec": {
   "display_name": "Python 3",
   "language": "python",
   "name": "python3"
  },
  "language_info": {
   "codemirror_mode": {
    "name": "ipython",
    "version": 3
   },
   "file_extension": ".py",
   "mimetype": "text/x-python",
   "name": "python",
   "nbconvert_exporter": "python",
   "pygments_lexer": "ipython3",
   "version": "3.8.3"
  }
 },
 "nbformat": 4,
 "nbformat_minor": 4
}
