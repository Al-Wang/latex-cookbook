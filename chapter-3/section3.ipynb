{
 "cells": [
  {
   "cell_type": "markdown",
   "metadata": {},
   "source": [
    "## 3.3 编辑段落\n",
    "\n",
    "在使用LaTeX排版时，有时因为文档没有图全都是文字，版面显得极其单调。如果想让版面有所变化，可以通过给文字加边框来实现对段落文本新增边框。在LaTeX中，我们可以使用`\\fbox{}`命令在文本旁边新增边框。\n",
    "\n",
    "> 参考[How to put a box around multiple lines](https://latex.org/forum/viewtopic.php?f=44&t=4117)。\n",
    "\n",
    "【**例1**】使用`\\fbox{}`创建文本边框。\n",
    "\n",
    "```tex\n",
    "\\documentclass[12pt]{article}\n",
    "\n",
    "\\begin{document}\n",
    "\n",
    "\\fbox{\n",
    "\t\\parbox{0.8\\linewidth}{\n",
    "\t\tIn \\LaTeX, we can use fbox and parbox to put a box around multiple lines. In this case, we set the linewidth as 0.8.\n",
    "\t}\n",
    "}\n",
    "\n",
    "\\end{document}\n",
    "```\n",
    "\n",
    "LaTex默认的对齐方式是两端对齐，有时在进行文档排版的过程中，我们为了突出某一段落的内容，会选择将其居中显示，在LaTeX中，我们可以使用`center`环境进行文本的居中显示。另外还有一些出版商或者学校会要求文档是左对齐或者右对齐，这时我们同样可以使用`flushleft`环境和`flushright`环境将文档设置为左对齐或右对齐。\n",
    "\n",
    "\n",
    "【**例2**】分别使用`center`、`flushleft`和`flushright`环境进行文本的居中、左对齐及右对齐显示。\n",
    "\n",
    "```tex\n",
    "\\documentclass[12pt]{article}\n",
    "\n",
    "\\begin{document}\n",
    "\n",
    "\\begin{center}\n",
    "This is latex-cookbook\n",
    "\\end{center}\n",
    "\n",
    "\\begin{flushleft}\n",
    "This is latex-cookbook\n",
    "\\end{flushleft}\n",
    "\n",
    "\\begin{flushright}\n",
    "This is latex-cookbook\n",
    "\\end{flushright}\n",
    "\n",
    "\n",
    "\\end{document}\n",
    "```\n",
    "有时，为了使段落与段落之间的区别更加明显，我们需要在段落之间增加一个空白行。在LaTeX中，我们可以使用\n"
   ]
  },
  {
   "cell_type": "markdown",
   "metadata": {},
   "source": [
    "【回放】[**3.2 创建列表**](https://nbviewer.jupyter.org/github/xinychen/latex-cookbook/blob/main/chapter-3/section2.ipynb)\n",
    "\n",
    "【继续】[**3.4 创建章节**](https://nbviewer.jupyter.org/github/xinychen/latex-cookbook/blob/main/chapter-3/section4.ipynb)"
   ]
  },
  {
   "cell_type": "markdown",
   "metadata": {},
   "source": [
    "### License\n",
    "\n",
    "<div class=\"alert alert-block alert-danger\">\n",
    "<b>This work is released under the MIT license.</b>\n",
    "</div>"
   ]
  }
 ],
 "metadata": {
  "kernelspec": {
   "display_name": "Python 3",
   "language": "python",
   "name": "python3"
  },
  "language_info": {
   "codemirror_mode": {
    "name": "ipython",
    "version": 3
   },
   "file_extension": ".py",
   "mimetype": "text/x-python",
   "name": "python",
   "nbconvert_exporter": "python",
   "pygments_lexer": "ipython3",
   "version": "3.8.3"
  }
 },
 "nbformat": 4,
 "nbformat_minor": 4
}
