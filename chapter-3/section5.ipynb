{
 "cells": [
  {
   "cell_type": "markdown",
   "metadata": {},
   "source": [
    "## 3.5 创建页眉、页脚及脚注\n",
    "\n",
    "在大多数文档中，我们往往需要页面、页脚及脚注来展示文档的附加信息，例如时间、图形、页码、日期、公司微标、页眉示意图文档标题、文件名或作者姓名等信息。在LaTeX中，我们常用`Fancyhdr`工具包进行页眉、页脚的设置，常用`\\footnote{}`命令来添加脚注。\n",
    "\n",
    "【**例1**】使用`Fancyhdr`工具包进行页眉、页脚的设置。\n",
    "\n",
    "```tex\n",
    "\\documentclass{article}\n",
    "\\usepackage{fancyhdr}\n",
    "\\pagestyle{fancy}\n",
    "\\lhead{}\n",
    "\\chead{}\n",
    "\n",
    "\\rhead{\\bfseries latex-cookbook}\n",
    "\\lfoot{From: Xinyu Chen}\n",
    "\\cfoot{To: Jieling Jin}\n",
    "\\rfoot{\\thepage}\n",
    "\\renewcommand{\\headrulewidth}{0.4pt}\n",
    "\\renewcommand{\\footrulewidth}{0.4pt}\n",
    "\\begin{document}\n",
    "This is latex-cookbook!\n",
    "\\end{document}\n",
    "```\n",
    "\n",
    "【**例2**】使用`\\footnote{}`命令来添加脚注。\n",
    "\n",
    "```tex\n",
    "\\documentclass{article}\n",
    "\n",
    "\\begin{document}\n",
    "\n",
    "Xinyu Chen\\footnote{Xinyu Chen is a PhD from the University of Montreal.} and Jieling Jin\\footnote{Jieling Jin is a PhD from the Central South University.} are the two authors of latex-cookbook.\n",
    "\n",
    "\\end{document}\n",
    "```"
   ]
  },
  {
   "cell_type": "markdown",
   "metadata": {},
   "source": [
    "【回放】[**3.4 创建章节**](https://nbviewer.jupyter.org/github/xinychen/latex-cookbook/blob/main/chapter-3/section4.ipynb)\n",
    "\n",
    "【继续】[**3.6 xxxx**](https://nbviewer.jupyter.org/github/xinychen/latex-cookbook/blob/main/chapter-3/section6.ipynb)"
   ]
  },
  {
   "cell_type": "markdown",
   "metadata": {},
   "source": [
    "### License\n",
    "\n",
    "<div class=\"alert alert-block alert-danger\">\n",
    "<b>This work is released under the MIT license.</b>\n",
    "</div>"
   ]
  }
 ],
 "metadata": {
  "kernelspec": {
   "display_name": "Python 3",
   "language": "python",
   "name": "python3"
  },
  "language_info": {
   "codemirror_mode": {
    "name": "ipython",
    "version": 3
   },
   "file_extension": ".py",
   "mimetype": "text/x-python",
   "name": "python",
   "nbconvert_exporter": "python",
   "pygments_lexer": "ipython3",
   "version": "3.8.3"
  }
 },
 "nbformat": 4,
 "nbformat_minor": 4
}
