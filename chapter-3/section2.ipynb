{
 "cells": [
  {
   "cell_type": "markdown",
   "metadata": {},
   "source": [
    "## 3.2 创建列表\n",
    "\n",
    "在内容表达上，列表是一种非常有效的方式，它将某一论述内容分成若干个条目进行罗列，能达到简明扼要、醒目直观的表达效果。在论文写作中，列表不失为一种让内容清晰明了的论述方式。\n",
    "\n",
    "通常来说，列表有单层列表和多层列表，多层列表无外乎是最外层列表中嵌套了一层甚至更多层列表。具体来说，列表主要有三种类型，即无序列表、排序列表和阐述性列表，其中，无序列表和排序列表是相对常用的列表类型，LaTeX针对这三种列表提供了一些基本命令：\n",
    "\n",
    "- 无序列表：`\\begin{itemize}  \\item  \\end{itemize}`；\n",
    "- 排序列表：`\\begin{enumerate}  \\item  \\end{enumerate}`；\n",
    "- 阐述性列表：`\\begin{description}  \\item  \\end{description}`。\n",
    "\n",
    "在这三种列表中，我们创建的每一项列表内容都需要紧随`\\item`命令之后。当然，有时候，我们也可以根据需要选择合适的列表类型、调整列表符号甚至行间距等。\n",
    "\n",
    "### 3.2.1 无序列表\n",
    "\n",
    "\n",
    "### 3.2.2 排序列表\n",
    "\n",
    "\n",
    "### 3.2.3 阐述性列表\n",
    "\n",
    "相比无序列表和排序列表，阐述性列表不算是特别常用的列表类型。"
   ]
  },
  {
   "cell_type": "markdown",
   "metadata": {},
   "source": [
    "【回放】[**3.1 编辑文字**](https://nbviewer.jupyter.org/github/xinychen/latex-cookbook/blob/main/chapter-3/section1.ipynb)\n",
    "\n",
    "【继续】[**3.3 xxxx**](https://nbviewer.jupyter.org/github/xinychen/latex-cookbook/blob/main/chapter-3/section3.ipynb)"
   ]
  },
  {
   "cell_type": "markdown",
   "metadata": {},
   "source": [
    "### License\n",
    "\n",
    "<div class=\"alert alert-block alert-danger\">\n",
    "<b>This work is released under the MIT license.</b>\n",
    "</div>"
   ]
  }
 ],
 "metadata": {
  "kernelspec": {
   "display_name": "Python 3",
   "language": "python",
   "name": "python3"
  },
  "language_info": {
   "codemirror_mode": {
    "name": "ipython",
    "version": 3
   },
   "file_extension": ".py",
   "mimetype": "text/x-python",
   "name": "python",
   "nbconvert_exporter": "python",
   "pygments_lexer": "ipython3",
   "version": "3.8.3"
  }
 },
 "nbformat": 4,
 "nbformat_minor": 4
}
