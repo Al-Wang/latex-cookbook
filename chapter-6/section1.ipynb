{
 "cells": [
  {
   "cell_type": "markdown",
   "metadata": {},
   "source": [
    "### 6.1 基本的插图方式\n",
    "\n",
    "使用LaTeX制作文档时，可以使用特定的环境和命令插入各种格式的图片，但需要注意的是，LaTeX只支持一些常见的图片文件格式，例如PDF、JPG、JPEG和PNG。在众多图形格式中，尽管矢量图可以有效避免失真，但 LaTeX却不支持其文件格式SVG，有时候，我们会将SVG图片转换成PDF格式或者TikZ中的PGF格式。"
   ]
  },
  {
   "cell_type": "markdown",
   "metadata": {},
   "source": [
    "【回放】[**导言**](https://nbviewer.jupyter.org/github/xinychen/latex-cookbook/blob/main/chapter-6/section0.ipynb)\n",
    "\n",
    "【继续】[**6.2 xxxx**](https://nbviewer.jupyter.org/github/xinychen/latex-cookbook/blob/main/chapter-6/section2.ipynb)"
   ]
  },
  {
   "cell_type": "markdown",
   "metadata": {},
   "source": [
    "### License\n",
    "\n",
    "<div class=\"alert alert-block alert-danger\">\n",
    "<b>This work is released under the MIT license.</b>\n",
    "</div>"
   ]
  }
 ],
 "metadata": {
  "kernelspec": {
   "display_name": "Python 3",
   "language": "python",
   "name": "python3"
  },
  "language_info": {
   "codemirror_mode": {
    "name": "ipython",
    "version": 3
   },
   "file_extension": ".py",
   "mimetype": "text/x-python",
   "name": "python",
   "nbconvert_exporter": "python",
   "pygments_lexer": "ipython3",
   "version": "3.8.3"
  }
 },
 "nbformat": 4,
 "nbformat_minor": 4
}
