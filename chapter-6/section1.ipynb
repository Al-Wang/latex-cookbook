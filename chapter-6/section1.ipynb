{
 "cells": [
  {
   "cell_type": "markdown",
   "metadata": {},
   "source": [
    "## 6.1 基本的插图方式\n",
    "\n",
    "使用LaTeX制作文档时，可以使用特定的环境和命令插入各种格式的图形，但需要注意的是，LaTeX只支持一些常见的图形文件格式，例如PDF、JPG、JPEG和PNG。在众多图形格式中，SVG格式的矢量图可以有效避免失真，但 LaTeX不支持SVG格式，因此，有时候，我们会将SVG图片转换成PDF格式或者TikZ中的PGF格式。对于不同类型的图形，在使用前需要做一些基本处理：\n",
    "\n",
    "- 绘制的图形。例如我们用Python、Matlab等程序语言绘制的图形，通常可以选择保存为PDF格式，并且在插入图形时，PDF格式的图片质量会优于PNG等格式。\n",
    "- 截图。一般选择保存为PNG格式。另外，在LaTeX中插入这类图片之前，不宜随意改变图形的尺寸。\n"
   ]
  },
  {
   "cell_type": "markdown",
   "metadata": {},
   "source": [
    "### 6.1.1 `graphicx`工具包\n",
    "\n",
    "`graphicx`是LaTeX插图的标准工具包，也是最为常用的。首先，我们需要先在前导代码中申明使用`graphicx`工具包，对应的命令为`\\usepackage{graphicx}`，然后就可以在需要插图的位置插入对应的图片，基本命令为`\\includegraphics{filename}`。\n",
    "\n",
    "【**例1**】使用`graphicx`工具包中的`\\includegraphics`命令插入图片`butterfly.JPG`。\n",
    "\n",
    "```tex\n",
    "\\documentclass[12pt]{article}\n",
    "\\usepackage{graphicx}\n",
    "\\begin{document}\n",
    "\n",
    "\\includegraphics{graphics/butterfly.JPG}\n",
    "\n",
    "\\end{document}\n",
    "```\n",
    "\n",
    "当然，也可以将图片在文档中显示的高度和宽度进行适当调整，比如我们可以在插入命令`\\includegraphics[参数设置]{graphics/图片名称}`的中括号（参数设置）位置设置宽度和高度，另外，也能可以在参数设置位置设置让图片进行旋转。\n",
    "\n",
    "【**例2**】设置图片宽度为页面文本宽度的0.5倍，高度按比例自动调整，插入另一个旋转90的图片。\n",
    "\n",
    "```tex\n",
    "\\documentclass[12pt]{article}\n",
    "\\usepackage{graphicx}\n",
    "\\begin{document}\n",
    "\n",
    "\\includegraphics[width = 0.5\\textwidth]{graphics/butterfly.JPG}\n",
    "\n",
    "\\includegraphics[angle = 90]{graphics/butterfly.JPG}\n",
    "\n",
    "\\end{document}\n",
    "```\n"
   ]
  },
  {
   "cell_type": "markdown",
   "metadata": {},
   "source": [
    "### 6.1.2 图片位置的自动化\n",
    "\n",
    "实现图片位置的自动化对于文档排版至关重要，试想这样一种情况：当我们使用`\\includegraphics`命令插入图片，假设当前页面没有足够的空间用于摆放这张图片时，这张图片很可能会自动摆放到下一页，并给当前页面留下一片空白区域，更有甚者，图片数量很多时，文档的排版效果必然是大打折扣。因此，我们需要让图片的位置摆放实现自动化。\n",
    "\n",
    "实现自动化的第一步是借助LaTeX中的`figure`环境，即`\\begin{figure} \\end{figure}`，在该环境中，我们可以用居中对齐命令让图片居中，即`\\centering`，然后再使用`\\includegraphics`命令插入图片。`figure`环境有很多好处，可以预先定义图片摆放位置，也可以对图片进行注释、编号甚至索引。\n",
    "\n",
    "【**例2**】在`figure`环境中使用`\\includegraphics`命令插入图片`butterfly.JPG`（图片的宽度设置为页面文本宽度的0.8倍），并将图片进行居中对齐，同时添加图片的注释和标签。\n",
    "\n",
    "```tex\n",
    "\\documentclass[12pt]{article}\n",
    "\\usepackage{graphicx}\n",
    "\\begin{document}\n",
    "\n",
    "\\begin{figure}\n",
    "\\centering\n",
    "\\includegraphics[width = 0.8\\textwidth]{graphics/butterfly.JPG}\n",
    "\\caption{There is a beautiful butterfly.}\n",
    "\\label{butterfly}\n",
    "\\end{figure}\n",
    "\n",
    "\\end{document}\n",
    "```\n",
    "\n",
    "在这个例子中，`\\caption{}`命令用于注释图片，而`\\label{}`命令则用于标记图片，以便于正文中的索引。\n",
    "\n",
    "在`figure`环境中，可以将图片的位置自动化设置为`htbp!`，对应于四个英文单词的首写字母，即here（当前位置）、top（顶部）、bottom（底部）和page（下一页），这是一种比较灵活的设置。当然，我们可以将位置自动化设置成`h!`、`t!`、`b!`和`p!`，分别对应着当前位置、顶部、底部和下一页。\n",
    "\n",
    "【**例3**】在`figure`环境中使用`\\includegraphics`命令插入图片`butterfly.JPG`，并将图片的位置自动化设置为`htbp!`。\n",
    "\n",
    "```tex\n",
    "\\documentclass[12pt]{article}\n",
    "\\usepackage{graphicx}\n",
    "\\begin{document}\n",
    "\n",
    "\\begin{figure}[htbp!]\n",
    "\\centering\n",
    "\\includegraphics[width = 0.8\\textwidth]{graphics/butterfly.JPG}\n",
    "\\caption{There is a beautiful butterfly.}\n",
    "\\label{butterfly}\n",
    "\\end{figure}\n",
    "\n",
    "\\end{document}\n",
    "```\n"
   ]
  },
  {
   "cell_type": "markdown",
   "metadata": {},
   "source": [
    "### 6.1.3 增加边框\n",
    "\n",
    "使用`\\includegraphics`命令时，除了可以调整图片的尺寸和位置，也可以对图片自定义边框。设置边框时，可以使用`xcolor`工具包定义颜色，即`\\usepackage{xcolor}`，另外，也要使用到`adjustbox`工具包生成边框，即`\\usepackage[export]{adjustbox}`。\n",
    "\n",
    "【**例4**】插入图片`butterfly.JPG`，并增加红色边框，线条粗细为0.5mm。\n",
    "\n",
    "```tex\n",
    "\\documentclass[12pt]{article}\n",
    "\\usepackage{graphicx}\n",
    "\\usepackage{xcolor}\n",
    "\\usepackage[export]{adjustbox}\n",
    "\\begin{document}\n",
    "\n",
    "Figure~\\ref{butterfly} shows a beautiful butterfly.\n",
    "\n",
    "\\begin{figure}[htbp!]\n",
    "\\centering\n",
    "\\includegraphics[width = 0.8\\textwidth, cframe = red 0.5mm]{graphics/butterfly.JPG}\n",
    "\\caption{There is a beautiful butterfly.}\n",
    "\\label{butterfly}\n",
    "\\end{figure}\n",
    "\n",
    "\\end{document}\n",
    "```\n",
    "\n"
   ]
  },
  {
   "cell_type": "markdown",
   "metadata": {},
   "source": [
    "【回放】[**导言**](https://nbviewer.jupyter.org/github/xinychen/latex-cookbook/blob/main/chapter-6/section0.ipynb)\n",
    "\n",
    "【继续】[**6.2 xxxx**](https://nbviewer.jupyter.org/github/xinychen/latex-cookbook/blob/main/chapter-6/section2.ipynb)"
   ]
  },
  {
   "cell_type": "markdown",
   "metadata": {},
   "source": [
    "### License\n",
    "\n",
    "<div class=\"alert alert-block alert-danger\">\n",
    "<b>This work is released under the MIT license.</b>\n",
    "</div>"
   ]
  }
 ],
 "metadata": {
  "kernelspec": {
   "display_name": "Python 3",
   "language": "python",
   "name": "python3"
  },
  "language_info": {
   "codemirror_mode": {
    "name": "ipython",
    "version": 3
   },
   "file_extension": ".py",
   "mimetype": "text/x-python",
   "name": "python",
   "nbconvert_exporter": "python",
   "pygments_lexer": "ipython3",
   "version": "3.8.3"
  }
 },
 "nbformat": 4,
 "nbformat_minor": 4
}
