{
 "cells": [
  {
   "cell_type": "markdown",
   "id": "398026c3",
   "metadata": {},
   "source": [
    "## 6.2 插入非浮动图片\n",
    "\n",
    "通过`figure`环境插入图片虽然能够实现自动编号和创建图片标题，但创建结果为浮动图片，图片的显示位置与在代码中的位置未必一致。然而有时我们想要以非浮动体的形式插入图片，使得图片显示位置与代码中的位置一致，同时能够实现自动编号和创建标题，要实现这一效果，我们可以使用`minipage`环境或`center`环境替代`figure`环境插入图片，同时使用`caption`宏包提供的`\\captionof{figure}{图片标题名称}`命令创建图片标题。\n",
    "\n",
    "使用`minipage`环境插入图片的方式与`figure`环境类似，不同之处主要在于使用`minipage`环境插入的图片与上下文中的文本内容紧挨着，为了避免这种情况，`minipage`环境前后可以使用`\\vspace{纵向距离}`调整图片与文本的纵向空间距离。\n",
    "\n",
    "【**例6-2**】使用`minipage`环境语句取代`figure`环境语句插入非浮动图片，使用`\\captionof`命令创建图片标题，并使用`\\vspace`命令调整图片与文本的纵向距离。\n",
    "\n",
    "```tex\n",
    "\\documentclass[12pt]{article}\n",
    "\\usepackage{graphicx}\n",
    "\\usepackage{caption}\n",
    "\\begin{document}\n",
    "\n",
    "Figure \\ref{fig:1} shows a beautiful butterfly.\n",
    "\n",
    "\\vspace{12pt}\n",
    "\n",
    "\\begin{minipage}{\\linewidth}\n",
    "\\centering\n",
    "    \\includegraphics[width = 0.6\\linewidth]{butterfly.JPG}\n",
    "    \\captionof{figure}{A beautiful butterfly.}\n",
    "    \\label{fig:1}\n",
    "\\end{minipage}\n",
    "\n",
    "\\vspace{12pt}\n",
    "\n",
    "According to the picture, we know ...\n",
    "\n",
    "\\end{document}\n",
    "```\n",
    "\n",
    "编译后的插图效果如图6.1.2所示。\n",
    "\n",
    "<p align=\"center\">\n",
    "<img align=\"middle\" src=\"graphics/eg_3.png\" width=\"450\" />\n",
    "</p>\n",
    "\n",
    "<center><b>图6.1.2</b> 编译后的插图效果</center>\n",
    "\n",
    "使用`center`环境语句插入图片时可以自动将图片居中放置。\n",
    "\n",
    "【**例6-2**】使用`center`环境语句取代`figure`环境语句插入非浮动图片，并使用`\\captionof`命令创建图片标题。\n",
    "\n",
    "```tex\n",
    "\\documentclass[12pt]{article}\n",
    "\\usepackage{graphicx}\n",
    "\\usepackage{caption}\n",
    "\\begin{document}\n",
    "\n",
    "Figure \\ref{fig:1} shows a beautiful butterfly.\n",
    "\n",
    "\\begin{center}\n",
    "\\includegraphics[width = 0.6\\linewidth]{butterfly.JPG}\n",
    "\\captionof{figure}{A beautiful butterfly.}\n",
    "\\label{fig:1}\n",
    "\\end{center}\n",
    "\n",
    "According to the picture, we know ...\n",
    "\n",
    "\\end{document}\n",
    "```\n",
    "\n",
    "编译后的插图效果如图6.1.2所示。\n",
    "\n",
    "<p align=\"center\">\n",
    "<img align=\"middle\" src=\"graphics/eg_4.png\" width=\"450\" />\n",
    "</p>\n",
    "\n",
    "<center><b>图6.1.2</b> 编译后的插图效果</center>\n"
   ]
  },
  {
   "cell_type": "markdown",
   "id": "d64b7345",
   "metadata": {},
   "source": [
    "【回放】[**6.1 插入浮动图片**](https://nbviewer.jupyter.org/github/xinychen/latex-cookbook/blob/main/chapter-6/section1.ipynb)\n",
    "\n",
    "【继续】[**6.3 插入图表目录**](https://nbviewer.jupyter.org/github/xinychen/latex-cookbook/blob/main/chapter-6/section3.ipynb)"
   ]
  },
  {
   "cell_type": "markdown",
   "id": "da7011ea",
   "metadata": {},
   "source": [
    "### License\n",
    "\n",
    "<div class=\"alert alert-block alert-danger\">\n",
    "<b>This work is released under the MIT license.</b>\n",
    "</div>"
   ]
  }
 ],
 "metadata": {
  "kernelspec": {
   "display_name": "Python 3 (ipykernel)",
   "language": "python",
   "name": "python3"
  },
  "language_info": {
   "codemirror_mode": {
    "name": "ipython",
    "version": 3
   },
   "file_extension": ".py",
   "mimetype": "text/x-python",
   "name": "python",
   "nbconvert_exporter": "python",
   "pygments_lexer": "ipython3",
   "version": "3.8.0"
  }
 },
 "nbformat": 4,
 "nbformat_minor": 5
}
