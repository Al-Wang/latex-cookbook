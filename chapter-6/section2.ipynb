{
 "cells": [
  {
   "cell_type": "markdown",
   "metadata": {},
   "source": [
    "## 6.2 图片排列格式\n",
    "\n"
   ]
  },
  {
   "cell_type": "markdown",
   "metadata": {},
   "source": [
    "### 6.2.1 图片并排\n",
    "\n",
    "在论文写作中，有时需要将多个图片放在同一行进行排列以便于比较。在`figure`环境中，使用`minnipage`环境即可实现图片并排显示，并连续编号。\n",
    "\n",
    "【**例1**】在`figure`环境中直接实现图片并排显示。\n",
    "\n",
    "```tex\n",
    "\\documentclass[11pt]{article}\n",
    "\\usepackage{graphicx}\n",
    "\n",
    "\\begin{document}\n",
    "\n",
    "\\begin{figure}[htbp]\n",
    "\\centering\n",
    "\n",
    "\\begin{minipage}[t]{0.48\\textwidth}\n",
    "\\centering\n",
    "\\includegraphics[width=6cm]{butterfly.JPG}\n",
    "\\caption{Butterfly-1}\n",
    "\\end{minipage}\n",
    "\n",
    "\\begin{minipage}[t]{0.48\\textwidth}\n",
    "\\centering\n",
    "\\includegraphics[width=6cm]{butterfly.JPG}\n",
    "\\caption{Butterfly-2}\n",
    "\\end{minipage}\n",
    "\n",
    "\\end{figure}\n",
    "\n",
    "\\end{document}\n",
    "```"
   ]
  },
  {
   "cell_type": "markdown",
   "metadata": {},
   "source": [
    "### 6.2.2 `subfig`工具包\n",
    "\n",
    "在论文写作中，有时需要将多个子图片放在同一个图名之下，根据6.1节我们知道插入单一图片的方式比较简单，仅仅需要在`figure`环境中使用`\\includegraphics{}`命令即可，然而，这一做法却很难直接用于插入子图片，若要在LaTeX文档中插入子图片，使用`subfig`工具包是一种行之有效的方法。\n",
    "\n",
    "【**例1**】使用`subfig`工具包并排插入两张`butterfly.JPG`图片。\n",
    "\n",
    "> 该案例参考了LaTeX forum平台的帖子，该帖子网址为[https://latex.org/forum/viewtopic.php?f=45&t=22197](https://latex.org/forum/viewtopic.php?f=45&t=22197)。\n",
    "\n",
    "```tex\n",
    "\\documentclass[11pt]{article}\n",
    "\\usepackage{mwe}\n",
    "\\usepackage{subfig}\n",
    "\\begin{document}\n",
    "\n",
    "\\begin{figure}[!ht]\n",
    "\n",
    "\\subfloat[First sub-figure\\label{subfig-1}]{\n",
    "\\includegraphics[width=0.45\\textwidth]{graphics/butterfly.JPG}\n",
    "}\n",
    "\\hfill\n",
    "\\subfloat[Second sub-figure\\label{subfig-2}]{\n",
    "\\includegraphics[width=0.45\\textwidth]{graphics/butterfly.JPG}\n",
    "}\n",
    "\\caption{Beautiful butterfly.}\n",
    "\\label{fig}\n",
    "\n",
    "\\end{figure}\n",
    "\n",
    "\\end{document}\n",
    "```\n",
    "\n",
    "在这个例子中，`subfig`工具包中的`\\subfloat`命令可用于插入子图片，工具包`mwe`比较特殊，它的作用在于加载`graphicx`工具包，同时，也能自动生成示例图片。`figure`环境中的图片可以显示出(a)和(b)两张子图片，当然，也可以对子图片设置对应的标签，从而对子图片进行索引。"
   ]
  },
  {
   "cell_type": "markdown",
   "metadata": {},
   "source": [
    "### 练习题\n",
    "\n",
    "1. 在插入子图片时，使用`mwe`工具包自带的示例图片并排插入两张图片。\n",
    "\n",
    "```tex\n",
    "\\documentclass[11pt]{article}\n",
    "\\usepackage{mwe}\n",
    "\\usepackage{subfig}\n",
    "\\begin{document}\n",
    "\n",
    "\\begin{figure}[!ht]\n",
    "\n",
    "\\subfloat[First sub-figure\\label{subfig-1}]{\n",
    "% 在此处使用\\includegraphics命令插入mwe工具包自带的示例图片\n",
    "}\n",
    "\\hfill\n",
    "\\subfloat[Second sub-figure\\label{subfig-2}]{\n",
    "% 在此处使用\\includegraphics命令插入mwe工具包自带的示例图片\n",
    "}\n",
    "\\caption{Dummy figure}\n",
    "\\label{fig}\n",
    "\n",
    "\\end{figure}\n",
    "\n",
    "\\end{document}\n",
    "```\n",
    "\n",
    ">【**答案**】完整的LaTeX代码为\n",
    "\n",
    "```tex\n",
    "\\documentclass[11pt]{article}\n",
    "\\usepackage{mwe}\n",
    "\\usepackage{subfig}\n",
    "\\begin{document}\n",
    "\n",
    "\\begin{figure}[!ht]\n",
    "\n",
    "\\subfloat[First sub-figure\\label{subfig-1}]{\n",
    "\\includegraphics[width=0.45\\textwidth]{example-image-a}\n",
    "}\n",
    "\\hfill\n",
    "\\subfloat[Second sub-figure\\label{subfig-2}]{\n",
    "\\includegraphics[width=0.45\\textwidth]{example-image-b}\n",
    "}\n",
    "\\caption{Dummy figure}\n",
    "\\label{fig}\n",
    "\n",
    "\\end{figure}\n",
    "\n",
    "\\end{document}\n",
    "```\n"
   ]
  },
  {
   "cell_type": "markdown",
   "metadata": {},
   "source": [
    "【回放】[**6.1 基本的插图方式**](https://nbviewer.jupyter.org/github/xinychen/latex-cookbook/blob/main/chapter-6/section1.ipynb)\n",
    "\n",
    "【继续】[**6.3 xxxx**](https://nbviewer.jupyter.org/github/xinychen/latex-cookbook/blob/main/chapter-6/section3.ipynb)"
   ]
  },
  {
   "cell_type": "markdown",
   "metadata": {},
   "source": [
    "### License\n",
    "\n",
    "<div class=\"alert alert-block alert-danger\">\n",
    "<b>This work is released under the MIT license.</b>\n",
    "</div>"
   ]
  }
 ],
 "metadata": {
  "kernelspec": {
   "display_name": "Python 3",
   "language": "python",
   "name": "python3"
  },
  "language_info": {
   "codemirror_mode": {
    "name": "ipython",
    "version": 3
   },
   "file_extension": ".py",
   "mimetype": "text/x-python",
   "name": "python",
   "nbconvert_exporter": "python",
   "pygments_lexer": "ipython3",
   "version": "3.8.3"
  }
 },
 "nbformat": 4,
 "nbformat_minor": 4
}
