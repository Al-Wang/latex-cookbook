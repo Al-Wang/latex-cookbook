{
 "cells": [
  {
   "cell_type": "markdown",
   "metadata": {},
   "source": [
    "## 第六章 插入图形\n",
    "\n",
    "### 导言\n",
    "\n",
    "图形是论文中描述实验结果及相关情况的一种重要方式，也是论文中经常使用的一种特殊信息语言。一般来说，在科技论文中，通过正确地使用图形来辅助论文内容的理解与结果的表达，可以更直观地展现论文内容，有助于得出正确结论。尤其在科研的数据分析中，能形直观地反映变量与变量之间的关系，能清楚地表达某一变量的发展趋势等。很多时候图形能帮助读者领会文字难以表达的内容，同样重要的是它往往可以起到减少篇幅、方便读者阅读的作用。许多图形是在做实验时用相应的软件生成，在撰写论文时需要将其插入文档中，LaTeX可以较为方便地插入各种格式的图形。\n",
    "\n",
    "本章将介绍如何在LaTeX中插入图形，主要包括基本的插图方式及图形排列格式的调整两部分。基本的插图方式主要介绍了两种插入图片方法：graphicx工具包和figure环境，着重介绍了figure环境中图片的基本格式调整、位置自动化调整以及增加边框。而图形排列格式的调整主要是关于图形并排放置和子图排版的设置方法。"
   ]
  },
  {
   "cell_type": "markdown",
   "metadata": {},
   "source": [
    "【继续】[**6.1 基本的插图方式**](https://nbviewer.jupyter.org/github/xinychen/latex-cookbook/blob/main/chapter-6/section1.ipynb)"
   ]
  },
  {
   "cell_type": "markdown",
   "metadata": {},
   "source": [
    "### License\n",
    "\n",
    "<div class=\"alert alert-block alert-danger\">\n",
    "<b>This work is released under the MIT license.</b>\n",
    "</div>"
   ]
  }
 ],
 "metadata": {
  "kernelspec": {
   "display_name": "Python 3",
   "language": "python",
   "name": "python3"
  },
  "language_info": {
   "codemirror_mode": {
    "name": "ipython",
    "version": 3
   },
   "file_extension": ".py",
   "mimetype": "text/x-python",
   "name": "python",
   "nbconvert_exporter": "python",
   "pygments_lexer": "ipython3",
   "version": "3.8.8"
  }
 },
 "nbformat": 4,
 "nbformat_minor": 4
}
