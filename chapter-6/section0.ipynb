{
 "cells": [
  {
   "cell_type": "markdown",
   "metadata": {},
   "source": [
    "## 第六章 插入图形\n",
    "\n",
    "### 导言\n",
    "\n",
    "图形是论文中描述实验结果及相关情况的一种重要方式，也是论文中经常使用的一种特殊信息语言。一般来说，在科技论文中，通过正确地使用图形来辅助论文内容的理解与结果的表达，可以更直观地展现论文内容，有助于得出正确结论。许多图形是在做实验时用相应的软件生成，在撰写论文时需要将其插入文档中，LaTeX可以较为方便地插入各种格式的图形。本章将介绍如何在LaTeX中插入图形，主要包括：\n",
    "\n",
    "- 基本的插图方式\n",
    "- 图形格式的调整"
   ]
  },
  {
   "cell_type": "markdown",
   "metadata": {},
   "source": [
    "【继续】[**6.1 基本的插图方式**](https://nbviewer.jupyter.org/github/xinychen/latex-cookbook/blob/main/chapter-6/section1.ipynb)"
   ]
  },
  {
   "cell_type": "markdown",
   "metadata": {},
   "source": [
    "### License\n",
    "\n",
    "<div class=\"alert alert-block alert-danger\">\n",
    "<b>This work is released under the MIT license.</b>\n",
    "</div>"
   ]
  }
 ],
 "metadata": {
  "kernelspec": {
   "display_name": "Python 3",
   "language": "python",
   "name": "python3"
  },
  "language_info": {
   "codemirror_mode": {
    "name": "ipython",
    "version": 3
   },
   "file_extension": ".py",
   "mimetype": "text/x-python",
   "name": "python",
   "nbconvert_exporter": "python",
   "pygments_lexer": "ipython3",
   "version": "3.8.3"
  }
 },
 "nbformat": 4,
 "nbformat_minor": 4
}
