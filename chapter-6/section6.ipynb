{
 "cells": [
  {
   "cell_type": "markdown",
   "id": "3fe999db",
   "metadata": {},
   "source": [
    "## 6.6 图片排列与布局\n",
    "\n",
    "通过调整图片排列与布局方式可以创建更专业、更规范的文档。\n",
    "\n",
    "### 6.6.1 多图并排\n",
    "\n",
    "在论文写作中，有时需要将多个图片放在同一行进行排列以便于比较。在`figure`环境中，使用`minnipage`环境即可实现图片并排显示，并连续编号。\n",
    "\n",
    "【**例6-6**】使用`figure`环境嵌套`minnipage`环境实现多图并排显示。\n",
    "\n",
    "```tex\n",
    "\\documentclass[11pt]{article}\n",
    "\\usepackage{graphicx}\n",
    "\n",
    "\\begin{document}\n",
    "\n",
    "The two figures are displayed side by side.\n",
    "\n",
    "\\begin{figure}[htbp]\n",
    "\\centering\n",
    "\\begin{minipage}[t]{0.48\\textwidth} \n",
    "\\centering\n",
    "\\includegraphics[width=6cm]{graphics/butterfly.jpg}\n",
    "\\caption{Butterfly-1}\n",
    "\\end{minipage}\n",
    "\n",
    "\\begin{minipage}[t]{0.48\\textwidth}\n",
    "\\centering\n",
    "\\includegraphics[width=6cm]{graphics/butterfly.jpg}\n",
    "\\caption{Butterfly-2}\n",
    "\\end{minipage}\n",
    "\\end{figure}\n",
    "\n",
    "\\end{document}\n",
    "```\n",
    "\n",
    "编译后的插图效果如图6.2.1所示。\n",
    "\n",
    "<p align=\"center\">\n",
    "<img align=\"middle\" src=\"graphics/example6_2_1.png\" width=\"450\" />\n",
    "</p>\n",
    "\n",
    "<center><b>图6.2.1</b> 编译后的插图效果</center>\n"
   ]
  },
  {
   "cell_type": "markdown",
   "id": "b56b0beb",
   "metadata": {},
   "source": [
    "【回放】[**6.5 插入子图**](https://nbviewer.jupyter.org/github/xinychen/latex-cookbook/blob/main/chapter-6/section5.ipynb)"
   ]
  },
  {
   "cell_type": "markdown",
   "id": "b20f874d",
   "metadata": {},
   "source": [
    "### License\n",
    "\n",
    "<div class=\"alert alert-block alert-danger\">\n",
    "<b>This work is released under the MIT license.</b>\n",
    "</div>"
   ]
  }
 ],
 "metadata": {
  "kernelspec": {
   "display_name": "Python 3 (ipykernel)",
   "language": "python",
   "name": "python3"
  },
  "language_info": {
   "codemirror_mode": {
    "name": "ipython",
    "version": 3
   },
   "file_extension": ".py",
   "mimetype": "text/x-python",
   "name": "python",
   "nbconvert_exporter": "python",
   "pygments_lexer": "ipython3",
   "version": "3.8.0"
  }
 },
 "nbformat": 4,
 "nbformat_minor": 5
}
