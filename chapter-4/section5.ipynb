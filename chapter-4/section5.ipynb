{
 "cells": [
  {
   "cell_type": "markdown",
   "metadata": {},
   "source": [
    "## 4.5 线性代数\n",
    "\n",
    "在线性代数和众多代数课程中，矩阵是最基础的代数结构，可以直观上理解为数表。使用LaTeX时，我们可以用`\\begin{array} \\end{array}`。\n",
    "\n",
    "【**例1**】书写矩阵$\\left[\\begin{array}{ccc} 1 & 2 & 3 \\\\ 4 & 5 & 6 \\\\ \\end{array}\\right]$和$\\left[\\begin{array}{c|cc} 1 & 2 & 3 \\\\ \\hline 4 & 5 & 6 \\\\ \\end{array}\\right]$。\n",
    "\n",
    "```tex\n",
    "\\documentclass[12pt]{article}\n",
    "\\begin{document}\n",
    "\n",
    "$$\\left[\\begin{array}{ccc} 1 & 2 & 3 \\\\ 4 & 5 & 6 \\\\ \\end{array}\\right]$$\n",
    "$$\\left[\\begin{array}{c|cc} 1 & 2 & 3 \\\\ \\hline 4 & 5 & 6 \\\\ \\end{array}\\right]$$\n",
    "\n",
    "\\end{document}\n",
    "```\n",
    "\n",
    "当然，除了`\\begin{array} \\end{array}`，我们还可以用`\\begin{matrix} \\end{matrix}`等一系列环境来书写矩阵。\n",
    "\n",
    "【**例2**】针对例1，使用\n",
    "\n",
    "- `\\begin{smallmatrix} \\end{smallmatrix}`，编译结果为\n",
    "$$\\begin{smallmatrix} 1 & 2 & 3 \\\\ 4 & 5 & 6 \\\\ \\end{smallmatrix}$$\n",
    "- `\\begin{matrix} \\end{matrix}`，编译结果为\n",
    "$$\\begin{matrix} 1 & 2 & 3 \\\\ 4 & 5 & 6 \\\\ \\end{matrix}$$\n",
    "- `\\begin{pmatrix} \\end{pmatrix}`，编译结果为\n",
    "$$\\begin{pmatrix} 1 & 2 & 3 \\\\ 4 & 5 & 6 \\\\ \\end{pmatrix}$$\n",
    "- `\\begin{bmatrix} \\end{bmatrix}`，编译结果为\n",
    "$$\\begin{bmatrix} 1 & 2 & 3 \\\\ 4 & 5 & 6 \\\\ \\end{bmatrix}$$\n",
    "- `\\begin{Bmatrix} \\end{Bmatrix}`，编译结果为\n",
    "$$\\begin{Bmatrix} 1 & 2 & 3 \\\\ 4 & 5 & 6 \\\\ \\end{Bmatrix}$$\n",
    "- `\\begin{vmatrix} \\end{vmatrix}`，编译结果为\n",
    "$$\\begin{vmatrix} 1 & 2 & 3 \\\\ 4 & 5 & 6 \\\\ \\end{vmatrix}$$\n",
    "- `\\begin{Vmatrix} \\end{Vmatrix}`，编译结果为\n",
    "$$\\begin{Vmatrix} 1 & 2 & 3 \\\\ 4 & 5 & 6 \\\\ \\end{Vmatrix}$$\n",
    "\n",
    "```tex\n",
    "\\documentclass[12pt]{article}\n",
    "\\begin{document}\n",
    "\n",
    "$$\\begin{smallmatrix} 1 & 2 & 3 \\\\ 4 & 5 & 6 \\\\ \\end{smallmatrix}$$\n",
    "$$\\begin{matrix} 1 & 2 & 3 \\\\ 4 & 5 & 6 \\\\ \\end{matrix}$$\n",
    "$$\\begin{pmatrix} 1 & 2 & 3 \\\\ 4 & 5 & 6 \\\\ \\end{pmatrix}$$\n",
    "$$\\begin{bmatrix} 1 & 2 & 3 \\\\ 4 & 5 & 6 \\\\ \\end{bmatrix}$$\n",
    "$$\\begin{Bmatrix} 1 & 2 & 3 \\\\ 4 & 5 & 6 \\\\ \\end{Bmatrix}$$\n",
    "$$\\begin{vmatrix} 1 & 2 & 3 \\\\ 4 & 5 & 6 \\\\ \\end{vmatrix}$$\n",
    "$$\\begin{Vmatrix} 1 & 2 & 3 \\\\ 4 & 5 & 6 \\\\ \\end{Vmatrix}$$\n",
    "\n",
    "\\end{document}\n",
    "```\n"
   ]
  },
  {
   "cell_type": "markdown",
   "metadata": {},
   "source": [
    "【回放】[**4.4 微积分**](https://nbviewer.jupyter.org/github/xinychen/latex-cookbook/blob/main/chapter-4/section4.ipynb)\n",
    "\n",
    "【继续】[**4.6 概率论与数理统计**](https://nbviewer.jupyter.org/github/xinychen/latex-cookbook/blob/main/chapter-4/section6.ipynb)"
   ]
  },
  {
   "cell_type": "markdown",
   "metadata": {},
   "source": [
    "### License\n",
    "\n",
    "<div class=\"alert alert-block alert-danger\">\n",
    "<b>This work is released under the MIT license.</b>\n",
    "</div>"
   ]
  }
 ],
 "metadata": {
  "kernelspec": {
   "display_name": "Python 3",
   "language": "python",
   "name": "python3"
  },
  "language_info": {
   "codemirror_mode": {
    "name": "ipython",
    "version": 3
   },
   "file_extension": ".py",
   "mimetype": "text/x-python",
   "name": "python",
   "nbconvert_exporter": "python",
   "pygments_lexer": "ipython3",
   "version": "3.8.3"
  }
 },
 "nbformat": 4,
 "nbformat_minor": 4
}
