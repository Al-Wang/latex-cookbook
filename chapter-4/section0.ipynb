{
 "cells": [
  {
   "cell_type": "markdown",
   "metadata": {},
   "source": [
    "## 第四章 公式编辑\n",
    "\n",
    "### 导言\n",
    "\n",
    "使用LaTeX制作文档时，有一类特殊的文本，他需要使用到一些特定的工具包才能编译出来，这便是数学公式。很长一段时间以来，LaTeX作为一种便捷高效的论文编辑工具，一大特色便是能生成优雅美观的数学公式，即便是非常复杂的数学公式，LaTeX也能通过一些简单的代码轻松生成出来，因此，LaTeX强大的数学公式编辑功能一直备受各类科研工作者的喜爱。实际上，很多人对LaTeX的第一印象也都是建立在LaTeX强大的数学公式编辑功能上的。在数学、物理、计算机等相关的研究领域中，学术文献中往往会有大量的数学公式，有些公式甚至非常复杂和抽象，如果用Word等办公软件编写出这些复杂的数学公式，难度和工作量可想而知。此时，使用LaTeX就再适合不过啦！\n"
   ]
  },
  {
   "cell_type": "markdown",
   "metadata": {},
   "source": [
    "【继续】[**4.1 xxxx**](https://nbviewer.jupyter.org/github/xinychen/latex-cookbook/blob/main/chapter-4/section1.ipynb)"
   ]
  },
  {
   "cell_type": "markdown",
   "metadata": {},
   "source": [
    "### License\n",
    "\n",
    "<div class=\"alert alert-block alert-danger\">\n",
    "<b>This work is released under the MIT license.</b>\n",
    "</div>"
   ]
  }
 ],
 "metadata": {
  "kernelspec": {
   "display_name": "Python 3",
   "language": "python",
   "name": "python3"
  },
  "language_info": {
   "codemirror_mode": {
    "name": "ipython",
    "version": 3
   },
   "file_extension": ".py",
   "mimetype": "text/x-python",
   "name": "python",
   "nbconvert_exporter": "python",
   "pygments_lexer": "ipython3",
   "version": "3.8.3"
  }
 },
 "nbformat": 4,
 "nbformat_minor": 4
}
