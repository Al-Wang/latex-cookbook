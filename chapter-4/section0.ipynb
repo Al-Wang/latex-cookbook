{
 "cells": [
  {
   "cell_type": "markdown",
   "metadata": {},
   "source": [
    "## 第四章 公式编辑\n",
    "\n",
    "### 导言\n",
    "\n",
    "在一些文档特别是科技文档写作的过程中，难免涉及复杂数学公式的编辑工作，Macrosoft office等办公软件繁琐低效的数学公式编辑问题长期困扰着广大科研工作者。LaTeX具有简洁又强大的数学公式编辑功能，通过调用特定的工具包、使用一些简单的代码就能生成优雅美观的数学公式，这也是LaTeX深受广大科研工作者喜爱的重要原因之一。\n"
   ]
  },
  {
   "cell_type": "markdown",
   "metadata": {},
   "source": [
    "【继续】[**4.1 基本介绍**](https://nbviewer.jupyter.org/github/xinychen/latex-cookbook/blob/main/chapter-4/section1.ipynb)"
   ]
  },
  {
   "cell_type": "markdown",
   "metadata": {},
   "source": [
    "### License\n",
    "\n",
    "<div class=\"alert alert-block alert-danger\">\n",
    "<b>This work is released under the MIT license.</b>\n",
    "</div>"
   ]
  }
 ],
 "metadata": {
  "kernelspec": {
   "display_name": "Python 3",
   "language": "python",
   "name": "python3"
  },
  "language_info": {
   "codemirror_mode": {
    "name": "ipython",
    "version": 3
   },
   "file_extension": ".py",
   "mimetype": "text/x-python",
   "name": "python",
   "nbconvert_exporter": "python",
   "pygments_lexer": "ipython3",
   "version": "3.8.3"
  }
 },
 "nbformat": 4,
 "nbformat_minor": 4
}
