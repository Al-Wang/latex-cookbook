{
 "cells": [
  {
   "cell_type": "markdown",
   "metadata": {},
   "source": [
    "## 第四章 公式编辑\n",
    "\n",
    "### 导言\n",
    "\n",
    "在一些文档特别是科技文档写作的过程中，难免涉及复杂数学公式的编辑工作。Macrosoft office等办公软件繁琐低效的数学公式编辑问题长期困扰着广大科研工作者。为什么这些办公软件数学公式编辑效率低下，主要原因是数学公式本身就是复杂多变的，而这些软件采用交互式的操作会让用户使用起来效率变低。而LaTeX具有简洁又强大的数学公式编辑功能，可以通过调用特定的工具包、使用一些简单的代码就能生成优雅美观的数学公式，这也是LaTeX深受广大科研工作者喜爱的重要原因之一。\n",
    "\n",
    "本章将介绍在Latex中进行编写公式编辑的方法和技巧。为了方便读者查用和学习，我们将公式编辑内容主要分为以下部分：公式编辑的基本介绍、常用的数学符号、希腊字母、微积分中的常用公式、线性代数中的常用公式、概率论和数理统计、优化理论中的公式。这样分类的目的就是便于读者根据需要，可以很快查找出合适的公式编辑方法。公式编辑的基本介绍主要是关于数学公式换的设定和基本格式的调整；而常用的数学符号包括运算符号、标记符号、各类括号、空心符号和特殊函数；希腊字母主要用于一些数学的变量表示。"
   ]
  },
  {
   "cell_type": "markdown",
   "metadata": {},
   "source": [
    "【继续】[**4.1 基本介绍**](https://nbviewer.jupyter.org/github/xinychen/latex-cookbook/blob/main/chapter-4/section1.ipynb)"
   ]
  },
  {
   "cell_type": "markdown",
   "metadata": {},
   "source": [
    "### License\n",
    "\n",
    "<div class=\"alert alert-block alert-danger\">\n",
    "<b>This work is released under the MIT license.</b>\n",
    "</div>"
   ]
  }
 ],
 "metadata": {
  "kernelspec": {
   "display_name": "Python 3",
   "language": "python",
   "name": "python3"
  },
  "language_info": {
   "codemirror_mode": {
    "name": "ipython",
    "version": 3
   },
   "file_extension": ".py",
   "mimetype": "text/x-python",
   "name": "python",
   "nbconvert_exporter": "python",
   "pygments_lexer": "ipython3",
   "version": "3.8.8"
  }
 },
 "nbformat": 4,
 "nbformat_minor": 4
}
