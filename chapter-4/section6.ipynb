{
 "cells": [
  {
   "cell_type": "markdown",
   "metadata": {},
   "source": [
    "## 4.6 概率论与数理统计\n",
    "\n",
    "概率论与数理统计是开展很多科学研究的基础，不管是描述客观存在的数据，还是刻画变量之间的关联规则，凭借概率论知识都能得心应手。\n",
    "\n",
    "【**例1**】书写贝叶斯准则$p\\left(\\theta\\mid y\\right)=\\frac{p\\left(\\theta,y\\right)}{p\\left(y\\right)}=\\frac{p\\left(\\theta\\right)p\\left(y\\mid\\theta\\right)}{p\\left(y\\right)}$和$p\\left(\\theta\\mid y\\right)\\propto p\\left(\\theta\\right)p\\left(y\\mid\\theta\\right)$。\n",
    "\n",
    "```tex\n",
    "\\documentclass[12pt]{article}\n",
    "\\begin{document}\n",
    "\n",
    "$$p\\left(\\theta\\mid y\\right)=\\frac{p\\left(\\theta,y\\right)}{p\\left(y\\right)}=\\frac{p\\left(\\theta\\right)p\\left(y\\mid\\theta\\right)}{p\\left(y\\right)}$$\n",
    "$$p\\left(\\theta\\mid y\\right)\\propto p\\left(\\theta\\right)p\\left(y\\mid\\theta\\right)$$\n",
    "\n",
    "\\end{document}\n",
    "```\n",
    "\n",
    "【**例2**】书写$p\\left(y\\right)=\\int p\\left(y,\\theta\\right)d\\theta=\\int p\\left(\\theta\\right)p\\left(y\\mid\\theta\\right)d\\theta$。\n",
    "\n",
    "```tex\n",
    "\\documentclass[12pt]{article}\n",
    "\\begin{document}\n",
    "\n",
    "$$p\\left(y\\right)=\\int p\\left(y,\\theta\\right)\\,d\\theta=\\int p\\left(\\theta\\right)p\\left(y\\mid\\theta\\right)\\,d\\theta$$\n",
    "\n",
    "\\end{document}\n",
    "```\n",
    "\n",
    "【**例3**】书写期望$\\mathbb{E}\\left(x\\right)=\\int xp\\left(x\\right)dx$与方差$\\mathbb{V}\\left(x\\right)=\\int\\left(x-\\mathbb{E}\\left(x\\right)\\right)^{2}p\\left(x\\right)dx$。\n",
    "\n",
    "```tex\n",
    "\\documentclass[12pt]{article}\n",
    "\\begin{document}\n",
    "\n",
    "$$\\mathbb{E}\\left(x\\right)=\\int xp\\left(x\\right)dx$$\n",
    "$$\\mathbb{V}\\left(x\\right)=\\int\\left(x-\\mathbb{E}\\left(x\\right)\\right)^{2}p\\left(x\\right)dx$$\n",
    "\n",
    "\\end{document}\n",
    "```"
   ]
  },
  {
   "cell_type": "markdown",
   "metadata": {},
   "source": [
    "【回放】[**4.5 线性代数**](https://nbviewer.jupyter.org/github/xinychen/latex-cookbook/blob/main/chapter-4/section5.ipynb)\n",
    "\n",
    "【继续】[**4.7 xxxx**](https://nbviewer.jupyter.org/github/xinychen/latex-cookbook/blob/main/chapter-4/section7.ipynb)"
   ]
  },
  {
   "cell_type": "markdown",
   "metadata": {},
   "source": [
    "### License\n",
    "\n",
    "<div class=\"alert alert-block alert-danger\">\n",
    "<b>This work is released under the MIT license.</b>\n",
    "</div>"
   ]
  }
 ],
 "metadata": {
  "kernelspec": {
   "display_name": "Python 3",
   "language": "python",
   "name": "python3"
  },
  "language_info": {
   "codemirror_mode": {
    "name": "ipython",
    "version": 3
   },
   "file_extension": ".py",
   "mimetype": "text/x-python",
   "name": "python",
   "nbconvert_exporter": "python",
   "pygments_lexer": "ipython3",
   "version": "3.8.3"
  }
 },
 "nbformat": 4,
 "nbformat_minor": 4
}
