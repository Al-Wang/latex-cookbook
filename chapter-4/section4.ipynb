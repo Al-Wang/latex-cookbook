{
 "cells": [
  {
   "cell_type": "markdown",
   "metadata": {},
   "source": [
    "## 4.4 微积分中的数学表达式\n",
    "\n",
    "事实上，数学公式的范畴极为广泛，我们所熟知的是，在大学数学课程微积分、线性代数、概率论与数理统计中，其数学表达式的符号系统大不相同，因此，本节将主要介绍如何使用LaTeX对微积分中的数学表达式进行书写和编译。\n",
    "\n",
    "### 4.4.1 导数\n",
    "\n",
    "在微积分中，给定函数$f(x)$后，我们能够将其导数定义为\n",
    "\n",
    "$$f'(a)=\\lim_{x\\to a}\\frac{f(x)-f(a)}{x-a}$$\n",
    "\n",
    "用LaTeX书写这条公式为`$$f'(x)=\\lim_{x\\to a}\\frac{f(x)-f(a)}{x-a}$$`，有时候，为了让分数的形式不显示过大，可以用`$$\\lim\\limits_{x\\toa}\\frac{f(x)-f(a)}{x-a}=f'(x)$$`，编译效果为\n",
    "\n",
    "$$f'(a)=\\lim\\limits_{x\\to a}\\frac{f(x)-f(a)}{x-a}$$\n",
    "\n",
    "### 4.4.2 积分\n",
    "\n"
   ]
  },
  {
   "cell_type": "markdown",
   "metadata": {},
   "source": [
    "【回放】[**4.3 希腊字母**](https://nbviewer.jupyter.org/github/xinychen/latex-cookbook/blob/main/chapter-4/section3.ipynb)\n",
    "\n",
    "【继续】[**4.5 线性代数中的数学表达式**](https://nbviewer.jupyter.org/github/xinychen/latex-cookbook/blob/main/chapter-4/section5.ipynb)"
   ]
  },
  {
   "cell_type": "markdown",
   "metadata": {},
   "source": [
    "### License\n",
    "\n",
    "<div class=\"alert alert-block alert-danger\">\n",
    "<b>This work is released under the MIT license.</b>\n",
    "</div>"
   ]
  }
 ],
 "metadata": {
  "kernelspec": {
   "display_name": "Python 3",
   "language": "python",
   "name": "python3"
  },
  "language_info": {
   "codemirror_mode": {
    "name": "ipython",
    "version": 3
   },
   "file_extension": ".py",
   "mimetype": "text/x-python",
   "name": "python",
   "nbconvert_exporter": "python",
   "pygments_lexer": "ipython3",
   "version": "3.8.3"
  }
 },
 "nbformat": 4,
 "nbformat_minor": 4
}
