{
 "cells": [
  {
   "cell_type": "markdown",
   "metadata": {},
   "source": [
    "## 4.4 微积分\n",
    "\n",
    "事实上，数学公式的范畴极为广泛，我们所熟知的是，在大学数学课程微积分、线性代数、概率论与数理统计中，其数学表达式的符号系统大不相同，因此，本节将主要介绍如何使用LaTeX对微积分中的数学表达式进行书写和编译。\n",
    "\n",
    "### 4.4.1 极限\n",
    "\n",
    "求极限是整个微积分中的基石，例如$\\lim_{x\\to 2}x^{2}$对应的LaTeX代码为`$\\lim_{x\\to 2}x^{2}$`。\n",
    "\n",
    "【**例1**】书写以下求极限的表达式：\n",
    "\n",
    "$$\\lim_{x\\to-\\infty}\\frac{3x^{2}-2}{3x-2x^{2}}=\\lim_{x\\to-\\infty}\\frac{x^{2}\\left(3-\\frac{2}{x^{2}}\\right)}{x^{2}\\left(\\frac{3}{x}-2\\right)}=\\lim_{x\\to-\\infty}\\frac{3-\\frac{2}{x^{2}}}{\\frac{3}{x}-2}=-\\frac{3}{2}$$\n",
    "\n",
    "```tex\n",
    "\\documentclass[12pt]{article}\n",
    "\\begin{document}\n",
    "\n",
    "$$\\lim_{x\\to-\\infty}\\frac{3x^{2}-2}{3x-2x^{2}}=\\lim_{x\\to-\\infty}\\frac{x^{2}\\left(3-\\frac{2}{x^{2}}\\right)}{x^{2}\\left(\\frac{3}{x}-2\\right)}=\\lim_{x\\to-\\infty}\\frac{3-\\frac{2}{x^{2}}}{\\frac{3}{x}-2}=-\\frac{3}{2}$$\n",
    "\n",
    "\\end{document}\n",
    "```\n",
    "\n",
    "【**例2**】书写极限$\\lim_{\\Delta t\\to0}\\frac{s(t+\\Delta t)+s(t)}{\\Delta t}$和$\\displaystyle{\\lim_{\\Delta t\\to0}\\frac{s(t+\\Delta t)+s(t)}{\\Delta t}}$。\n",
    "\n",
    "```tex\n",
    "\\documentclass[12pt]{article}\n",
    "\\begin{document}\n",
    "\n",
    "$\\lim_{\\Delta t\\to0}\\frac{s(t+\\Delta t)+s(t)}{\\Delta t}$ \\& $\\displaystyle{\\lim_{\\Delta t\\to0}\\frac{s(t+\\Delta t)+s(t)}{\\Delta t}}$\n",
    "\n",
    "\\end{document}\n",
    "```"
   ]
  },
  {
   "cell_type": "markdown",
   "metadata": {},
   "source": [
    "### 4.4.2 导数\n",
    "\n",
    "在微积分中，给定函数$f(x)$后，我们能够将其导数定义为\n",
    "\n",
    "$$f^\\prime(a)=\\lim_{x\\to a}\\frac{f(x)-f(a)}{x-a}$$\n",
    "\n",
    "用LaTeX书写这条公式为`$$f^\\prime(x)=\\lim_{x\\to a}\\frac{f(x)-f(a)}{x-a}$$`，有时候，为了让分数的形式在直观上不显得过大，可以用`$$f^\\prime(x)=\\lim\\limits_{x\\toa}\\frac{f(x)-f(a)}{x-a}$$`，其中，`\\lim`和`\\limits`两个命令需要配合使用。\n",
    "\n",
    "需要注意的是，`f^\\prime(x)`中的`\\prime`命令是标准写法，有时候也可以写作`f'(x)`。\n",
    "\n",
    "【**例3**】书写导数的定义$f^\\prime(x)=\\lim_{\\Delta x\\to 0}\\frac{f(x+\\Delta x)-f(x)}{\\Delta x}$。\n",
    "\n",
    "```tex\n",
    "\\documentclass[12pt]{article}\n",
    "\\begin{document}\n",
    "\n",
    "$$f^\\prime(x)=\\lim_{\\Delta x\\to 0}\\frac{f(x+\\Delta x)-f(x)}{\\Delta x}$$\n",
    "\n",
    "\\end{document}\n",
    "```\n",
    "\n",
    "【**例4**】书写函数$f(x)=3x^{5}+2x^{3}+1$的导数$f^\\prime(x)=15x^{4}+6x^{2}$。\n",
    "\n",
    "```tex\n",
    "\\documentclass[12pt]{article}\n",
    "\\begin{document}\n",
    "\n",
    "$$f^\\prime(x)=15x^{4}+6x^{2}$$\n",
    "\n",
    "\\end{document}\n",
    "```\n",
    "\n",
    "微分在微积分中举足轻重，一般而言，微分的标准写法为$\\frac{\\mathrm{d}^{n}}{\\mathrm{d}x^{n}}f(x)$。\n",
    "\n",
    "【**例5**】书写微分$\\frac{\\mathrm{d}}{\\mathrm{d}x}f(x)=15x^{4}+6x^{2}$、$\\frac{\\mathrm{d}^{2}}{\\mathrm{d}^{2}x}f(x)=60x^{3}+12x$。\n",
    "\n",
    "```tex\n",
    "\\documentclass[12pt]{article}\n",
    "\\begin{document}\n",
    "\n",
    "$$\\frac{\\mathrm{d}}{\\mathrm{d}x}f(x)=15x^{4}+6x^{2}$$\n",
    "$$\\frac{\\mathrm{d}^{2}}{\\mathrm{d}^{2}x}f(x)=60x^{3}+12x$$\n",
    "\n",
    "\\end{document}\n",
    "```\n",
    "\n",
    "在微积分中，对于任意函数$f(x,y)$，偏微分的标准写法为$\\frac{\\partial^{n}}{\\partial x^{n}}f(x,y)$或$\\frac{\\partial^{n}}{\\partial y^{n}}f(x,y)$。\n",
    "\n",
    "【**例6**】书写函数$f(x,y)=3x^{5}y^{2}+2x^{3}y+1$的偏微分$\\frac{\\partial}{\\partial x}f(x,y)=15x^{4}y^{2}+6x^{2}y$和$\\frac{\\partial}{\\partial y}f(x,y)=6x^{5}y+2x^{3}$。\n",
    "\n",
    "```tex\n",
    "\\documentclass[12pt]{article}\n",
    "\\begin{document}\n",
    "\n",
    "$$\\frac{\\partial}{\\partial x}f(x,y)=15x^{4}y^{2}+6x^{2}y$$\n",
    "$$\\frac{\\partial}{\\partial y}f(x,y)=6x^{5}y+2x^{3}$$\n",
    "\n",
    "\\end{document}\n",
    "```\n"
   ]
  },
  {
   "cell_type": "markdown",
   "metadata": {},
   "source": [
    "### 4.4.3 积分\n",
    "\n",
    "积分的标准写法为$\\int_{a}^{b}f(x)\\,\\mathrm{d}x$，代码为`\\int_{a}^{b}f(x)\\,\\mathrm{d}x`，其中，`\\int`表示积分，是英文单词integral的缩写形式，使用`\\,`的目的是引入一个空格。\n",
    "\n",
    "【**例7**】书写积分$\\int\\frac{\\mathrm{d}x}{\\sqrt{a^{2}+x^{2}}}=\\frac{1}{a}\\arcsin\\left(\\frac{x}{a}\\right)+C$和$\\int\\tan^{2}x\\,\\mathrm{d}x=\\tan x-x+C$。\n",
    "\n",
    "```tex\n",
    "\\documentclass[12pt]{article}\n",
    "\\begin{document}\n",
    "\n",
    "$$\\int\\frac{\\mathrm{d}x}{\\sqrt{a^{2}+x^{2}}}=\\frac{1}{a}\\arcsin\\left(\\frac{x}{a}\\right)+C$$\n",
    "$$\\int\\tan^{2}x\\,\\mathrm{d}x=\\tan x-x+C$$\n",
    "\n",
    "\\end{document}\n",
    "```"
   ]
  },
  {
   "cell_type": "markdown",
   "metadata": {},
   "source": [
    "【回放】[**4.3 希腊字母**](https://nbviewer.jupyter.org/github/xinychen/latex-cookbook/blob/main/chapter-4/section3.ipynb)\n",
    "\n",
    "【继续】[**4.5 线性代数中的数学表达式**](https://nbviewer.jupyter.org/github/xinychen/latex-cookbook/blob/main/chapter-4/section5.ipynb)"
   ]
  },
  {
   "cell_type": "markdown",
   "metadata": {},
   "source": [
    "### License\n",
    "\n",
    "<div class=\"alert alert-block alert-danger\">\n",
    "<b>This work is released under the MIT license.</b>\n",
    "</div>"
   ]
  }
 ],
 "metadata": {
  "kernelspec": {
   "display_name": "Python 3",
   "language": "python",
   "name": "python3"
  },
  "language_info": {
   "codemirror_mode": {
    "name": "ipython",
    "version": 3
   },
   "file_extension": ".py",
   "mimetype": "text/x-python",
   "name": "python",
   "nbconvert_exporter": "python",
   "pygments_lexer": "ipython3",
   "version": "3.8.3"
  }
 },
 "nbformat": 4,
 "nbformat_minor": 4
}
