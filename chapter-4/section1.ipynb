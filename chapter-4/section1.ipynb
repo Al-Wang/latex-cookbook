{
 "cells": [
  {
   "cell_type": "markdown",
   "metadata": {},
   "source": [
    "## 4.1 基本介绍\n",
    "\n",
    "由于LaTeX编辑的数学公式颜值非常高，所以很多理工科研究领域的顶级期刊甚至明确要求投稿论文必须按照给定的LaTeX模板进行论文排版，其实这样做一方面能保证论文整体的美观程度，另一方面也能让生成出来的数学公式更加规范。一般而言，使用LaTeX编辑公式的一系列规则与数学公式的编写原则是一致的，例如，在LaTeX中，我们可以用`$\\frac{\\partial f}{\\partial x}$`生成偏导数$\\frac{\\partial f}{\\partial x}$。\n",
    "\n",
    "在LaTeX中生成数学公式也有一些基本规则，插入公式的方式有很多种，最基本的一种方式是使用美元符号，这种方式不仅在LaTeX适用，在Markdown中也是适用的，具体插入数学公式的方法是：\n",
    "\n",
    "- 如果我们想插入行内公式，可以直接在两个美元符号中间编辑需要的公式。\n",
    "- 如果想用美元符号插入行间公式，我们需要输入四个美元符号，与此同时，在四个美元符号中间编辑需要的公式。需要注意的是，这里生成的数学公式会自动居中对齐。\n",
    "\n",
    "尽管美元符号可以在行间插入公式，但却没办法对公式进行编号。生成带有自动公式编号的行间公式需要用到数学公式环境`\\begin{equation} \\end{equation}`。\n",
    "\n",
    "【**例1**】用美元符号和数学公式环境生成一条简单的数学公式。\n",
    "\n",
    "```tex\n",
    "\\documentclass[12pt]{article}\n",
    "\\begin{document}\n",
    "\n",
    "$x+y=2$\n",
    "\n",
    "$$x+y=2$$\n",
    "\n",
    "\\begin{equation}\n",
    "x+y=2\n",
    "\\end{equation}\n",
    "\n",
    "\\end{document}\n",
    "```\n",
    "\n",
    "更进一步，如果想对公式进行索引，可以使用`\\label`和`\\eqref`两个命令。\n",
    "\n",
    "【**例2**】在数学公式环境中使用使用`\\label`和`\\eqref`两个命令对数学公式进行索引。\n",
    "\n",
    "```tex\n",
    "\\documentclass[12pt]{article}\n",
    "\\begin{document}\n",
    "\n",
    "Equation~\\eqref{eq1} shows a simple formula.\n",
    "\n",
    "\\begin{equation}\\label{eq1}\n",
    "x+y=2\n",
    "\\end{equation}\n",
    "\n",
    "\\end{document}\n",
    "```\n"
   ]
  },
  {
   "cell_type": "markdown",
   "metadata": {},
   "source": [
    "【回放】[**导言**](https://nbviewer.jupyter.org/github/xinychen/latex-cookbook/blob/main/chapter-4/section0.ipynb)\n",
    "\n",
    "【继续】[**4.2 常用的运算符号**](https://nbviewer.jupyter.org/github/xinychen/latex-cookbook/blob/main/chapter-4/section2.ipynb)"
   ]
  },
  {
   "cell_type": "markdown",
   "metadata": {},
   "source": [
    "### License\n",
    "\n",
    "<div class=\"alert alert-block alert-danger\">\n",
    "<b>This work is released under the MIT license.</b>\n",
    "</div>"
   ]
  }
 ],
 "metadata": {
  "kernelspec": {
   "display_name": "Python 3",
   "language": "python",
   "name": "python3"
  },
  "language_info": {
   "codemirror_mode": {
    "name": "ipython",
    "version": 3
   },
   "file_extension": ".py",
   "mimetype": "text/x-python",
   "name": "python",
   "nbconvert_exporter": "python",
   "pygments_lexer": "ipython3",
   "version": "3.8.3"
  }
 },
 "nbformat": 4,
 "nbformat_minor": 4
}
