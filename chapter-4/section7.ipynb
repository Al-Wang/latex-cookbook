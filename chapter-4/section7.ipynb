{
 "cells": [
  {
   "cell_type": "markdown",
   "metadata": {},
   "source": [
    "## 4.7 优化理论\n",
    "\n",
    "\n",
    "【**例1**】书写如下带约束的优化问题：\n",
    "\n",
    "\\begin{equation}\n",
    "\\begin{aligned}\n",
    "&\\min_{x}\\,f(x) \\\\\n",
    "&\\text{s.t.}\\,x\\in\\mathcal{X},\\quad g_{j}\\left(x\\right)\\leq 0,\\,j=1,\\ldots,r\n",
    "\\end{aligned}\n",
    "\\end{equation}\n",
    "\n",
    "```tex\n",
    "\\documentclass[12pt]{article}\n",
    "\\begin{document}\n",
    "\n",
    "\\begin{equation}\n",
    "\\begin{aligned}\n",
    "&\\min_{x}\\,f(x) \\\\\n",
    "&\\text{s.t.}\\,x\\in\\mathcal{X},\\quad g_{j}\\left(x\\right)\\leq 0,\\,j=1,\\ldots,r\n",
    "\\end{aligned}\n",
    "\\end{equation}\n",
    "\n",
    "\\end{document}\n",
    "```\n",
    "\n",
    "【**例2**】书写一个由有限个向量$\\boldsymbol{x}_{1},\\ldots,\\boldsymbol{x}_{m}$构成的集合：\n",
    "\n",
    "$$\\operatorname{conv}\\left(\\{\\boldsymbol{x}_{1},\\cdots,\\boldsymbol{x}_{m}\\}\\right)=\\left\\{\\sum_{i=1}^{m}\\alpha_{i}\\boldsymbol{x}_{i}\\bigm|\\alpha_{i}\\geq 0,\\,i=1,\\ldots,m,\\,\\sum_{i=1}^{m}\\alpha_{i}=1\\right\\}$$\n",
    "\n",
    "```tex\n",
    "\\documentclass[12pt]{article}\n",
    "\\begin{document}\n",
    "\n",
    "$$\\operatorname{conv}\\left(\\{\\boldsymbol{x}_{1},\\cdots,\\boldsymbol{x}_{m}\\}\\right)=\\left\\{\\sum_{i=1}^{m}\\alpha_{i}\\boldsymbol{x}_{i}\\bigm|\\alpha_{i}\\geq 0,\\,i=1,\\ldots,m,\\,\\sum_{i=1}^{m}\\alpha_{i}=1\\right\\}$$\n",
    "\n",
    "\\end{document}\n",
    "```"
   ]
  },
  {
   "cell_type": "markdown",
   "metadata": {},
   "source": [
    "### 练习题\n",
    "\n",
    "> 打开LaTeX在线系统[https://www.overleaf.com](https://www.overleaf.com/project)或本地安装好的LaTeX编辑器，创建名为LaTeX_practice的项目，并同时新建一个以`.tex`为拓展名的源文件，完成以下几道练习题。\n",
    "\n",
    "1. 书写\n",
    "\n",
    "xxxx\n",
    "\n",
    "```tex\n",
    "\\documentclass[12pt]{article}\n",
    "\\begin{document}\n",
    "\n",
    "%% 提示：\n",
    "\\begin{equation}\n",
    "% 在此处书写公式\n",
    "\\end{equation}\n",
    "\n",
    "\\end{document}\n",
    "```\n"
   ]
  },
  {
   "cell_type": "markdown",
   "metadata": {},
   "source": [
    "【回放】[**4.6 概率论与数理统计**](https://nbviewer.jupyter.org/github/xinychen/latex-cookbook/blob/main/chapter-4/section6.ipynb)\n",
    "\n",
    "【继续】[**4.8 xxxx**](https://nbviewer.jupyter.org/github/xinychen/latex-cookbook/blob/main/chapter-4/section8.ipynb)"
   ]
  },
  {
   "cell_type": "markdown",
   "metadata": {},
   "source": [
    "### License\n",
    "\n",
    "<div class=\"alert alert-block alert-danger\">\n",
    "<b>This work is released under the MIT license.</b>\n",
    "</div>"
   ]
  }
 ],
 "metadata": {
  "kernelspec": {
   "display_name": "Python 3",
   "language": "python",
   "name": "python3"
  },
  "language_info": {
   "codemirror_mode": {
    "name": "ipython",
    "version": 3
   },
   "file_extension": ".py",
   "mimetype": "text/x-python",
   "name": "python",
   "nbconvert_exporter": "python",
   "pygments_lexer": "ipython3",
   "version": "3.8.3"
  }
 },
 "nbformat": 4,
 "nbformat_minor": 4
}
