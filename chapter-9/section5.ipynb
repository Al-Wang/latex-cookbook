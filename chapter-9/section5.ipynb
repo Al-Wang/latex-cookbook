{
 "cells": [
  {
   "cell_type": "markdown",
   "metadata": {},
   "source": [
    "## 10.5 幻灯片中的图形\n",
    "\n",
    "与LaTeX制作常规文档类似，在Beamer中插入图形或者绘制图形其实非常简单，可以使用一些现成的宏包并调用相应的命令或环境。\n",
    "\n",
    "### 10.5.1 插入图形\n",
    "\n",
    "插入图形可以使用`graphics`宏包，在前导代码中申明`\\usepackage{graphics}`即可调用相应的命令或环境，插入的图形格式包括`.pdf`、`.jpg`、`.jpeg`、`.png`。直接插入图形的方式为`\\includegraphics[A]{B}`，其中，位置A为图形在幻灯片中的显示尺寸，例如`height = 3cm`，位置B为图形的文件名，例如`example.pdf`。\n",
    "\n"
   ]
  },
  {
   "cell_type": "markdown",
   "metadata": {},
   "source": [
    "### 参考资料\n",
    "\n",
    "- Charles T. Batts. [A Beamer Tutorial in Beamer](https://www.uncg.edu/cmp/reu/presentations/Charles%20Batts%20-%20Beamer%20Tutorial.pdf), April 4, 2007."
   ]
  },
  {
   "cell_type": "markdown",
   "metadata": {},
   "source": [
    "【回放】[**10.4 编辑文本**](https://nbviewer.jupyter.org/github/xinychen/latex-cookbook/blob/main/chapter-10/section4.ipynb)"
   ]
  },
  {
   "cell_type": "markdown",
   "metadata": {},
   "source": [
    "### License\n",
    "\n",
    "<div class=\"alert alert-block alert-danger\">\n",
    "<b>This work is released under the MIT license.</b>\n",
    "</div>"
   ]
  }
 ],
 "metadata": {
  "kernelspec": {
   "display_name": "Python 3",
   "language": "python",
   "name": "python3"
  },
  "language_info": {
   "codemirror_mode": {
    "name": "ipython",
    "version": 3
   },
   "file_extension": ".py",
   "mimetype": "text/x-python",
   "name": "python",
   "nbconvert_exporter": "python",
   "pygments_lexer": "ipython3",
   "version": "3.8.3"
  }
 },
 "nbformat": 4,
 "nbformat_minor": 4
}
