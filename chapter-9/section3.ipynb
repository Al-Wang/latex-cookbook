{
 "cells": [
  {
   "cell_type": "markdown",
   "metadata": {},
   "source": [
    "## 9.3 Bibtex用法\n",
    "\n",
    "LaTeX主要有两种管理参考文献的方法，第一种方法是在`.tex`文档中嵌入参考文献，参考文献格式需符合特定的文献引用格式，另一种方法则是使用 Bibtex进行文献管理，文件的拓展名为`.bib`。其中，使用外部文件Bibtex管理文献更加便捷高效。\n",
    "\n",
    "### 9.3.1 创建参考文献\n",
    "\n",
    "在LaTeX中，插入参考文献的一种直接方式是使用`thebibliography`环境，以列表的形式将参考文献进行整理起来，配以标签，以供正文引用，文档中引用的命令为`\\cite{}`。\n",
    "\n",
    "【**例1**】使用`thebibliography`环境在文档中插入参考文献并进行编译。\n",
    "\n",
    "```tex\n",
    "\\documentclass[12pt]{article}\n",
    "\n",
    "\\begin{document}\n",
    "\n",
    "Some examples for showing how to use Bibliography:\n",
    "\\begin{itemize}\n",
    "    \\item Book reference sample: The \\LaTeX\\ companion book \\cite{latexcompanion}.\n",
    "    \\item Paper reference sample: On the electrodynamics of moving bodies \\cite{einstein}.\n",
    "    \\item Open-source reference sample: Knuth: Computers and Typesetting \\cite{knuthwebsite}.\n",
    "\\end{itemize}\n",
    "\n",
    "\\begin{thebibliography}{9}\n",
    "\\bibitem{latexcompanion} \n",
    "Michel Goossens, Frank Mittelbach, and Alexander Samarin. \n",
    "\\textit{The \\LaTeX\\ Companion}. \n",
    "Addison-Wesley, Reading, Massachusetts, 1993.\n",
    "\n",
    "\\bibitem{einstein} \n",
    "Albert Einstein. \n",
    "\\textit{Zur Elektrodynamik bewegter K{\\\"o}rper}. (German) \n",
    "[\\textit{On the electrodynamics of moving bodies}]. \n",
    "Annalen der Physik, 322(10):891–921, 1905.\n",
    "\n",
    "\\bibitem{knuthwebsite} \n",
    "Knuth: Computers and Typesetting,\n",
    "\\\\\\texttt{http://www-cs-faculty.stanford.edu/\\~{}uno/abcde.html}\n",
    "\\end{thebibliography}\n",
    "\n",
    "\\end{document}\n",
    "```\n",
    "\n",
    "此处，文档末尾会将参考文献显示出来。\n",
    "\n",
    "【**例2**】使用`thebibliography`环境在文档中插入参考文献并进行编译。\n",
    "\n",
    "```tex\n",
    "\\documentclass[12pt]{article}\n",
    "\n",
    "\\begin{document}\n",
    "\n",
    "\\LaTeX{} \\cite{lamport94} is a set of macros built atop \\TeX{} \\cite{texbook}.\n",
    "\n",
    "\\begin{thebibliography}{9}\n",
    "\\bibitem{texbook}\n",
    "Donald E. Knuth (1986) \\emph{The \\TeX{} Book}, Addison-Wesley Professional.\n",
    "\n",
    "\\bibitem{lamport94}\n",
    "Leslie Lamport (1994) \\emph{\\LaTeX: a document preparation system}, Addison\n",
    "Wesley, Massachusetts, 2nd ed.\n",
    "\\end{thebibliography}\n",
    "\n",
    "\\end{document}\n",
    "```\n",
    "\n",
    "> 参考[Creating and Managing Bibliographies with BibTeX on Overleaf](https://www.overleaf.com/blog/532-creating-and-managing-bibliographies-with-bibtex-on-overleaf)。\n",
    "\n",
    "### 9.3.2 使用Bibtex文件\n",
    "\n",
    "Bibtex文件的拓展名为`.bib`，实际上，该文件中的文献都是用列表的形式罗列的，且不分先后顺序。"
   ]
  },
  {
   "cell_type": "markdown",
   "metadata": {},
   "source": [
    "【回放】[**9.2 创建超链接**](https://nbviewer.jupyter.org/github/xinychen/latex-cookbook/blob/main/chapter-9/section2.ipynb)\n",
    "\n",
    "【继续】[**9.4 xxxx**](https://nbviewer.jupyter.org/github/xinychen/latex-cookbook/blob/main/chapter-9/section4.ipynb)"
   ]
  },
  {
   "cell_type": "markdown",
   "metadata": {},
   "source": [
    "### License\n",
    "\n",
    "<div class=\"alert alert-block alert-danger\">\n",
    "<b>This work is released under the MIT license.</b>\n",
    "</div>"
   ]
  }
 ],
 "metadata": {
  "kernelspec": {
   "display_name": "Python 3",
   "language": "python",
   "name": "python3"
  },
  "language_info": {
   "codemirror_mode": {
    "name": "ipython",
    "version": 3
   },
   "file_extension": ".py",
   "mimetype": "text/x-python",
   "name": "python",
   "nbconvert_exporter": "python",
   "pygments_lexer": "ipython3",
   "version": "3.8.3"
  }
 },
 "nbformat": 4,
 "nbformat_minor": 4
}
