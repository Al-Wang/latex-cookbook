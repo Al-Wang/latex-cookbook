{
 "cells": [
  {
   "cell_type": "markdown",
   "metadata": {},
   "source": [
    "## 9.2 创建超链接\n",
    "\n",
    "众所周知，在文档中插入网址之类的文本通常需要用到超链接。LaTeX提供了`hyperref`工具包，可用于生成超链接，在使用时，只需在前导代码中申明工具包即可，即`\\usepackage{hyperref}`。有时，我们插入的网址链接太长，但LaTeX不会自动换行，往往会造成格式混乱的问题，这时，我们可以使用`url`工具包，并在该工具包中声明一个参数即可解决这个问题，相关命令为`\\usepackage[hyphens]{url}`。\n",
    "\n",
    "【**例1**】在LaTeX中使用`\\usepackage{hyperref}`及`\\usepackage{url}`工具包插入超链接并设置自动换行。\n",
    "\n",
    "```tex\n",
    "\\documentclass[12pt]{article}\n",
    "\\begin{document}\n",
    "\n",
    "\\usepackage[hyphens]{url}\n",
    "\\usepackage{hyperref}\n",
    "\\begin{document}\n",
    "This is the address of latex-cookbook chapter-1 \\url{https://github.com/xinychen/latex-cookbook/blob/main/chapter-1/section1.ipynb}\n",
    "\n",
    "\\end{document}"
   ]
  },
  {
   "cell_type": "markdown",
   "metadata": {},
   "source": [
    "【回放】[**9.1 基本介绍**](https://nbviewer.jupyter.org/github/xinychen/latex-cookbook/blob/main/chapter-9/section1.ipynb)\n",
    "\n",
    "【继续】[**9.3 Bibtex用法**](https://nbviewer.jupyter.org/github/xinychen/latex-cookbook/blob/main/chapter-9/section3.ipynb)"
   ]
  },
  {
   "cell_type": "markdown",
   "metadata": {},
   "source": [
    "### License\n",
    "\n",
    "<div class=\"alert alert-block alert-danger\">\n",
    "<b>This work is released under the MIT license.</b>\n",
    "</div>"
   ]
  }
 ],
 "metadata": {
  "kernelspec": {
   "display_name": "Python 3",
   "language": "python",
   "name": "python3"
  },
  "language_info": {
   "codemirror_mode": {
    "name": "ipython",
    "version": 3
   },
   "file_extension": ".py",
   "mimetype": "text/x-python",
   "name": "python",
   "nbconvert_exporter": "python",
   "pygments_lexer": "ipython3",
   "version": "3.8.3"
  }
 },
 "nbformat": 4,
 "nbformat_minor": 4
}
