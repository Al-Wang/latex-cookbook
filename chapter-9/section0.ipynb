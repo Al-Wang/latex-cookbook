{
 "cells": [
  {
   "cell_type": "markdown",
   "metadata": {},
   "source": [
    "## 第十章 幻灯片制作\n",
    "\n",
    "### 导言\n",
    "\n",
    "本章将介绍如何使用Beamer文档类型制作幻灯片。在之前，我们接触Latex最多的文档类型是article，但当我们想制作演示文稿或者说幻灯片时，其实也有用户体验极好的beamer文档类型。Beamer是随着LaTeX发展而衍生出的一种特殊文档类型，也是LaTeX中用于制作幻灯片的重要工具，有时候也可以把Beamer看作是一个功能强大的宏包。Beamer这款工具的主体受众是科研工作者，LaTeX常规文档中用到的诸多命令和环境在Beamer中也同样适用，对于用户来说，只需要掌握LaTeX基础便能使用Beamer制作幻灯片。使用Beamer制作完一个幻灯片后，编译后的最终文件是PDF，在任何平台或机器上打开都不存在不兼容等问题。事实上，LaTeX中可用于制作演示文稿的工具并非只有Beamer一种，但Beamer无疑是众多工具中最著名切最常用的一种，它提供的文档类型beamer便捷好用。Beamer能取得很好的用户体验可以归为以下几点：\n",
    "- 拥有海量的模板和丰富的主题样式，且使用方便。\n",
    "- 能满足制作幻灯片的功能性需求，从创建标题、文本和段落到插入图表、参考文献等均很便捷，且与常规文档中的使用规则几乎一致。\n",
    "本章具体主要包括以下内容：对Beamer使用的基本介绍、Beamer主题的样式、幻灯片样式的设置、幻灯片中的文本编辑。\n",
    "\n"
   ]
  },
  {
   "cell_type": "markdown",
   "metadata": {},
   "source": [
    "【继续】[**10.1 基本介绍**](https://nbviewer.jupyter.org/github/xinychen/latex-cookbook/blob/main/chapter-10/section1.ipynb)"
   ]
  },
  {
   "cell_type": "markdown",
   "metadata": {},
   "source": [
    "### License\n",
    "\n",
    "<div class=\"alert alert-block alert-danger\">\n",
    "<b>This work is released under the MIT license.</b>\n",
    "</div>"
   ]
  }
 ],
 "metadata": {
  "kernelspec": {
   "display_name": "Python 3",
   "language": "python",
   "name": "python3"
  },
  "language_info": {
   "codemirror_mode": {
    "name": "ipython",
    "version": 3
   },
   "file_extension": ".py",
   "mimetype": "text/x-python",
   "name": "python",
   "nbconvert_exporter": "python",
   "pygments_lexer": "ipython3",
   "version": "3.8.8"
  }
 },
 "nbformat": 4,
 "nbformat_minor": 4
}
