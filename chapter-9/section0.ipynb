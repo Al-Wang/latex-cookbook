{
 "cells": [
  {
   "cell_type": "markdown",
   "metadata": {},
   "source": [
    "## 第十章 幻灯片制作\n",
    "\n",
    "### 导言\n",
    "\n",
    "2003年，柏林工业大学的博士生Till Tantau与他的合作者们共同发布了一款专门用于制作幻灯片和演示文稿的工具Beamer，Beamer作为LaTeX中一种灵活的文档类型，它的出现无疑扩充了LaTeX制作文档的功能。尽管Beamer并非LaTeX中第一款用于制作幻灯片和演示文稿的工具，但Beamer却是直至今日最受人们欢迎的一款，原因在于Beamer简单灵活的使用方式，人们使用LaTeX中名为`beamer`的文档类型即可开始创作，同时，Beamer提供了大量的幻灯片模板，这些模板囊括了多种多样的视觉效果。毫不夸张地说，Beamer的出现极大地提高了人们使用LaTeX制作幻灯片的热情。值得一提的是，在后来的2005年，Till Tantau博士又发布了一款非常便捷的LaTeX绘图工具TikZ，这一工具既可以辅助Beamer幻灯片的制作，也可以应对科技文档中的各类绘图任务。\n",
    "\n",
    "Beamer是随着LaTeX的发展而衍生出来的一种特殊文档类型，可以支撑科研工作者制作幻灯片的需求。在语法规则上，Beamer完全沿用了LaTeX的文档环境与基本命令，我们前面介绍的很多基于`article`常规文档类型的命令在Beamer中同样适用，因此，只要我们掌握了LaTeX基础，便能很快使用Beamer制作幻灯片。在呈现方式上，Beamer制作的幻灯片最终会在LaTeX中被编译成PDF文档，在不同的系统上打开幻灯片时不存在不兼容等问题。在功能上，使用Beamer制作幻灯片时，我们可以对常规文本、公式、图表甚至视觉效果和主题样式等进行调整，最终达到想要的视觉效果。\n",
    "\n",
    "本章将介绍一种新的文档类型——Beamer，用于制作幻灯片或演示稿。Beamer是随着LaTeX的发展而衍生出的一种特殊文档类型，也常常被看作是一个功能强大的宏包，可以支撑广大科研工作者制作幻灯片的需求。在语法规则上，我们前面介绍的很多基于article常规文档类的命令在Beamer中也同样适用，因此对于读者而言，只需要掌握LaTeX基础命令，便能快速学会使用Beamer制作幻灯片的方式。就展现方式而言，对Beamer类文档的最终编译结果同样是PDF格式文件，在任何平台或机器上打开都不存在不兼容等问题。\n",
    "\n",
    "事实上，LaTeX中用于制作演示文稿的工具并非只有Beamer，但相比之下，Beamer具有如下优点：\n",
    "\n",
    "- 拥有海量的模板和丰富的主题样式，且使用方便；\n",
    "- 能满足制作幻灯片的功能性需求，从创建标题、文本和段落到插入图表、参考文献等操作，且与常规文档中的使用规则几乎一致。\n",
    "\n",
    "本章具体主要包括以下内容：Beamer的基本使用方式、在演示稿中添加动画效果、添加文本框等框元素、设置主题样式、插入程序源代码、添加参考文献、插入表格、插入与调整图片。"
   ]
  },
  {
   "cell_type": "markdown",
   "metadata": {},
   "source": [
    "【继续】[**9.1 基本介绍**](https://nbviewer.jupyter.org/github/xinychen/latex-cookbook/blob/main/chapter-9/section1.ipynb)"
   ]
  },
  {
   "cell_type": "markdown",
   "metadata": {},
   "source": [
    "### License\n",
    "\n",
    "<div class=\"alert alert-block alert-danger\">\n",
    "<b>This work is released under the MIT license.</b>\n",
    "</div>"
   ]
  }
 ],
 "metadata": {
  "kernelspec": {
   "display_name": "Python 3 (ipykernel)",
   "language": "python",
   "name": "python3"
  },
  "language_info": {
   "codemirror_mode": {
    "name": "ipython",
    "version": 3
   },
   "file_extension": ".py",
   "mimetype": "text/x-python",
   "name": "python",
   "nbconvert_exporter": "python",
   "pygments_lexer": "ipython3",
   "version": "3.8.0"
  }
 },
 "nbformat": 4,
 "nbformat_minor": 4
}
