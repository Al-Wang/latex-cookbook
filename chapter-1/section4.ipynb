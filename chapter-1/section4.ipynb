{
 "cells": [
  {
   "cell_type": "markdown",
   "metadata": {},
   "source": [
    "## 1.4 LaTeX问答社区\n",
    "\n",
    "\n",
    "对于从事计算机相关的技术人员来说，专业的技术问答社区是不可多得的优质平台，它能帮助很多技术人员提升个人编程能力、学习新技术，同时解决一些技术困扰，例如解决编写程序时遇到的bug。对于各类程序语言而言，Stack Exchange作为一个著名的技术问答社区，覆盖了大量编程相关的技术问题和优质回答，就算是一些较为细致的问题，我们往往都能找到想要的答案。Stack Exchange问答社区按程序语言类型进行划分，我们所关心的LaTeX问答通常被分配在TeX Stack Exchange社区（网址为[https://tex.stackexchange.com/](https://tex.stackexchange.com/)），截至目前，TeX Stack Exchange已经覆盖了关于TeX、LaTeX以及其他排版系统的用户在使用中遇到的诸多问题，并且这些问题多与LaTeX相关。\n",
    "\n",
    "> 网址为[https://stackexchange.com/](https://stackexchange.com/)，它与Stack Overflow问答社区在全球范围内拥有广泛的用户群体。\n",
    "\n",
    "实际上，不管是LaTeX初学者还是高级用户，在遇到LaTeX使用问题时，上问答社区寻找解决方案都是一种非常有效的方式。TeX Stack Exchange社区非常活跃，每天都会有大量关于LaTeX的优质问题和优质回答，且每个问题下面的回答都会根据用户的认可度进行排序，回答一般比较细致。"
   ]
  },
  {
   "cell_type": "markdown",
   "metadata": {},
   "source": [
    "【回放】[**1.3 应运而生的在线系统**](https://nbviewer.jupyter.org/github/xinychen/latex-cookbook/blob/main/chapter-1/section3.ipynb)\n",
    "\n",
    "【继续】[**1.5 关于LaTeX的开源项目**](https://nbviewer.jupyter.org/github/xinychen/latex-cookbook/blob/main/chapter-1/section5.ipynb)"
   ]
  },
  {
   "cell_type": "markdown",
   "metadata": {},
   "source": [
    "### License\n",
    "\n",
    "<div class=\"alert alert-block alert-danger\">\n",
    "<b>This work is released under the MIT license.</b>\n",
    "</div>"
   ]
  }
 ],
 "metadata": {
  "kernelspec": {
   "display_name": "Python 3",
   "language": "python",
   "name": "python3"
  },
  "language_info": {
   "codemirror_mode": {
    "name": "ipython",
    "version": 3
   },
   "file_extension": ".py",
   "mimetype": "text/x-python",
   "name": "python",
   "nbconvert_exporter": "python",
   "pygments_lexer": "ipython3",
   "version": "3.7.6"
  }
 },
 "nbformat": 4,
 "nbformat_minor": 4
}
