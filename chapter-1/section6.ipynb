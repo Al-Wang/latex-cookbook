{
 "cells": [
  {
   "cell_type": "markdown",
   "metadata": {},
   "source": [
    "## 1.6 LaTeX制作中文文档\n",
    "\n",
    "LaTeX最初只提供英文的编译环境，随着其在文档编辑领域的优势越来越深入人心，更多国家的学者希望用到这一工具，因此出现了许多支持各国语言的工具包或编写环境，作为全世界使用人数最多的语言，LaTeX有`CJKutf8`宏包、`CTEX`宏包等多种方式可以实现中文文档编辑。\n",
    "\n",
    "在LaTeX开源网站Overleaf中，可以也可以使用`CJKutf8`宏包制作中文文档。\n",
    "\n",
    "【**例1**】在Overleaf中使用`CJKutf8`宏包制作中文文档。\n",
    "```tex\n",
    "\\documentclass{article}\n",
    "\\usepackage{CJKutf8}\n",
    "\n",
    "\\begin{document}\n",
    "\n",
    "\\begin{CJK}{UTF8}{gbsn} %字体是gbsn\n",
    "你好，LaTeX！。\n",
    "\\end{CJK}\n",
    "\n",
    "\\end{document}\n",
    "\n",
    "```\n",
    "\n",
    "编译后效果如图1.6.1所示。\n",
    "\n",
    "<p align=\"center\">\n",
    "<img align=\"middle\" src=\"graphics/1.6-1.jpg\" width=\"200\" />\n",
    "</p>\n",
    "\n",
    "<center><b>图1.6.1</b> 编译后文档</center>\n",
    "\n",
    "\n",
    "CJKutf8 只提供了两种字体，可选择的余地太小，我们可以直接用 UTF8 选项使CTEX 支持 utf-8 编码，利用 CTEX 丰富的字体和中文设置可以更好地编辑 Latex 中文文本，在Overleaf中使用`CTEX`宏包，需要先将编译环境从`pdfLaTeX`调整为`XeLaTeX`。\n",
    "\n",
    "【**例2**】在Overleaf中使用`CTEX`宏包制作中文文档。\n",
    "```tex\n",
    "\\documentclass[UTF8]{ctexart}\n",
    "\n",
    "\\begin{document}\n",
    "\n",
    "{\\kaishu 你好，LaTeX！（楷体）}\n",
    "\n",
    "{\\songti 你好，LaTeX！（宋体）}\n",
    "\n",
    "{\\heiti 你好，LaTeX！（黑体）}\n",
    "\n",
    "{\\fangsong 你好，LaTeX！（仿宋）}。\n",
    "\n",
    "\\end{document}\n",
    "\n",
    "```\n",
    "\n",
    "编译后效果如图1.6.2所示。\n",
    "\n",
    "<p align=\"center\">\n",
    "<img align=\"middle\" src=\"graphics/1.6-2.jpg\" width=\"200\" />\n",
    "</p>\n",
    "\n",
    "<center><b>图1.6.2</b> 编译后文档</center>\n",
    "\n",
    "\n",
    "目前在Overleaf上已经出现了许多中文文档LaTeX模板，除了一些学位论文模板，一些中文学术期刊如《计算机学报》也提供了科技论文的LaTeX模板。\n",
    "\n",
    "《中国科学：信息科学》[https://www.overleaf.com/project/5e99712a0916c900018d11af](https://www.overleaf.com/project/5e99712a0916c900018d11af)\n",
    "\n",
    "《计算机学报》[https://www.overleaf.com/project/5f4793c256c62e0001f06d95](https://www.overleaf.com/project/5f4793c256c62e0001f06d95)\n",
    "\n",
    "中文学位论文模板：\n",
    "\n",
    "《浙江大学学位论文模板》[https://www.overleaf.com/project/610fa05007d0073d5405a04f](https://www.overleaf.com/project/610fa05007d0073d5405a04f)\n",
    "\n",
    "《武汉大学博士学位论文模板》[https://www.overleaf.com/project/610fa09e07d007fa5605a1e9](https://www.overleaf.com/project/610fa09e07d007fa5605a1e9)\n",
    "\n",
    "《中山大学研究生毕业论文模板》[https://www.overleaf.com/project/610fa17307d007f2d305a388](https://www.overleaf.com/project/610fa17307d007f2d305a388)\n",
    "\n",
    "《南京大学研究生毕业论文模板》[https://www.overleaf.com/project/610fa1d007d00704c305a3eb](https://www.overleaf.com/project/610fa1d007d00704c305a3eb)\n",
    "\n",
    "另外，开源项目[https://github.com/MCG-NKU/NSFC-LaTex](https://github.com/MCG-NKU/NSFC-LaTex)提供了国家自然科学基金申报书的LaTeX模板。"
   ]
  },
  {
   "cell_type": "markdown",
   "metadata": {},
   "source": [
    "【回放】[**1.5 关于LaTeX的开源项目**](https://nbviewer.jupyter.org/github/xinychen/latex-cookbook/blob/main/chapter-1/section5.ipynb)"
   ]
  },
  {
   "cell_type": "markdown",
   "metadata": {},
   "source": [
    "### License\n",
    "\n",
    "<div class=\"alert alert-block alert-danger\">\n",
    "<b>This work is released under the MIT license.</b>\n",
    "</div>"
   ]
  }
 ],
 "metadata": {
  "kernelspec": {
   "display_name": "Python 3",
   "language": "python",
   "name": "python3"
  },
  "language_info": {
   "codemirror_mode": {
    "name": "ipython",
    "version": 3
   },
   "file_extension": ".py",
   "mimetype": "text/x-python",
   "name": "python",
   "nbconvert_exporter": "python",
   "pygments_lexer": "ipython3",
   "version": "3.8.3"
  }
 },
 "nbformat": 4,
 "nbformat_minor": 4
}
