{
 "cells": [
  {
   "cell_type": "markdown",
   "metadata": {},
   "source": [
    "## 1.1 横空出世的TeX\n",
    "\n",
    "TeX 是由著名的计算机科学家 Donald E. Knuth 设计和实现的计算机排版系统。TeX 以其高质量的排版输出，特别是数学公式的排版能力而闻名，被广泛用于学术界的科技排版。\n",
    "\n",
    "有时候，新生事物的出现会伴随着一定的机缘巧合。其实，用这句话描述TeX的出现一点也不为过。TeX是一种专门用于文档排版的计算机语言，同时也是一款文档排版系统，它以其高质量的排版输出，特别是数学公式的排版能力而闻名，被科研工作者广泛用于科技文档排版。在20世纪70年代末，克努斯博士在修改自己出版的著作时，他感觉出版社提供的样板在排版效果上有点不尽人意，因此，他计划花费几个月的时间设计出一套更有效的文档排版系统。幸运的是，就在他启动这项计划不久后，他便收到了美国数学协会 (American Mathematical Society, AMS) 的邀请，克努斯博士在此次邀请中汇报的内容便是“以TeX排版为基础、如何让计算机服务于数学”，这次汇报成功吸引了一大批数学家的目光，再后来，TeX摇身一变成为了书写数学公式的“利器”[3]。\n",
    "\n",
    "> 参考[http://www.tug.org/whatis.html](http://www.tug.org/whatis.html)。\n",
    "\n",
    "通常来说，TeX作为一款文档排版系统，它几乎和微软推出的Office办公软件同时出现，虽然这两者看似没有任何关系，且两者制作文档的方式也截然不同，但后来却成为人们制作文档的两种最佳工具。为什么这么说呢？就Office而言，它们的使用门槛其实不高，只要知道一些基本操作就能够制作文档了；但TeX却不同，它需要一定的计算机编程基础，除了一些基本命令，还要掌握TeX环境和一些特定的工具包。因此，TeX以编程的形式制作文档看起来有点高高在上，将很多内心惧怕或抵触编程的用户拒之门外，而包括Word在内的Office办公软件在制作文档的过程中则是所见即所得，这样以更为便利的方式进行创作其实降低了使用门槛，因此，Office在全球范围内赢得了广泛的用户群体。\n"
   ]
  },
  {
   "cell_type": "markdown",
   "metadata": {},
   "source": [
    "### License\n",
    "\n",
    "<div class=\"alert alert-block alert-danger\">\n",
    "<b>This work is released under the MIT license.</b>\n",
    "</div>"
   ]
  }
 ],
 "metadata": {
  "kernelspec": {
   "display_name": "Python 3",
   "language": "python",
   "name": "python3"
  },
  "language_info": {
   "codemirror_mode": {
    "name": "ipython",
    "version": 3
   },
   "file_extension": ".py",
   "mimetype": "text/x-python",
   "name": "python",
   "nbconvert_exporter": "python",
   "pygments_lexer": "ipython3",
   "version": "3.8.3"
  }
 },
 "nbformat": 4,
 "nbformat_minor": 4
}
