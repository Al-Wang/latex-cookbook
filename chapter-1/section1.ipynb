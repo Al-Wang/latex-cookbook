{
 "cells": [
  {
   "cell_type": "markdown",
   "metadata": {},
   "source": [
    "## 1.1 横空出世的TeX\n",
    "\n",
    "TeX是一种专门用于文档排版的计算机语言，同时也是一款文档排版系统，它几乎和微软推出的Office办公软件同时出现，并且后来成为人们制作文档的两种最佳工具。TeX和Office办公软件制作文档的方式截然不同，就Office而言，它的使用门槛其实不高，只要掌握一些基本操作就能够制作文档了；而TeX则需要一定的计算机编程基础，除了一些基本命令，还要掌握TeX环境和一些特定的工具包。实际应用中，TeX以其高质量的排版输出，特别是数学公式的排版能力而闻名，被科研工作者广泛用于科技文档排版。\n",
    "\n",
    "TeX是怎么出现的呢？有时候，新生事物的出现会伴随着一定的机缘巧合。在20世纪70年代末，克努斯博士正准备出版其著作《计算机程序设计艺术》时，他发现出版社提供的排版效果却不理想，当时的计算机排版技术也十分粗糙，这严重影响了他的著作的印刷质量，于是，他计划花费几个月的时间设计出一套更有效的文档排版系统，具体的设计目标是实现高质量的书籍排版。\n",
    "\n",
    "由于克努斯博士此次在数学公式的排版上下了很大功夫，就在他启动这项计划不久后，他便收到了美国数学协会 (American Mathematical Society, AMS) 的邀请，克努斯博士在此次邀请中汇报的内容是“以TeX排版为基础、如何让计算机服务于数学”，这次汇报成功吸引了一大批数学家的目光。由于TeX在数学公式排版方面的优秀表现，比如数学公式的自动间距调整，TeX后来摇身一变成为了书写数学公式的“利器”。\n",
    "\n",
    "> 参考[http://www.tug.org/whatis.html](http://www.tug.org/whatis.html)。\n",
    "\n",
    "为了提升TeX的开发质量，克努斯博士悬赏奖励任何能够在TeX中发现程序漏洞的人，也就是我们一般认为的“找bug”。每一个漏洞的奖励金额从2.56美元（16进制的100美分）开始，以后每发现一个bug，都会翻倍，直到327.68美元封顶。然而，克努斯博士从未因此而损失大笔金钱，因为TeX中的漏洞极少，而真正发现漏洞的人在获得支票后往往不愿将其兑现。\n",
    "\n",
    "随着时间的推移，TeX也派生出了很多优秀的软件，其中最著名的派生软件便是LaTeX，另外，美国数学学会也发布了TeX版本的数学公式工具包，其中，以`ams`命名的工具包如`amsfonts`, `amsmath`, `amssymb`等，这些工具包都可以在LaTeX上进行使用，在LaTeX上使用这些工具包可以编辑出各种数学公式。\n",
    "\n",
    "\n",
    "### 参考资料\n",
    "\n",
    "[1] TeX的维基百科介绍：[https://zh.wikipedia.org/wiki/TeX](https://zh.wikipedia.org/wiki/TeX)."
   ]
  },
  {
   "cell_type": "markdown",
   "metadata": {},
   "source": [
    "【回放】[**1.0 导言**](https://nbviewer.jupyter.org/github/xinychen/latex-cookbook/blob/main/chapter-1/section0.ipynb)\n",
    "\n",
    "【继续】[**1.2 引领浪潮的LaTeX**](https://nbviewer.jupyter.org/github/xinychen/latex-cookbook/blob/main/chapter-1/section2.ipynb)"
   ]
  },
  {
   "cell_type": "markdown",
   "metadata": {},
   "source": [
    "### License\n",
    "\n",
    "<div class=\"alert alert-block alert-danger\">\n",
    "<b>This work is released under the MIT license.</b>\n",
    "</div>"
   ]
  }
 ],
 "metadata": {
  "kernelspec": {
   "display_name": "Python 3",
   "language": "python",
   "name": "python3"
  },
  "language_info": {
   "codemirror_mode": {
    "name": "ipython",
    "version": 3
   },
   "file_extension": ".py",
   "mimetype": "text/x-python",
   "name": "python",
   "nbconvert_exporter": "python",
   "pygments_lexer": "ipython3",
   "version": "3.8.3"
  }
 },
 "nbformat": 4,
 "nbformat_minor": 4
}
