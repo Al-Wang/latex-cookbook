{
 "cells": [
  {
   "cell_type": "markdown",
   "metadata": {},
   "source": [
    "## 1.3 应运而生的在线系统\n",
    "\n",
    "上世纪80年代，LaTeX作为新生事物，在发布之初便引起了人们极大的兴趣，它在制作文档方面的强大功是很多办公软件都无法比拟的，尤为突出的是，LaTeX能够很容易地编辑出各类简单抑或复杂的数学公式。然而，由于LaTeX是以计算机编程的形式进行创作，在很多人看来，它的使用门槛过高；另外，在使用的便捷性方面，LaTeX也与常用办公软件Word有差距，在本地安装LaTeX通常需要花费大量的时间配置相应的环境。很长一段时间以来，LaTeX的用户群体都是科研工作者，然而，时至今日，LaTeX在线系统的出现却实实在在改变了这一尴尬局面。\n",
    "\n",
    "随着信息技术快速发展、互联网深度普及，人们的工作生活方式也在发生着深刻改变，很多过去安装在本地的操作软件都被搬到了“浏览器”上，人们无须在个人计算机上安装各类办公软件就能进行办公，这带来了极大的方便。不过这类在线系统也存在一些先决条件，主要是出于计算资源方面的考虑，即要求在线系统的类型不能是计算密集型，因为这类系统往往需要大量的计算资源作为支撑。尽管我们可以认为LaTeX是一种程序语言，但其对计算资源的消耗并不大。\n",
    "\n",
    "在过去，受网速限制，使用线上系统几乎是一件难以想象的事。然而，在线系统的兴起并非空穴来风，一方面是目前的网速已经跟过去发生了质的改变，另一方面则是上网成本在急剧降低，互联网触手可及，已经成为人们在日常生活和工作中不可或缺的一部分。以前，我们可能已经习惯了在本地计算机上安装和使用各类软件或者集成开发环境，不过以LaTeX为例，在本地计算机上安装的集成开发环境也有很多缺陷：\n",
    "\n",
    "- 第一，我们需要为安装LaTeX编辑器腾出很大的存储空间。\n",
    "- 第二，某些特定的工具包需要额外安装和配置，此时，安装过多会使得LaTeX变得很臃肿，甚至是不友好。\n",
    "- 第三，当我们在本地计算机使用LaTeX制作文档时，我们很难与合作者进行在线协同创作。\n",
    "\n",
    "在这个背景下，一些成熟的LaTeX在线系统逐渐走进人们的视野，并受到很多用户的喜爱，其中，最为著名的LaTeX在线系统便是overleaf.com。这些LaTeX在线系统不仅支持各种语言、各种拓展工具包等复杂的LaTeX环境，同时也支持实时编译和实时预览编译后的文档，就算是换一台电脑，也丝毫不会影响创作过程，创作完成之后，可以选择下载压缩文件包（如`.zip`），也可以导出PDF文档。毫无疑问，这些人性化的设计都是为了让LaTeX更加便捷和高效。除此之外，现有的LaTeX在线系统还提供大量的LaTeX模板库，论文、毕业设计、幻灯片、简历等参考模板一应俱全，就连LaTeX使用文档也数不胜数。\n",
    "\n",
    "> Overleaf是一个初创的科技企业，它的主要业务是构建现代化协作创作工具，即LaTeX在线系统，旨在让科学研究变得更加便捷和高效。目前，Overleaf已合并另一款著名的LaTeX在线系统ShareLaTeX，在全球范围内拥有超过六百万用户，这些用户大多是来自于高校和科研机构的研究人员、老师以及学生，只要打开网址overleaf.com，用户无需配置LaTeX环境就可以创建各种LaTeX项目。关于Overleaf的介绍可参考[https://www.overleaf.com/about](https://www.overleaf.com/about)。\n",
    "\n",
    "LaTeX在线系统大大降低了使用门槛，为用户省去了繁琐的本地安装和配置环境。其实，LaTeX在线系统的出现并非个例，很多办公软件为迎合用户需求和时代发展趋势，都陆续转变了产品研发思路，包括微软推出的在线Office系统在内的很多在线系统都走进了人们的事业，这些在线系统能够帮助我们在线备份、随时随地工作，在确保便捷和高效的同时，本着在线和共享的理念，正在对人们的办公模式产生着潜移默化的影响。"
   ]
  },
  {
   "cell_type": "markdown",
   "metadata": {},
   "source": [
    "【回放】[**1.2 引领浪潮的LaTeX**](https://nbviewer.jupyter.org/github/xinychen/latex-cookbook/blob/main/chapter-1/section2.ipynb)\n",
    "\n",
    "【继续】[**1.4 LaTeX问答社区**](https://nbviewer.jupyter.org/github/xinychen/latex-cookbook/blob/main/chapter-1/section4.ipynb)"
   ]
  },
  {
   "cell_type": "markdown",
   "metadata": {},
   "source": [
    "### License\n",
    "\n",
    "<div class=\"alert alert-block alert-danger\">\n",
    "<b>This work is released under the MIT license.</b>\n",
    "</div>"
   ]
  }
 ],
 "metadata": {
  "kernelspec": {
   "display_name": "Python 3",
   "language": "python",
   "name": "python3"
  },
  "language_info": {
   "codemirror_mode": {
    "name": "ipython",
    "version": 3
   },
   "file_extension": ".py",
   "mimetype": "text/x-python",
   "name": "python",
   "nbconvert_exporter": "python",
   "pygments_lexer": "ipython3",
   "version": "3.8.3"
  }
 },
 "nbformat": 4,
 "nbformat_minor": 4
}
