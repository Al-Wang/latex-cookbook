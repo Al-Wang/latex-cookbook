{
 "cells": [
  {
   "cell_type": "markdown",
   "metadata": {},
   "source": [
    "## 1.5 关于LaTeX的开源项目\n",
    "\n",
    "\n",
    "实际上，不管是TeX还是LaTeX，它们本身就是完全开源，我们可以轻松获取到它们的源代码。当然，近些年来，互联网也催生了很多用户体验以及评价很好的开源社区，比如当下非常火热的开源平台GitHub，它们都在实实在在地影响着我们对于技术开放的态度。\n",
    "\n",
    "由于优质的开源项目非常多，限于篇幅，这里只列举一部分，感兴趣的读者不妨在GitHub平台上发掘更多有趣的项目。\n",
    "\n",
    "- xx"
   ]
  },
  {
   "cell_type": "markdown",
   "metadata": {},
   "source": [
    "【回放】[**1.4 LaTeX问答社区**](https://nbviewer.jupyter.org/github/xinychen/latex-cookbook/blob/main/chapter-1/section4.ipynb)\n",
    "\n",
    "【继续】[**1.6**](https://nbviewer.jupyter.org/github/xinychen/latex-cookbook/blob/main/chapter-1/section6.ipynb)"
   ]
  },
  {
   "cell_type": "markdown",
   "metadata": {},
   "source": [
    "### License\n",
    "\n",
    "<div class=\"alert alert-block alert-danger\">\n",
    "<b>This work is released under the MIT license.</b>\n",
    "</div>"
   ]
  }
 ],
 "metadata": {
  "kernelspec": {
   "display_name": "Python 3",
   "language": "python",
   "name": "python3"
  },
  "language_info": {
   "codemirror_mode": {
    "name": "ipython",
    "version": 3
   },
   "file_extension": ".py",
   "mimetype": "text/x-python",
   "name": "python",
   "nbconvert_exporter": "python",
   "pygments_lexer": "ipython3",
   "version": "3.8.3"
  }
 },
 "nbformat": 4,
 "nbformat_minor": 4
}
