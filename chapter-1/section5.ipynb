{
 "cells": [
  {
   "cell_type": "markdown",
   "metadata": {},
   "source": [
    "## 1.5 关于LaTeX的开源项目\n",
    "\n",
    "\n",
    "### 1.5.1 基本介绍\n",
    "\n",
    "实际上，不管是TeX还是LaTeX，它们本身就是完全开源，我们可以轻松获取到它们的源代码。当然，近些年来，互联网也催生了很多用户体验以及评价很好的开源社区，比如当下非常火热的开源平台GitHub，它们都在实实在在地影响着我们对于技术开放的态度。\n",
    "\n",
    "### 1.5.2 开源项目推送\n",
    "\n",
    "由于优质的开源项目非常多，限于篇幅，这里只列举一部分，感兴趣的读者不妨在GitHub平台上发掘更多有趣的项目。\n",
    "\n",
    "- LaTeX图形绘制（工具类）：\n",
    "  - `BayesNet`：用于绘制贝叶斯网络、图模型和因素图形的Tikz库。开源网址为[https://github.com/jluttine/tikz-bayesnet](https://github.com/jluttine/tikz-bayesnet)。一般而言，使用`BayesNet`绘制特定图形时，需要使用以下两行命令调用该库：\n",
    "  \n",
    "    ```tex\n",
    "    \\usepackage{tikz}\n",
    "    \\usetikzlibrary{bayesnet}\n",
    "    ```\n",
    "\n",
    "  - `matlab2tikz`：将由Matlab代码绘制的图形转换成PGFPlots图形。开源网址为[https://github.com/matlab2tikz/matlab2tikz](https://github.com/matlab2tikz/matlab2tikz)。\n",
    "  - `tikzplotlib`：将由Python绘图工具matplotlib绘制的图形转换成PGFPlots图形。开源网址为[https://github.com/nschloe/tikzplotlib](https://github.com/nschloe/tikzplotlib)。\n",
    "  - `svg2tikz`：将SVG图形转换成TikZ代码。开源网址为[https://github.com/xyz2tex/svg2tikz](https://github.com/xyz2tex/svg2tikz)。\n",
    "\n",
    "- LaTeX图形绘制（实例类）：\n",
    "\n",
    "  - `TeXample`：该项目提供了大量的TikZ绘图实例，开源网址为[https://texample.net/tikz/](https://texample.net/tikz/)。\n",
    "  - 开源项目[https://github.com/walmes/Tikz](https://github.com/walmes/Tikz)提供了大约200个关于统计学的TikZ绘图实例。\n",
    "  - 开源项目[https://github.com/MartinThoma/LaTeX-examples/tree/master/tikz](https://github.com/MartinThoma/LaTeX-examples/tree/master/tikz)提供了大约350个TikZ绘图实例。\n",
    "  - 开源项目[https://github.com/PetarV-/TikZ](https://github.com/PetarV-/TikZ)提供了大量的Tikz绘图实例，囊括了各类神经网络模型的图形。\n",
    "  - TeX Stack Exchange社区中提供的可视化效果很好的TikZ科技绘图实例，网址为[https://tex.stackexchange.com/questions/158668/nice-scientific-pictures-show-off](https://tex.stackexchange.com/questions/158668/nice-scientific-pictures-show-off)。\n",
    "  - 开源项目[https://github.com/FriendlyUser/LatexDiagrams](https://github.com/FriendlyUser/LatexDiagrams)提供了大量的TikZ绘图实例，包括流程图、图模型。\n",
    "  - 开源项目[https://github.com/alemelis/tikz_drawings](https://github.com/alemelis/tikz_drawings)提供了一些TikZ绘图实例。\n",
    "  \n",
    "  \n",
    "### 1.5.3 关于本书的开源项目\n",
    "\n",
    "为了方便广大读者更好地使用本书，本书也采用了开源的形式，开源网址为[https://github.com/xinychen/latex-cookbook](https://github.com/xinychen/latex-cookbook)。同时，为了丰富实例，本书的个别章节也开辟了专门的开源项目：\n",
    "\n",
    "- LaTeX图形绘制：[https://github.com/xinychen/awesome-latex-drawing](https://github.com/xinychen/awesome-latex-drawing)，实例包括贝叶斯网络、框架图、流程图、机器学习模型示意图。\n",
    "- LaTeX幻灯片制作：[https://github.com/xinychen/awesome-beamer](https://github.com/xinychen/awesome-beamer)，提供Beamer制作幻灯片实例。"
   ]
  },
  {
   "cell_type": "markdown",
   "metadata": {},
   "source": [
    "### 参考资料\n",
    "\n",
    "[1] 开源项目[https://github.com/xiaohanyu/awesome-tikz](https://github.com/xiaohanyu/awesome-tikz)。"
   ]
  },
  {
   "cell_type": "markdown",
   "metadata": {},
   "source": [
    "【回放】[**1.4 LaTeX问答社区**](https://nbviewer.jupyter.org/github/xinychen/latex-cookbook/blob/main/chapter-1/section4.ipynb)\n",
    "\n",
    "【继续】[**1.6**](https://nbviewer.jupyter.org/github/xinychen/latex-cookbook/blob/main/chapter-1/section6.ipynb)"
   ]
  },
  {
   "cell_type": "markdown",
   "metadata": {},
   "source": [
    "### License\n",
    "\n",
    "<div class=\"alert alert-block alert-danger\">\n",
    "<b>This work is released under the MIT license.</b>\n",
    "</div>"
   ]
  }
 ],
 "metadata": {
  "kernelspec": {
   "display_name": "Python 3",
   "language": "python",
   "name": "python3"
  },
  "language_info": {
   "codemirror_mode": {
    "name": "ipython",
    "version": 3
   },
   "file_extension": ".py",
   "mimetype": "text/x-python",
   "name": "python",
   "nbconvert_exporter": "python",
   "pygments_lexer": "ipython3",
   "version": "3.8.3"
  }
 },
 "nbformat": 4,
 "nbformat_minor": 4
}
