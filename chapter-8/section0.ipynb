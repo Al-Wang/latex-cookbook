{
 "cells": [
  {
   "cell_type": "markdown",
   "id": "0f2355ba",
   "metadata": {},
   "source": [
    "## 第八章 建立索引及文献引用\n",
    "\n",
    "### 导言\n",
    "\n",
    "科研论文或科技报告中的图片、表格、公式和参考文献往往会被编号，方便读者进行查看。在实际写作过程中，有时图片、表格、公式会不在文本引用位置附近，而参考文献更是一般都总结放在文末结尾处。因此，读者在阅读过程中，为了查看该处引用内容的详细信息，需要翻看全文查找被引用的内容。\n",
    "这个过程一定是非常繁琐低效、并且会影响读者的阅读流畅性。为此，建立索引和文献引用就非常有必要了。建立索引一般指对文档中的图片、表格、公式等进行索引的设置，这个建立是自动编号完成；而文献引用同样是对文中存在引用参考文献的地方自动编号建立索引。因此，建立索引和文献引用的过程较为简单， "
   ]
  }
 ],
 "metadata": {
  "kernelspec": {
   "display_name": "Python 3",
   "language": "python",
   "name": "python3"
  },
  "language_info": {
   "codemirror_mode": {
    "name": "ipython",
    "version": 3
   },
   "file_extension": ".py",
   "mimetype": "text/x-python",
   "name": "python",
   "nbconvert_exporter": "python",
   "pygments_lexer": "ipython3",
   "version": "3.8.8"
  }
 },
 "nbformat": 4,
 "nbformat_minor": 5
}
