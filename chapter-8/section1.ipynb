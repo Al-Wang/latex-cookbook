{
 "cells": [
  {
   "cell_type": "markdown",
   "metadata": {},
   "source": [
    "## 8.1 添加程序源代码\n",
    "\n",
    "LaTeX文档支持插入程序源代码，一般是使用\n",
    "\n",
    "### 8.1.1 插入Python代码\n",
    "\n",
    "在LaTeX中插入Python代码可以使用`verbatim`环境，即在`\\begin{verbatim} \\end{verbatim}`之间插入代码。需要注意的是，这一环境不会对程序源代码进行高亮处理。\n",
    "\n",
    "【**例1**】使用`verbatim`环境插入如下Python代码：\n",
    "\n",
    "```python\n",
    "import numpy as np\n",
    "\n",
    "x = np.random.rand(4)\n",
    "print(x)\n",
    "```\n",
    "\n",
    "```tex\n",
    "\\documentclass[12pt]{article}\n",
    "\n",
    "\\begin{document}\n",
    "\n",
    "Python code example:\n",
    "\\begin{verbatim}\n",
    "import numpy as np\n",
    "\n",
    "x = np.random.rand(4)\n",
    "print(x)\n",
    "\\end{verbatim}\n",
    "\\end{document}\n",
    "```\n",
    "\n",
    "如果想要对程序源代码进行高亮处理，可以使用专门排版代码的工具包`listings`，除了在前导代码中申明使用`listings`工具包，即`\\usepackage{listings}`，有时候还可以根据需要自定义一些参数。\n",
    "\n",
    "【**例2**】使用`listings`工具包插入如下Python代码：\n",
    "\n",
    "```python\n",
    "import numpy as np\n",
    "\n",
    "x = np.random.rand(4)\n",
    "print(x)\n",
    "```\n",
    "\n",
    "```tex\n",
    "\\documentclass[12pt]{article}\n",
    "\\usepackage{listings}\n",
    "\n",
    "\\begin{document}\n",
    "\n",
    "Python code example:\n",
    "\\begin{lstlisting}[language = python]\n",
    "import numpy as np\n",
    "\n",
    "x = np.random.rand(4)\n",
    "print(x)\n",
    "\\end{lstlisting}\n",
    "\\end{document}\n",
    "```\n",
    "\n",
    "> 参考[The Listings Package](https://texdoc.org/serve/listings.pdf/0)。"
   ]
  },
  {
   "cell_type": "markdown",
   "metadata": {},
   "source": [
    "【回放】[**导言**](https://nbviewer.jupyter.org/github/xinychen/latex-cookbook/blob/main/chapter-8/section0.ipynb)\n",
    "\n",
    "【继续】[**8.2 xxxx**](https://nbviewer.jupyter.org/github/xinychen/latex-cookbook/blob/main/chapter-8/section2.ipynb)"
   ]
  },
  {
   "cell_type": "markdown",
   "metadata": {},
   "source": [
    "### License\n",
    "\n",
    "<div class=\"alert alert-block alert-danger\">\n",
    "<b>This work is released under the MIT license.</b>\n",
    "</div>"
   ]
  }
 ],
 "metadata": {
  "kernelspec": {
   "display_name": "Python 3",
   "language": "python",
   "name": "python3"
  },
  "language_info": {
   "codemirror_mode": {
    "name": "ipython",
    "version": 3
   },
   "file_extension": ".py",
   "mimetype": "text/x-python",
   "name": "python",
   "nbconvert_exporter": "python",
   "pygments_lexer": "ipython3",
   "version": "3.8.3"
  }
 },
 "nbformat": 4,
 "nbformat_minor": 4
}
