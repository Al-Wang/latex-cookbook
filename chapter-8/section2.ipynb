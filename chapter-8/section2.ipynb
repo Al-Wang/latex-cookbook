{
 "cells": [
  {
   "cell_type": "markdown",
   "metadata": {},
   "source": [
    "## 9.2 创建超链接\n",
    "\n",
    "众所周知，在文档中插入网址之类的文本通常需要用到超链接。LaTeX提供了`hyperref`工具包，可用于生成超链接，在使用时，只需在前导代码中申明工具包即可，即`\\usepackage{hyperref}`。\n",
    "\n",
    "有时，我们插入的网址链接太长，但LaTeX不会自动换行，往往会造成格式混乱的问题，这时，我们可以使用`url`工具包，并在该工具包中声明一个参数即可解决这个问题，相关命令为`\\usepackage[hyphens]{url}`。\n",
    "\n",
    "> 参考[Line breaks in URLs](https://latex.org/forum/viewtopic.php?f=44&t=4022)。\n",
    "\n",
    "【**例1**】在LaTeX中使用`hyperref`及`url`工具包插入超链接并设置自动换行。\n",
    "\n",
    "```tex\n",
    "\\documentclass[12pt]{article}\n",
    "\\usepackage[hyphens]{url}\n",
    "\\usepackage{hyperref}\n",
    "\n",
    "\\begin{document}\n",
    "\n",
    "This is the website of open-source latex-cookbook repository: \\url{https://github.com/xinychen/latex-cookbook}.\n",
    "\n",
    "\\end{document}\n",
    "```\n",
    "\n",
    "当然，有时候为了突出超链接，也可以在工具包`hyperref`中设置特定的颜色，设置的命令为`\\hypersetup`，一般放在前导代码中。\n",
    "\n",
    "> 参考[Website address](https://latex.org/forum/viewtopic.php?f=44&t=5115)。\n",
    "\n",
    "【**例2**】在LaTeX中使用`hyperref`工具包插入超链接并设置超链接颜色为蓝色。\n",
    "\n",
    "```tex\n",
    "\\documentclass[12pt]{article}\n",
    "\\usepackage{hyperref}\n",
    "\\hypersetup{colorlinks = true, urlcolor = blue}\n",
    "\n",
    "\\begin{document}\n",
    "\n",
    "This is the website of open-source latex-cookbook repository: \\url{https://github.com/xinychen/latex-cookbook}.\n",
    "\n",
    "\\end{document}\n",
    "```\n"
   ]
  },
  {
   "cell_type": "markdown",
   "metadata": {},
   "source": [
    "【回放】[**9.1 图表和公式的索引**](https://nbviewer.jupyter.org/github/xinychen/latex-cookbook/blob/main/chapter-9/section1.ipynb)\n",
    "\n",
    "【继续】[**9.3 Bibtex用法**](https://nbviewer.jupyter.org/github/xinychen/latex-cookbook/blob/main/chapter-9/section3.ipynb)"
   ]
  },
  {
   "cell_type": "markdown",
   "metadata": {},
   "source": [
    "### License\n",
    "\n",
    "<div class=\"alert alert-block alert-danger\">\n",
    "<b>This work is released under the MIT license.</b>\n",
    "</div>"
   ]
  }
 ],
 "metadata": {
  "kernelspec": {
   "display_name": "Python 3",
   "language": "python",
   "name": "python3"
  },
  "language_info": {
   "codemirror_mode": {
    "name": "ipython",
    "version": 3
   },
   "file_extension": ".py",
   "mimetype": "text/x-python",
   "name": "python",
   "nbconvert_exporter": "python",
   "pygments_lexer": "ipython3",
   "version": "3.8.3"
  }
 },
 "nbformat": 4,
 "nbformat_minor": 4
}
