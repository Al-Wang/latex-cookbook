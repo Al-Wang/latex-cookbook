{
 "cells": [
  {
   "cell_type": "markdown",
   "metadata": {},
   "source": [
    "## 8.2 算法伪代码\n",
    "\n",
    "算法这个词的英文是algorithm，它几乎贯穿了整个计算机的各个领域。算法伪代码作为自然语言与类编程语言组成的混合结构，它在描述算法结构和思路方面相比纯编程语言更简洁且可读性更好、相比自然语言则更准确，同时，我们也能很容易地将算法伪代码转换成计算机程序。因此，在计算机相关的技术文档或文献中，适当使用算法伪代码解释技术架构有时候会达到意想不到的效果。\n",
    "\n",
    "在LaTeX中，为了便于创建算法伪代码，现有很多相关的宏包，例如`algorithm`和`algorithmic`，在前导代码中申明使用相应的宏包如`\\usepackage{algorithm}`便可使用相应的算法伪代码环境。\n",
    "\n",
    "【**例1**】使用`algorithm`和`algorithmic`宏包中相应的环境创建一个简单的算法伪代码。\n",
    "\n",
    "```tex\n",
    "\\documentclass[12pt]{article}\n",
    "\\usepackage{algorithm}\n",
    "\\usepackage{algorithmic}\n",
    "\\usepackage{amsmath, amsfonts}\n",
    "\n",
    "\\begin{document}\n",
    "\n",
    "This is a simple example:\n",
    "\n",
    "\\begin{algorithm}\n",
    "\\renewcommand{\\algorithmicrequire}{\\textbf{Input:}}\n",
    "\\renewcommand{\\algorithmicensure}{\\textbf{Output:}}\n",
    "\\caption{Inner product of vectors}\n",
    "\\begin{algorithmic}[1]\n",
    "\\REQUIRE $\\boldsymbol{x},\\boldsymbol{y}\\in\\mathbb{R}^{n}$\n",
    "\\ENSURE $c$\n",
    "\\STATE $c=0$\n",
    "\\FOR{$i=1$ to $n$}\n",
    "\\STATE $c=c+x_iy_i$\n",
    "\\ENDFOR\n",
    "\\end{algorithmic}\n",
    "\\end{algorithm}\n",
    "\n",
    "\\end{document}\n",
    "```\n",
    "\n",
    "编译上述代码，得到的算法伪代码如图8.2.1所示。\n",
    "\n",
    "<p align=\"center\">\n",
    "<img align=\"middle\" src=\"graphics/example1.png\" width=\"750\" />\n",
    "</p>\n",
    "\n",
    "<center><b>图8.2.1</b> 编译后的算法伪代码</center>\n"
   ]
  },
  {
   "cell_type": "markdown",
   "metadata": {},
   "source": [
    "【回放】[**导言**](https://nbviewer.jupyter.org/github/xinychen/latex-cookbook/blob/main/chapter-8/section0.ipynb)\n",
    "\n",
    "【继续】[**8.2 xxxx**](https://nbviewer.jupyter.org/github/xinychen/latex-cookbook/blob/main/chapter-8/section2.ipynb)"
   ]
  },
  {
   "cell_type": "markdown",
   "metadata": {},
   "source": [
    "### License\n",
    "\n",
    "<div class=\"alert alert-block alert-danger\">\n",
    "<b>This work is released under the MIT license.</b>\n",
    "</div>"
   ]
  }
 ],
 "metadata": {
  "kernelspec": {
   "display_name": "Python 3",
   "language": "python",
   "name": "python3"
  },
  "language_info": {
   "codemirror_mode": {
    "name": "ipython",
    "version": 3
   },
   "file_extension": ".py",
   "mimetype": "text/x-python",
   "name": "python",
   "nbconvert_exporter": "python",
   "pygments_lexer": "ipython3",
   "version": "3.8.3"
  }
 },
 "nbformat": 4,
 "nbformat_minor": 4
}
