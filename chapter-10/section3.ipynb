{
 "cells": [
  {
   "cell_type": "markdown",
   "metadata": {},
   "source": [
    "## 10.3 海报制作\n",
    "\n",
    "参加过各类学术会议或研讨会的读者可能会知道：在各类学术交流中，除了制作幻灯片用于汇报，还有一种非常重要的展现成果方式就是海报 (poster)。制作海报的方式有很多种，这里将介绍如何使用LaTeX制作海报。\n",
    "\n",
    "在2010年的时候，LaTeX技术问答社区TeX StackExchange中有一个非常有趣的问题 (网址为[https://tex.stackexchange.com/questions/341](https://tex.stackexchange.com/questions/341))，问题的内容是“如何使用LaTeX制作在学术会议中展示研究成果的海报？有没有一些现成的文档类型可供使用？”，关于这个问题的讨论和回答非常精彩，问题的回答里面提到了各种工具，其中，最引人注意的是`tikzposter`和`beamerposter`这两种工具。时至今日，`tikzposter`和`beamerposter`这两种工具已经成为制作海报最为常用的文档类型，从名字上看，它们分别与用于绘制图形的tikz宏包和用于制作幻灯片的beamer文档类型密不可分，在这两种工具中，我们可以使用到一些简单好用的命令和样式。\n"
   ]
  },
  {
   "cell_type": "markdown",
   "metadata": {},
   "source": [
    "### 参考资料\n",
    "\n",
    "- [How to create posters using LaTeX](https://tex.stackexchange.com/questions/341)"
   ]
  },
  {
   "cell_type": "markdown",
   "metadata": {},
   "source": [
    "【回放】[**10.2 算法伪代码**](https://nbviewer.jupyter.org/github/xinychen/latex-cookbook/blob/main/chapter-10/section2.ipynb)\n",
    "\n",
    "【继续】[**10.4 简历制作**](https://nbviewer.jupyter.org/github/xinychen/latex-cookbook/blob/main/chapter-10/section4.ipynb)"
   ]
  },
  {
   "cell_type": "markdown",
   "metadata": {},
   "source": [
    "### License\n",
    "\n",
    "<div class=\"alert alert-block alert-danger\">\n",
    "<b>This work is released under the MIT license.</b>\n",
    "</div>"
   ]
  }
 ],
 "metadata": {
  "kernelspec": {
   "display_name": "Python 3",
   "language": "python",
   "name": "python3"
  },
  "language_info": {
   "codemirror_mode": {
    "name": "ipython",
    "version": 3
   },
   "file_extension": ".py",
   "mimetype": "text/x-python",
   "name": "python",
   "nbconvert_exporter": "python",
   "pygments_lexer": "ipython3",
   "version": "3.8.3"
  }
 },
 "nbformat": 4,
 "nbformat_minor": 4
}
