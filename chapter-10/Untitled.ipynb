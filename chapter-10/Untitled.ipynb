{
 "cells": [
  {
   "cell_type": "markdown",
   "id": "6aedf128",
   "metadata": {},
   "source": [
    "## 第十章 Latex进阶\n",
    "\n",
    "### 导言\n",
    "\n",
    "Latex除了在科研论文、科技报告以及幻灯片方面的制作，还有很多丰富的功能。结合大多数科研工作者的总体需要，我们在Latex高阶部分介绍一些很有用的内容，主要包括添加程序源代码、算法伪代码、海报制作和简历制作。添加程序源代码和算法伪代码对于科研报告往往是必要且有效的，因为代码可以展现计算机编程的思路和算法，可以供读者学习和使用。所以，能够学会添加简洁优美、整齐大方的源代码和伪代码是科研工作者的一项重要技能。对于科研工作者，在有些学术交流中，有一种非常重要的展现成果方式就是海报。LaTeX可以制作出优美简洁的海报，有很多模版可以方便制作者使用。另外，简历制作也是科研工作者经常需要用到的，同样LaTe提供了很多好用的模版，可以方便其使用。"
   ]
  },
  {
   "cell_type": "code",
   "execution_count": null,
   "id": "3cb7cbe8",
   "metadata": {},
   "outputs": [],
   "source": []
  }
 ],
 "metadata": {
  "kernelspec": {
   "display_name": "Python 3",
   "language": "python",
   "name": "python3"
  },
  "language_info": {
   "codemirror_mode": {
    "name": "ipython",
    "version": 3
   },
   "file_extension": ".py",
   "mimetype": "text/x-python",
   "name": "python",
   "nbconvert_exporter": "python",
   "pygments_lexer": "ipython3",
   "version": "3.8.8"
  }
 },
 "nbformat": 4,
 "nbformat_minor": 5
}
