{
 "cells": [
  {
   "cell_type": "markdown",
   "metadata": {},
   "source": [
    "## 10.1 基本介绍\n",
    "\n",
    "### 10.1.1 Beamer介绍\n",
    "\n",
    "在LateX中，有`seminar`、`slides`、`prosper`及`beamer`四种文档类型可以用来制作类似 Microsoft PowerPoint Package 的演示文稿，其中`beamer`是最常用的文档类型。`beamer`文档与普通的LaTeX文档类型`book`及`article`一样具有`.tex`的扩展名，可以在任何LaTeX编辑器中进行编写。beamer是的使用方法与其他的文档类型类似，并且具有海量的模板，简单的说，用latex排版论文的几乎所有优点它都有，公式排版与编号、图文排版编号、参考文献版本编号都一样，直接从论文中复制过来就可以用，同时他也几乎具有PowerPoint Package的所有功能，可以轻松创建叠加和动态效果，使用主题修改演示文稿的外观。\n",
    "\n",
    "### 10.1.2 frame环境\n"
   ]
  },
  {
   "cell_type": "markdown",
   "metadata": {},
   "source": [
    "【继续】[**10.2 基本介绍**](https://nbviewer.jupyter.org/github/xinychen/latex-cookbook/blob/main/chapter-10/section1.ipynb)"
   ]
  },
  {
   "cell_type": "markdown",
   "metadata": {},
   "source": [
    "### License\n",
    "\n",
    "<div class=\"alert alert-block alert-danger\">\n",
    "<b>This work is released under the MIT license.</b>\n",
    "</div>"
   ]
  }
 ],
 "metadata": {
  "kernelspec": {
   "display_name": "Python 3",
   "language": "python",
   "name": "python3"
  },
  "language_info": {
   "codemirror_mode": {
    "name": "ipython",
    "version": 3
   },
   "file_extension": ".py",
   "mimetype": "text/x-python",
   "name": "python",
   "nbconvert_exporter": "python",
   "pygments_lexer": "ipython3",
   "version": "3.8.3"
  }
 },
 "nbformat": 4,
 "nbformat_minor": 4
}
