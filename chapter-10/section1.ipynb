{
 "cells": [
  {
   "cell_type": "markdown",
   "metadata": {},
   "source": [
    "## 10.1 基本介绍\n",
    "\n",
    "### 10.1.1 Beamer介绍\n",
    "\n",
    "在LateX中，有`seminar`、`slides`、`prosper`及`beamer`四种文档类型可以用来制作类似 Microsoft PowerPoint Package 的演示文稿，其中`beamer`是最常用的文档类型。`beamer`文档与普通的LaTeX文档类型`book`及`article`一样具有`.tex`的扩展名，可以在任何LaTeX编辑器中进行编写。beamer是的使用方法与其他的文档类型类似，并且具有海量的模板，简单的说，用latex排版论文的几乎所有优点它都有，公式排版与编号、图文排版编号、参考文献版本编号都一样，直接从论文中复制过来就可以用，同时他也几乎具有PowerPoint Package的所有功能，可以轻松创建叠加和动态效果，使用主题修改演示文稿的外观。\n",
    "\n",
    "### 10.1.2 frame环境\n",
    "\n",
    "在`beamer`类型中，演示文稿由多个幻灯片组成，幻灯片由`\\frame[][]{}`命令或创建`frame`环境来插入演示文稿中，一页幻灯片通常由以下8个部分中的一些或全部所组成：\n",
    "\n",
    "- 标题和脚注：类似于LaTeX文章类型的页眉和页脚，用于显示演示文稿的一些相关信息；\n",
    "\n",
    "- 侧边栏：侧边栏由任一侧的所选主题自动生成，主要用于显示演示文稿的目录；\n",
    "\n",
    "- 导航栏：导航栏也由所选主题自动生成，主要用两个目的，一是，在演示过程中的任何时间点，观众都可以看到演讲内容已经涵盖了多少，还有哪些内容还没有进行；二是，如果需要，演示者可以通过单击相应的链接跳转到特定页；\n",
    "\n",
    "- 导航符号：每张幻灯片右下角的浅灰色小图标显示了八个默认导航符号。 这些从左到右被称为幻灯片图标、框架图标、小节图标、节图标、演示文稿图标、附录图标、后退和前进图标以及搜索图标。 每个幻灯片、框架、小节和节图标前面都有一个左箭头，后跟一个右箭头。 单击左箭头将引导至上一张幻灯片， 单击向右箭头将引导至下一张幻灯片；\n",
    "\n",
    "- 导航符号：每张幻灯片右下角的浅灰色小图标显示了八个默认导航符号。 这些从左到右被称为幻灯片图标、框架图标、小节图标、节图标、演示文稿图标、附录图标、后退和前进图标以及搜索图标。 每个幻灯片、框架、小节和节图标前面都有一个左箭头，后跟一个右箭头。 单击左箭头将引导至上一张幻灯片， 单击向右箭头将引导至下一张幻灯片\n",
    "\n",
    "- Logo：Logo一般为幻灯片作者或机构的标志符号，通过导言中的`\\logo{}`命令，可以在所有幻灯片页插入文字或图标。\n",
    "\n",
    "- 幻动片标题：可以在`frame`环境中，使用`\\frametitle{ }`和`\\framesubtitle{ }`命令为幻灯片添加标题和副标题。\n",
    "\n",
    "- 背景：每一页幻灯片都有一个背景，由背景画布和主背景组成。背景画布是一个填充整个框架的大矩形，主要背景和幻灯内容在背景画布上填充。\n",
    "\n",
    "- 幻灯片内容：幻灯片的内容可以是 LaTeX 支持的任何文本、图形，包括上述框架标题和副标题。"
   ]
  },
  {
   "cell_type": "markdown",
   "metadata": {},
   "source": [
    "【继续】[**10.2 基本介绍**](https://nbviewer.jupyter.org/github/xinychen/latex-cookbook/blob/main/chapter-10/section1.ipynb)"
   ]
  },
  {
   "cell_type": "markdown",
   "metadata": {},
   "source": [
    "### License\n",
    "\n",
    "<div class=\"alert alert-block alert-danger\">\n",
    "<b>This work is released under the MIT license.</b>\n",
    "</div>"
   ]
  }
 ],
 "metadata": {
  "kernelspec": {
   "display_name": "Python 3",
   "language": "python",
   "name": "python3"
  },
  "language_info": {
   "codemirror_mode": {
    "name": "ipython",
    "version": 3
   },
   "file_extension": ".py",
   "mimetype": "text/x-python",
   "name": "python",
   "nbconvert_exporter": "python",
   "pygments_lexer": "ipython3",
   "version": "3.8.3"
  }
 },
 "nbformat": 4,
 "nbformat_minor": 4
}
