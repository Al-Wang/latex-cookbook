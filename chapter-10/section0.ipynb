{
 "cells": [
  {
   "cell_type": "markdown",
   "metadata": {},
   "source": [
    "## 第十章 幻灯片制作\n",
    "\n",
    "### 导言\n",
    "\n",
    "本章将介绍如何使用Beamer文档类型制作幻灯片，具体内容包括：\n",
    "\n",
    "- Beamer文档类型和frame环境\n",
    "- 基本命令（如跨页命令`\\pause`）\n",
    "- 主题样式\n",
    "- 编辑文本（格式设置、文本、特殊符号、超链接、页眉、页脚、脚注、数学公式、参考文献）\n",
    "- 创建图表（创建表格、插入图形、使用`tikz`生成图形、图表位置以及对齐方式）\n",
    "- 分块环境（类似于PPT的文本框）\n",
    "- 定理环境（定义、引理、定理、证明）\n",
    "- 分列环境"
   ]
  },
  {
   "cell_type": "markdown",
   "metadata": {},
   "source": [
    "【继续】[**10.1 基本介绍**](https://nbviewer.jupyter.org/github/xinychen/latex-cookbook/blob/main/chapter-10/section1.ipynb)"
   ]
  },
  {
   "cell_type": "markdown",
   "metadata": {},
   "source": [
    "### License\n",
    "\n",
    "<div class=\"alert alert-block alert-danger\">\n",
    "<b>This work is released under the MIT license.</b>\n",
    "</div>"
   ]
  }
 ],
 "metadata": {
  "kernelspec": {
   "display_name": "Python 3",
   "language": "python",
   "name": "python3"
  },
  "language_info": {
   "codemirror_mode": {
    "name": "ipython",
    "version": 3
   },
   "file_extension": ".py",
   "mimetype": "text/x-python",
   "name": "python",
   "nbconvert_exporter": "python",
   "pygments_lexer": "ipython3",
   "version": "3.8.3"
  }
 },
 "nbformat": 4,
 "nbformat_minor": 4
}
