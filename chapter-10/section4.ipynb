{
 "cells": [
  {
   "cell_type": "markdown",
   "metadata": {},
   "source": [
    "### 10.4 简历制作\n",
    "\n",
    "简历是申请学位找工作的必备工具，一个精美简练的简历是我们打动心怡导师或HR的重要手段，与Microsoft office中的Word类似，LaTeX也可以用来制作简历。使用LaTeX制作简历主要分为创建LaTeX类文件及设计简历两个步骤。\n",
    "\n",
    "### 10.4.1 创建类文件\n",
    "\n",
    "在 LaTeX 文件中编写`documentclass{article}`时，包括了类文件`article.cls`。该类文件定义了组织文档的所有命令，比如片段和标题，它还配置这些命令如何影响页面的格式和布局。使用LaTeX制作简历时，我们需要自定义文档格式，其中最简洁的方法是将所有信息保存在个人类文件中，这样可以使文档的结构与格式完全分离，并且便于使用。因此，我们需要创建一个简历的类文件，例如`cv.cls`，然后在类文件内定义文档格式。\n",
    "\n",
    "\n",
    "### 10.4.2 设计简历"
   ]
  },
  {
   "cell_type": "code",
   "execution_count": null,
   "metadata": {},
   "outputs": [],
   "source": []
  }
 ],
 "metadata": {
  "kernelspec": {
   "display_name": "Python 3",
   "language": "python",
   "name": "python3"
  },
  "language_info": {
   "codemirror_mode": {
    "name": "ipython",
    "version": 3
   },
   "file_extension": ".py",
   "mimetype": "text/x-python",
   "name": "python",
   "nbconvert_exporter": "python",
   "pygments_lexer": "ipython3",
   "version": "3.8.3"
  }
 },
 "nbformat": 4,
 "nbformat_minor": 4
}
