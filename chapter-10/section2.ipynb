{
 "cells": [
  {
   "cell_type": "markdown",
   "metadata": {},
   "source": [
    "## 10.2 Beamer主题样式\n",
    "\n",
    "简而言之，主题样式就是幻灯片的“外观”，Beamer中提供的每种主题样式都具有良好的可用性和可读性，这也使得幻灯片看起来很专业，重复使用的难度也不大。\n",
    "\n",
    "### 10.2.1 基本介绍\n",
    "\n",
    "\n"
   ]
  },
  {
   "cell_type": "markdown",
   "metadata": {},
   "source": [
    "### 10.2.2 字体设置\n",
    "\n",
    "实际上，对于幻灯片的文本字体，我们可以调用字体样式对其进行调整，具体来说，在前导代码中要用到的命令为`\\usefonttheme{A}`，位置A填写的一般是字体类型，例如`serif`。\n",
    "\n",
    "【**例1**】使用`beamer`文档类型创建一个简单的幻灯片，并在前导代码中申明使用`serif`对应的字体样式。\n",
    "\n",
    "```tex\n",
    "\\documentclass{beamer}\n",
    "\\usefonttheme{serif}\n",
    "\n",
    "\\begin{document}\n",
    "\n",
    "\\begin{frame}\n",
    "\n",
    "This is a simple example for using \\alert{serif} font theme.\n",
    "\n",
    "\\end{frame}\n",
    "\n",
    "\\end{document}\n",
    "```\n",
    "\n",
    "我们知道：在常规文档中，可以使用各种字体对应的宏包达到调用字体的作用，使用规则为`\\usepackage{A}`，位置A填写的一般是字体类型，包括serif、avant、bookman、chancery、charter、euler、helvet、mathtime、mathptm、mathptmx、newcent、palatino、pifont、utopia等。\n",
    "\n",
    "【**例2**】使用`beamer`文档类型创建一个简单的幻灯片，并在前导代码中申明使用字体`palatino`对应的宏包。\n",
    "\n",
    "```tex\n",
    "\\documentclass{beamer}\n",
    "\\usepackage{palatino}\n",
    "\n",
    "\\begin{document}\n",
    "\n",
    "\\begin{frame}\n",
    "\n",
    "This is a simple example for using \\alert{palatino} font.\n",
    "\n",
    "\\end{frame}\n",
    "\n",
    "\\end{document}\n",
    "```\n",
    "\n",
    "\n",
    "### 10.2.3 主题颜色与文本颜色\n",
    "\n",
    "\n"
   ]
  },
  {
   "cell_type": "markdown",
   "metadata": {},
   "source": [
    "### 参考资料\n",
    "\n",
    "- Prathik Naidu, Adam Pahlavan. [Fun with Beamer: An Epic Quest To Create the Perfect Presentation](http://web.mit.edu/rsi/www/pdfs/beamer-tutorial.pdf), June 28, 2017."
   ]
  },
  {
   "cell_type": "markdown",
   "metadata": {},
   "source": [
    "【继续】[**10.1 基本介绍**](https://nbviewer.jupyter.org/github/xinychen/latex-cookbook/blob/main/chapter-10/section1.ipynb)\n",
    "\n",
    "【继续】[**10.3 幻灯片样式调整**](https://nbviewer.jupyter.org/github/xinychen/latex-cookbook/blob/main/chapter-10/section3.ipynb)"
   ]
  },
  {
   "cell_type": "markdown",
   "metadata": {},
   "source": [
    "### License\n",
    "\n",
    "<div class=\"alert alert-block alert-danger\">\n",
    "<b>This work is released under the MIT license.</b>\n",
    "</div>"
   ]
  }
 ],
 "metadata": {
  "kernelspec": {
   "display_name": "Python 3",
   "language": "python",
   "name": "python3"
  },
  "language_info": {
   "codemirror_mode": {
    "name": "ipython",
    "version": 3
   },
   "file_extension": ".py",
   "mimetype": "text/x-python",
   "name": "python",
   "nbconvert_exporter": "python",
   "pygments_lexer": "ipython3",
   "version": "3.8.3"
  }
 },
 "nbformat": 4,
 "nbformat_minor": 4
}
