{
 "cells": [
  {
   "cell_type": "markdown",
   "id": "2d05606f",
   "metadata": {},
   "source": [
    "## 5.8 导入表格\n",
    "\n"
   ]
  },
  {
   "cell_type": "markdown",
   "id": "a344cc69",
   "metadata": {},
   "source": [
    "【回放】[**5.7 旋转表格**](https://nbviewer.jupyter.org/github/xinychen/latex-cookbook/blob/main/chapter-5/section7.ipynb)"
   ]
  },
  {
   "cell_type": "markdown",
   "id": "c703669f",
   "metadata": {},
   "source": [
    "### License\n",
    "\n",
    "<div class=\"alert alert-block alert-danger\">\n",
    "<b>This work is released under the MIT license.</b>\n",
    "</div>"
   ]
  }
 ],
 "metadata": {
  "kernelspec": {
   "display_name": "Python 3 (ipykernel)",
   "language": "python",
   "name": "python3"
  },
  "language_info": {
   "codemirror_mode": {
    "name": "ipython",
    "version": 3
   },
   "file_extension": ".py",
   "mimetype": "text/x-python",
   "name": "python",
   "nbconvert_exporter": "python",
   "pygments_lexer": "ipython3",
   "version": "3.8.0"
  }
 },
 "nbformat": 4,
 "nbformat_minor": 5
}
