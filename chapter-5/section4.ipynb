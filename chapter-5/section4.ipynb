{
 "cells": [
  {
   "cell_type": "markdown",
   "id": "b7d7cf76",
   "metadata": {},
   "source": [
    "## 5.4 调整表格样式\n",
    "\n",
    "通过调用一些宏包及命令可以定制表格样式，从而创建更符合要求的表格。对表格样式的调整可以分为以下6个方面：表格尺寸、行高列宽、对齐方式、单元格内容格式、线宽、以及颜色填充。\n",
    "\n",
    "### （1）表格尺寸\n",
    "\n",
    "如果想要修改表格尺寸，首先使用`\\usepackage{graphicx}`语句调用`graphicx`宏包，并使用`\\resizebox{宽度}{高度}{内容}`命令，该命令以`tabular`环境构建的表格作为内容。为了避免产生不协调的尺寸，在设置参数时只需要设置`{宽度}`和`{高度}`中的一个即可，另一个以`!`作为参数，表示根据宽高比进行自动调整。\n",
    "\n",
    "【**例5-3**】使用`\\resizebox`命令调整表格尺寸。\n",
    "\n",
    "```tex\n",
    "\\documentclass[12pt]{article}\n",
    "\\usepackage{graphicx}\n",
    "\\begin{document}\n",
    "\n",
    "This is the description for the following table. This is the description for the following table. This is the description for the following table. This is the description for the following table.\n",
    "\n",
    "\\begin{table}[h]\n",
    "\\centering\n",
    "    \\caption{Title of a table.}\n",
    "    \\label{first label}\n",
    "    \\resizebox{0.8\\textwidth}{!}{\n",
    "    \\begin{tabular}{|l|l|l|l|}\n",
    "        \\hline\n",
    "        Column1 & Column2 & Column3 & Column4 \\\\\n",
    "        \\hline\n",
    "        A1 & A2 & A3 & A4 \\\\\n",
    "        \\hline\n",
    "        B1 & B2 & B3 & B4 \\\\\n",
    "        \\hline\n",
    "        C1 & C2 & C3 & C4 \\\\\n",
    "        \\hline\n",
    "    \\end{tabular}}\n",
    "\\end{table}   \n",
    "\n",
    "\\end{document}\n",
    "```\n",
    "\n",
    "编译上述代码，得到表格如 图X 所示。\n",
    "\n",
    "<p align=\"center\">\n",
    "<img align=\"middle\" src=\"graphics/eg5_6.png\" width=\"350\" />\n",
    "</p>\n",
    "\n",
    "<center><b>图5.1.1</b> 编译后的文档内容</center>\n",
    "\n",
    "### （2）行高列宽\n",
    "\n",
    "\n",
    "\n",
    "### （3）对齐方式\n",
    "\n",
    "### （4）单元格内容格式\n",
    "\n",
    "### （5）线宽\n",
    "\n",
    "### （6）颜色填充\n"
   ]
  }
 ],
 "metadata": {
  "kernelspec": {
   "display_name": "Python 3 (ipykernel)",
   "language": "python",
   "name": "python3"
  },
  "language_info": {
   "codemirror_mode": {
    "name": "ipython",
    "version": 3
   },
   "file_extension": ".py",
   "mimetype": "text/x-python",
   "name": "python",
   "nbconvert_exporter": "python",
   "pygments_lexer": "ipython3",
   "version": "3.8.0"
  }
 },
 "nbformat": 4,
 "nbformat_minor": 5
}
