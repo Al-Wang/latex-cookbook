{
 "cells": [
  {
   "cell_type": "markdown",
   "metadata": {},
   "source": [
    "## 第五章 表格制作\n",
    "\n",
    "### 导言\n",
    "\n",
    "在撰写科技论文时，往往需要使用表格对资料数据进行归纳、整理、统计学处理以及比较分析。针对论文中表格的制作和处理，本章主要介绍在LaTeX中如何实现相关操作：\n",
    "\n",
    "- 首先在第1节中对制作表格的环境和命令进行基本介绍；\n",
    "- 在第2、3节中进一步介绍在表格中如何合并单元格、插入斜线与表注；\n",
    "- 在第4节中介绍对表格样式的调整方式，包括对表格尺寸、单元格自动对齐与换行、小数点对齐、行高、列宽、线宽、以及表格字体大小的调整；\n",
    "- 在第5~8节中介绍如何创建特殊表格，分别为彩色表格、三线表格、跨页表格、旋转表格（或纵向表格）；\n",
    "- 在最后一节（第9节）中介绍如何从csv文件中导入表格。\n",
    "\n",
    "通过本章的学习，读者可以对使用LaTeX制作和编辑表格能有较为全面的认识和了解，从而能够高效地制作出优美而专业的表格。"
   ]
  },
  {
   "cell_type": "markdown",
   "metadata": {},
   "source": [
    "【继续】[**5.1 基本介绍**](https://nbviewer.jupyter.org/github/xinychen/latex-cookbook/blob/main/chapter-5/section1.ipynb)"
   ]
  },
  {
   "cell_type": "markdown",
   "metadata": {},
   "source": [
    "### License\n",
    "\n",
    "<div class=\"alert alert-block alert-danger\">\n",
    "<b>This work is released under the MIT license.</b>\n",
    "</div>"
   ]
  }
 ],
 "metadata": {
  "kernelspec": {
   "display_name": "Python 3 (ipykernel)",
   "language": "python",
   "name": "python3"
  },
  "language_info": {
   "codemirror_mode": {
    "name": "ipython",
    "version": 3
   },
   "file_extension": ".py",
   "mimetype": "text/x-python",
   "name": "python",
   "nbconvert_exporter": "python",
   "pygments_lexer": "ipython3",
   "version": "3.8.0"
  }
 },
 "nbformat": 4,
 "nbformat_minor": 4
}
