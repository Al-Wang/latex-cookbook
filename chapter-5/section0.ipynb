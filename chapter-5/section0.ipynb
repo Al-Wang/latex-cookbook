{
 "cells": [
  {
   "cell_type": "markdown",
   "metadata": {},
   "source": [
    "## 第五章 表格制作\n",
    "\n",
    "### 导言\n",
    "\n",
    "统计表格是实验数据、统计结果或事物分类的一种有效表达形式，是论文中经常使用的一种特殊信息语言。在撰写科技论文的过程中，通过正确使用统计表格，对获取到的资料数据进行归纳、整理、统计学处理以及比较分析，探寻数据的内在规律和关联性，有助于得出正确结论。本章主要介绍在LaTeX中如何制作表格及调整表格和内容格式。"
   ]
  },
  {
   "cell_type": "markdown",
   "metadata": {},
   "source": [
    "【继续】[**5.1 基本介绍**](https://nbviewer.jupyter.org/github/xinychen/latex-cookbook/blob/main/chapter-5/section1.ipynb)"
   ]
  },
  {
   "cell_type": "markdown",
   "metadata": {},
   "source": [
    "### License\n",
    "\n",
    "<div class=\"alert alert-block alert-danger\">\n",
    "<b>This work is released under the MIT license.</b>\n",
    "</div>"
   ]
  }
 ],
 "metadata": {
  "kernelspec": {
   "display_name": "Python 3",
   "language": "python",
   "name": "python3"
  },
  "language_info": {
   "codemirror_mode": {
    "name": "ipython",
    "version": 3
   },
   "file_extension": ".py",
   "mimetype": "text/x-python",
   "name": "python",
   "nbconvert_exporter": "python",
   "pygments_lexer": "ipython3",
   "version": "3.8.8"
  }
 },
 "nbformat": 4,
 "nbformat_minor": 4
}
