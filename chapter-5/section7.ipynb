{
 "cells": [
  {
   "cell_type": "markdown",
   "id": "837b3808",
   "metadata": {},
   "source": [
    "## 5.7 旋转表格\n",
    "\n",
    "当表格列数太多时，横向表格的展现效果较差，这时需要将表格旋转90度，以纵向表格的形式展现。在LaTeX中可以通过调用`rotating`宏包，并使用`sidewaystable`环境取代`table`环境、嵌套`tabular`环境创建纵向表格（表格逆时针旋转90度）。\n",
    "\n",
    "【**例5-13**】调用`rotating`宏包及`sidewaystable`环境创建纵向表格。\n",
    "\n",
    "```tex\n",
    "\\documentclass[12pt]{article}\n",
    "\\usepackage{rotating}\n",
    "\\usepackage{booktabs}\n",
    "\\begin{document}\n",
    "\n",
    "\\begin{sidewaystable}[h]\n",
    "\\centering\n",
    "    \\caption{Title of a table.}\n",
    "    \\label{first label}\n",
    "    \\begin{tabular}{cccc}\n",
    "        \\toprule\n",
    "        Column1 & Column2 & Column3 & Column4\\\\\n",
    "        \\midrule\n",
    "        A1 & A2 & A3 & A4\\\\\n",
    "        B1 & B2 & B3 & B4\\\\\n",
    "        C1 & C2 & C3 & C4\\\\\n",
    "        \\bottomrule\n",
    "    \\end{tabular}\n",
    "\\end{sidewaystable}\n",
    "\n",
    "\\end{document}\n",
    "```\n",
    "\n",
    "编译上述代码，得到表格如图5.2.11所示。\n",
    "<p align=\"center\">\n",
    "<img align=\"middle\" src=\"graphics/eg5_20.png\" height=\"500\" />\n",
    "</p>\n",
    "\n",
    "<center><b>图5.2.11</b> 编译后的文档内容</center>\n"
   ]
  },
  {
   "cell_type": "markdown",
   "id": "3fce7b91",
   "metadata": {},
   "source": [
    "【回放】[**5.6 创建跨页表格**](https://nbviewer.jupyter.org/github/xinychen/latex-cookbook/blob/main/chapter-5/section6.ipynb)\n",
    "\n",
    "【继续】[**5.8 导入表格**](https://nbviewer.jupyter.org/github/xinychen/latex-cookbook/blob/main/chapter-5/section8.ipynb)"
   ]
  },
  {
   "cell_type": "markdown",
   "id": "b6054f8c",
   "metadata": {},
   "source": [
    "### License\n",
    "\n",
    "<div class=\"alert alert-block alert-danger\">\n",
    "<b>This work is released under the MIT license.</b>\n",
    "</div>"
   ]
  }
 ],
 "metadata": {
  "kernelspec": {
   "display_name": "Python 3 (ipykernel)",
   "language": "python",
   "name": "python3"
  },
  "language_info": {
   "codemirror_mode": {
    "name": "ipython",
    "version": 3
   },
   "file_extension": ".py",
   "mimetype": "text/x-python",
   "name": "python",
   "nbconvert_exporter": "python",
   "pygments_lexer": "ipython3",
   "version": "3.8.0"
  }
 },
 "nbformat": 4,
 "nbformat_minor": 5
}
