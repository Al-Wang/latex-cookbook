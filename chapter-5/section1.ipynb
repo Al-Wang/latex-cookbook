{
 "cells": [
  {
   "cell_type": "markdown",
   "metadata": {},
   "source": [
    "## 5.1 基本介绍\n",
    "\n",
    "表格是展现数据的一种准确的方式，LaTeX提供了很多表格环境，可用于制作各类表格，例如，`tabular`、`tabularx`和`longtable`。在这些表格环境中，如果要使用`tabular`和`tabularx`的话，还得搭配`table`等环境才能让表格进行自动编号甚至进行索引。\n",
    "\n",
    "### 5.1.1 使用`tabular`环境制作表格\n",
    "\n",
    "`tabular`是LaTeX中最为常用的表格环境，表格的每一列的对齐方式都要进行设置，在设置时，一般用左中右三个英文单词的首字母，即`l`、`c`和`r`，分别对应着left、center和right。举例来说，`\\begin{tabular}{l|cccc}`表示表格的第一列是居左对齐，第二列之第五列是居中对齐，竖杠用于生成列之间的分割线。\n",
    "\n",
    "【**例1**】使用`tabular`环境制作一个简单的表格。\n",
    "\n",
    "```tex\n",
    "\\documentclass[12pt]{article}\n",
    "\\begin{document}\n",
    "\n",
    "\\begin{center}\n",
    "    \\begin{tabular}{l|cccc}\n",
    "        \\hline\n",
    "        & $x=1$ & $x=2$ & $x=3$ & $x=4$ \\\\\n",
    "        \\hline\n",
    "        $y=x$ & 1 & 2 & 3 & 4 \\\\\n",
    "        $y=x^{2}$ & 1 & 4 & 9 & 16 \\\\\n",
    "        $y=x^{3}$ & 1 & 8 & 27 & 64 \\\\\n",
    "        \\hline\n",
    "    \\end{tabular}\n",
    "\\end{center}\n",
    "\n",
    "\\end{document}\n",
    "```\n",
    "\n",
    "【**例2**】使用`table`和`tabular`环境制作一个简单的表格。\n",
    "\n",
    "```tex\n",
    "\\documentclass[12pt]{article}\n",
    "\\begin{document}\n",
    "\n",
    "Table~\\ref{table1} shows the values of some basic functions.\n",
    "\n",
    "\\begin{table}\n",
    "    \\centering\n",
    "    \\caption{The values of some basic functions.}\n",
    "    \\begin{tabular}{l|cccc}\n",
    "        \\hline\n",
    "        & $x=1$ & $x=2$ & $x=3$ & $x=4$ \\\\\n",
    "        \\hline\n",
    "        $y=x$ & 1 & 2 & 3 & 4 \\\\\n",
    "        $y=x^{2}$ & 1 & 4 & 9 & 16 \\\\\n",
    "        $y=x^{3}$ & 1 & 8 & 27 & 64 \\\\\n",
    "        \\hline\n",
    "    \\end{tabular}\n",
    "    \\label{table1}\n",
    "\\end{table}\n",
    "\n",
    "\\end{document}\n",
    "```"
   ]
  },
  {
   "cell_type": "markdown",
   "metadata": {},
   "source": [
    "【回放】[**导言**](https://nbviewer.jupyter.org/github/xinychen/latex-cookbook/blob/main/chapter-5/section0.ipynb)\n",
    "\n",
    "【继续】[**5.2 xxxx**](https://nbviewer.jupyter.org/github/xinychen/latex-cookbook/blob/main/chapter-5/section2.ipynb)"
   ]
  },
  {
   "cell_type": "markdown",
   "metadata": {},
   "source": [
    "### License\n",
    "\n",
    "<div class=\"alert alert-block alert-danger\">\n",
    "<b>This work is released under the MIT license.</b>\n",
    "</div>"
   ]
  }
 ],
 "metadata": {
  "kernelspec": {
   "display_name": "Python 3",
   "language": "python",
   "name": "python3"
  },
  "language_info": {
   "codemirror_mode": {
    "name": "ipython",
    "version": 3
   },
   "file_extension": ".py",
   "mimetype": "text/x-python",
   "name": "python",
   "nbconvert_exporter": "python",
   "pygments_lexer": "ipython3",
   "version": "3.8.3"
  }
 },
 "nbformat": 4,
 "nbformat_minor": 4
}
